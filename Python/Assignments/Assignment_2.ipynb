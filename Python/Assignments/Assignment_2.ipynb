{
 "cells": [
  {
   "cell_type": "markdown",
   "id": "bd4238a4-d6d3-43a6-a41c-4e98f1064b6b",
   "metadata": {},
   "source": [
    "### 1.What are the two values of the Boolean data type? How do you write them?"
   ]
  },
  {
   "cell_type": "markdown",
   "id": "d0127db0-6f18-482e-97f0-4fb8cc04174e",
   "metadata": {},
   "source": [
    "##### The two values of Boolean data type are True and False. These values represent the two logical states of truth and falsehood, respectively.\n",
    "##### In Python, the Boolean values True and False are written exactly as shown, with an uppercase \"T\" and \"F,\" respectively. It's important to note that they are case-sensitive, so writing them in lowercase (true, false) will result in a NameError since they are not recognized as Boolean values.\n",
    "##### Boolean values are commonly used in conditions, logical operations, and controlling the flow of program execution. They play a crucial role in decision-making and determining the behavior of programs based on the truth or falsehood of certain conditions."
   ]
  },
  {
   "cell_type": "markdown",
   "id": "c30c180b-1b67-456a-9c97-365ce4ac0bfb",
   "metadata": {},
   "source": [
    "### 2. What are the three different types of Boolean operators?"
   ]
  },
  {
   "cell_type": "markdown",
   "id": "7f1f708b-3f87-4094-9381-5fc0e1a1d736",
   "metadata": {},
   "source": [
    "##### In Python, there are three different types of Boolean operators: and, or, and not. These operators are used to perform logical operations on Boolean values or expressions."
   ]
  },
  {
   "cell_type": "markdown",
   "id": "948ee7f1-bdc3-444a-957f-3d90190b958c",
   "metadata": {},
   "source": [
    " ##### and Operator: The and operator returns True if both operands are True, and False otherwise.\n",
    "####  It evaluates expressions from left to right and short-circuits if the first expression is False, as the overall result will be False regardless of the other expressions."
   ]
  },
  {
   "cell_type": "code",
   "execution_count": 2,
   "id": "b0d84ef2-8a96-4232-a8f2-0f4fde73667d",
   "metadata": {},
   "outputs": [
    {
     "name": "stdout",
     "output_type": "stream",
     "text": [
      "False\n",
      "True\n"
     ]
    }
   ],
   "source": [
    "a=True\n",
    "b=False\n",
    "c=True\n",
    "print(a and b)\n",
    "print(a and c)"
   ]
  },
  {
   "cell_type": "markdown",
   "id": "6b3a2307-bc4b-4d9b-87b1-e1b8c7524dba",
   "metadata": {},
   "source": [
    "#### or Operator: The or operator returns True if at least one of the operands is True, and False otherwise.\n",
    "#### It evaluates expressions from left to right and short-circuits if the first expression is True, as the overall result will be True regardless of the other expressions."
   ]
  },
  {
   "cell_type": "code",
   "execution_count": 3,
   "id": "82152618-0fc9-40d5-9f39-5dae2c4098fa",
   "metadata": {},
   "outputs": [
    {
     "name": "stdout",
     "output_type": "stream",
     "text": [
      "True\n",
      "True\n"
     ]
    }
   ],
   "source": [
    "a=True\n",
    "b=False\n",
    "c=True\n",
    "print(a or b)\n",
    "print(a or c)"
   ]
  },
  {
   "cell_type": "markdown",
   "id": "2c860bd8-52fa-41d4-af81-d96f8e05c245",
   "metadata": {},
   "source": [
    "#### not Operator: The not operator is a unary operator that returns the opposite of the operand's logical value.\n",
    "#### It negates a Boolean value, resulting in True if the operand is False, and False if the operand is True."
   ]
  },
  {
   "cell_type": "code",
   "execution_count": 4,
   "id": "f3f379b7-efd7-4f97-abe7-e875066d4bd6",
   "metadata": {},
   "outputs": [
    {
     "name": "stdout",
     "output_type": "stream",
     "text": [
      "False\n",
      "True\n"
     ]
    }
   ],
   "source": [
    "a=True\n",
    "b=False\n",
    "print(not a)\n",
    "print(not b)"
   ]
  },
  {
   "cell_type": "markdown",
   "id": "6e400730-f796-4f3e-9726-c55d547fa684",
   "metadata": {},
   "source": [
    "#### These Boolean operators can be used to combine Boolean values or expressions to perform more complex logical operations. They are fundamental tools for evaluating conditions, creating logical expressions, and controlling program flow based on truth values."
   ]
  },
  {
   "cell_type": "markdown",
   "id": "2a1b2c96-8b87-4f33-a719-eef5ce32172d",
   "metadata": {},
   "source": [
    "### 3. Make a list of each Boolean operator&#39;s truth tables (i.e. every possible combination of Boolean values for the operator and what it evaluate )."
   ]
  },
  {
   "cell_type": "code",
   "execution_count": 11,
   "id": "91112f9d-a28f-4751-9d75-46cc4ee96413",
   "metadata": {},
   "outputs": [
    {
     "data": {
      "image/png": "[encoded data removed]",
      "text/plain": [
       "<PIL.PngImagePlugin.PngImageFile image mode=RGBA size=717x247>"
      ]
     },
     "metadata": {},
     "output_type": "display_data"
    }
   ],
   "source": [
    "from PIL import Image\n",
    "from IPython.display import display\n",
    "image=Image.open(\"/home/jovyan/work/My Assignments !!/and Truth Table.PNG\")\n",
    "display(image)"
   ]
  },
  {
   "cell_type": "code",
   "execution_count": 12,
   "id": "c4ef7080-5c1e-4f60-add0-fa75632eafe6",
   "metadata": {},
   "outputs": [
    {
     "data": {
      "image/png": "[encoded data removed]",
      "text/plain": [
       "<PIL.PngImagePlugin.PngImageFile image mode=RGBA size=686x253>"
      ]
     },
     "metadata": {},
     "output_type": "display_data"
    }
   ],
   "source": [
    "from PIL import Image\n",
    "from IPython.display import display\n",
    "image=Image.open(\"/home/jovyan/work/My Assignments !!/OR Truth Table.PNG\")\n",
    "display(image)"
   ]
  },
  {
   "cell_type": "code",
   "execution_count": 13,
   "id": "eae3ee07-7d90-4b3c-85c0-a4a070beaa40",
   "metadata": {},
   "outputs": [
    {
     "data": {
      "image/png": "[encoded data removed]",
      "text/plain": [
       "<PIL.PngImagePlugin.PngImageFile image mode=RGBA size=715x182>"
      ]
     },
     "metadata": {},
     "output_type": "display_data"
    }
   ],
   "source": [
    "from PIL import Image\n",
    "from IPython.display import display\n",
    "image=Image.open(\"/home/jovyan/work/My Assignments !!/NOT Truth Table.PNG\")\n",
    "display(image)"
   ]
  },
  {
   "cell_type": "markdown",
   "id": "f90224e1-89dc-49c2-8e4e-4aa50733ca06",
   "metadata": {},
   "source": [
    "### 4. What are the values of the following expressions?"
   ]
  },
  {
   "cell_type": "code",
   "execution_count": 15,
   "id": "4c8b1fca-63eb-4642-8b81-78e3f4fd65ea",
   "metadata": {},
   "outputs": [
    {
     "data": {
      "text/plain": [
       "False"
      ]
     },
     "execution_count": 15,
     "metadata": {},
     "output_type": "execute_result"
    }
   ],
   "source": [
    "(5 > 4) and (3 == 5)"
   ]
  },
  {
   "cell_type": "code",
   "execution_count": 16,
   "id": "7ece9e08-064d-4f9b-ba7a-a9d84fbc3f43",
   "metadata": {},
   "outputs": [
    {
     "data": {
      "text/plain": [
       "False"
      ]
     },
     "execution_count": 16,
     "metadata": {},
     "output_type": "execute_result"
    }
   ],
   "source": [
    "not (5 > 4)"
   ]
  },
  {
   "cell_type": "code",
   "execution_count": 17,
   "id": "c1d0e83d-081f-4d8c-ab4a-921467099937",
   "metadata": {},
   "outputs": [
    {
     "data": {
      "text/plain": [
       "True"
      ]
     },
     "execution_count": 17,
     "metadata": {},
     "output_type": "execute_result"
    }
   ],
   "source": [
    "(5 > 4) or (3 == 5)"
   ]
  },
  {
   "cell_type": "code",
   "execution_count": 18,
   "id": "c9fbfe43-4865-4530-9085-fcbe0e9160de",
   "metadata": {},
   "outputs": [
    {
     "data": {
      "text/plain": [
       "False"
      ]
     },
     "execution_count": 18,
     "metadata": {},
     "output_type": "execute_result"
    }
   ],
   "source": [
    "not ((5 > 4) or (3 == 5))"
   ]
  },
  {
   "cell_type": "code",
   "execution_count": 19,
   "id": "1ef5c33e-a9fb-43ae-9267-fb3364fb290c",
   "metadata": {},
   "outputs": [
    {
     "data": {
      "text/plain": [
       "False"
      ]
     },
     "execution_count": 19,
     "metadata": {},
     "output_type": "execute_result"
    }
   ],
   "source": [
    "(True and True) and (True == False)"
   ]
  },
  {
   "cell_type": "code",
   "execution_count": 20,
   "id": "2af73943-f455-4ff0-ab87-4d2c67409a25",
   "metadata": {},
   "outputs": [
    {
     "data": {
      "text/plain": [
       "True"
      ]
     },
     "execution_count": 20,
     "metadata": {},
     "output_type": "execute_result"
    }
   ],
   "source": [
    "(not False) or (not True)"
   ]
  },
  {
   "cell_type": "markdown",
   "id": "29bccf00-4b43-4e55-9657-e9ea420fc8a6",
   "metadata": {},
   "source": [
    "### 5. What are the six comparison operators?"
   ]
  },
  {
   "cell_type": "markdown",
   "id": "4a418a37-824f-4362-9550-d5f3e865e641",
   "metadata": {},
   "source": [
    " #### >, >=,< ,<=, ==,!="
   ]
  },
  {
   "cell_type": "markdown",
   "id": "6653a8fc-2284-417f-8c86-23551a88c0e2",
   "metadata": {},
   "source": [
    " #### The six comparison operators in Python are as follows:\n",
    "#### 1) Equal to (==): Checks if two values are equal and returns True if they are, and False otherwise.\n",
    "#### 2) Not equal to (!=): Checks if two values are not equal and returns True if they are not, and False otherwise.\n",
    "#### 3) Greater than (>): Checks if the left operand is greater than the right operand and returns True if it is, and False otherwise.\n",
    "#### 4) Less than (<): Checks if the left operand is less than the right operand and returns True if it is, and False otherwise.\n",
    "#### 5) Greater than or equal to (>=): Checks if the left operand is greater than or equal to the right operand and returns True if it is, and False otherwise.\n",
    "#### 6) Less than or equal to (<=): Checks if the left operand is less than or equal to the right operand and returns True if it is, and False otherwise.\n",
    "\n",
    "#### These comparison operators are commonly used to compare values and determine the relationship between them. They return Boolean values (True or False) based on the evaluation of the specified condition.\n",
    "\n",
    "\n",
    "\n",
    "\n",
    "\n"
   ]
  },
  {
   "cell_type": "markdown",
   "id": "f69f48e3-f7bd-4dc5-9df1-39826c2c52a7",
   "metadata": {},
   "source": [
    "### 6. How do you tell the difference between the equal to and assignment operators?Describe a condition and when you would use one."
   ]
  },
  {
   "cell_type": "markdown",
   "id": "8a551865-9be8-4635-b1b3-c559916c8f98",
   "metadata": {},
   "source": [
    "####  Equal to (==): Checks if two values are equal and returns True if they are, and False otherwise.\n",
    "#### Assignment Operator (=) : Used to assign a value to variable"
   ]
  },
  {
   "cell_type": "code",
   "execution_count": 22,
   "id": "45d27989-8d9c-45de-836d-6ba86f3adab4",
   "metadata": {},
   "outputs": [
    {
     "name": "stdout",
     "output_type": "stream",
     "text": [
      " The value of x is 5\n"
     ]
    }
   ],
   "source": [
    "# Assignment Operator\n",
    "x = 5\n",
    "# Equal to operatot to check the value\n",
    "if x == 5:\n",
    "    print(\" The value of x is 5\")\n",
    "else :\n",
    "    print(\" The value of x is not equal to 5\")"
   ]
  },
  {
   "cell_type": "markdown",
   "id": "03f2fe72-5b4d-4520-9470-f649e45102b1",
   "metadata": {},
   "source": [
    "7. Identify the three blocks in this code:\n",
    "spam = 0\n",
    "if spam == 10:\n",
    "print(&#39;eggs&#39;)\n",
    "if spam &gt; 5:\n",
    "print(&#39;bacon&#39;)\n",
    "else:\n",
    "print(&#39;ham&#39;)\n",
    "print(&#39;spam&#39;)\n",
    "print(&#39;spam&#39;)"
   ]
  },
  {
   "cell_type": "code",
   "execution_count": 28,
   "id": "8ad77a99-5b86-452c-84c2-e0d30659264a",
   "metadata": {},
   "outputs": [
    {
     "name": "stdin",
     "output_type": "stream",
     "text": [
      "Enter the value : 10\n"
     ]
    },
    {
     "name": "stdout",
     "output_type": "stream",
     "text": [
      "Code Block 1 starts\n",
      "eggs\n",
      "Code Block 1 ends\n",
      "Code Block 2 starts\n",
      "bacon\n",
      "Code Block 2 ends\n",
      "Code Block 3 starts\n",
      "spam\n",
      "spam\n"
     ]
    }
   ],
   "source": [
    "spam = int(input(\"Enter the value :\"))\n",
    "print(\"Code Block 1 starts\")\n",
    "if spam == 10:\n",
    "    print(\"eggs\")\n",
    "    print(\"Code Block 1 ends\")\n",
    "    \n",
    "\n",
    "print(\"Code Block 2 starts\")\n",
    "if spam > 5:\n",
    "    print(\"bacon\")\n",
    "    print(\"Code Block 2 ends\")\n",
    "    \n",
    "    print(\"Code Block 3 starts\")\n",
    "else:\n",
    "        print(\"ham\")\n",
    "        print(\"Code Block 3 ends\")\n",
    "print(\"spam\")\n",
    "print(\"spam\")"
   ]
  },
  {
   "cell_type": "markdown",
   "id": "250ce964-8ea6-47ac-b467-c1c424e30cc5",
   "metadata": {},
   "source": [
    "### 8. Write code that prints Hello if 1 is stored in spam, prints Howdy if 2 is stored in spam, and prints Greetings! if anything else is stored in spam."
   ]
  },
  {
   "cell_type": "code",
   "execution_count": 31,
   "id": "90cef961-15d1-4366-81e5-cdeb57170c2a",
   "metadata": {},
   "outputs": [
    {
     "name": "stdin",
     "output_type": "stream",
     "text": [
      "Enter the value : -5\n"
     ]
    },
    {
     "name": "stdout",
     "output_type": "stream",
     "text": [
      "Greetings\n"
     ]
    }
   ],
   "source": [
    "spam = int(input(\"Enter the value :\"))\n",
    "if spam == 1:\n",
    "    print(\"Hello\")\n",
    "elif spam == 2:\n",
    "    print(\"Howdy\")\n",
    "else :\n",
    "    print(\"Greetings\")"
   ]
  },
  {
   "cell_type": "markdown",
   "id": "cf44de27-2083-4ffc-85c7-6f2cb0959dee",
   "metadata": {},
   "source": [
    "### 9.If your programme is stuck in an endless loop, what keys you’ll press?"
   ]
  },
  {
   "cell_type": "markdown",
   "id": "ae07470c-ad04-46eb-a064-5d32b19b853d",
   "metadata": {},
   "source": [
    "#### Ctrl + C .These key combinations send an interrupt signal to the running program, which should terminate its execution and break out of the loop."
   ]
  },
  {
   "cell_type": "markdown",
   "id": "39884bb8-16d8-4189-8dda-86db19b2d452",
   "metadata": {},
   "source": [
    "### 10. How can you tell the difference between break and continue?"
   ]
  },
  {
   "cell_type": "markdown",
   "id": "c82f12fa-c871-47ad-b898-9e2e8770437e",
   "metadata": {},
   "source": [
    "#### The key difference is that \"break\" terminates the loop entirely, while \"continue\" skips the current iteration and proceeds to the next iteration of the loop."
   ]
  },
  {
   "cell_type": "markdown",
   "id": "377731db-edf6-4a23-bf19-9ac685cec210",
   "metadata": {},
   "source": [
    "#### Break: The \"break\" statement is used to immediately exit or terminate the innermost loop (such as \"for\" or \"while\" loop) when a certain condition is met. When encountered, the program will exit the loop entirely and continue executing the code that follows the loop. It effectively \"breaks\" out of the loop's execution. The loop will not continue to iterate or execute any remaining code within the loop block."
   ]
  },
  {
   "cell_type": "code",
   "execution_count": 1,
   "id": "e66a2f5c-f7b5-4d8d-8cd7-c668f0d59ac5",
   "metadata": {},
   "outputs": [
    {
     "name": "stdout",
     "output_type": "stream",
     "text": [
      "1\n",
      "2\n",
      "3\n",
      "4\n"
     ]
    }
   ],
   "source": [
    "for i in range(1, 10):\n",
    "    if i == 5:\n",
    "        break\n",
    "    print(i)\n"
   ]
  },
  {
   "cell_type": "markdown",
   "id": "ba7a5168-95c1-4fe4-8d5a-b016492fd774",
   "metadata": {},
   "source": [
    "#### In this example, when i becomes equal to 5, the \"break\" statement is encountered, and the loop terminates immediately. The output stops printing the numbers from 5 to 9 because the loop is exited."
   ]
  },
  {
   "cell_type": "markdown",
   "id": "70bf9222-f615-4b6a-bfc0-604c6bfbcddb",
   "metadata": {},
   "source": [
    "#### Continue: The \"continue\" statement is used to skip the current iteration of a loop when a certain condition is met, but it does not terminate the loop entirely. When encountered, the program will skip the remaining code within the loop for the current iteration and move to the next iteration. It effectively \"continues\" to the next iteration of the loop."
   ]
  },
  {
   "cell_type": "code",
   "execution_count": 2,
   "id": "36d47c11-27c3-4fa5-a88c-c661e206560b",
   "metadata": {},
   "outputs": [
    {
     "name": "stdout",
     "output_type": "stream",
     "text": [
      "1\n",
      "2\n",
      "3\n",
      "4\n",
      "6\n",
      "7\n",
      "8\n",
      "9\n"
     ]
    }
   ],
   "source": [
    "for i in range(1, 10):\n",
    "    if i == 5:\n",
    "        continue\n",
    "    print(i)"
   ]
  },
  {
   "cell_type": "markdown",
   "id": "6b3ec58f-61da-4f24-93fe-9d5e73494d96",
   "metadata": {},
   "source": [
    "#### In this example, when i becomes equal to 5, the \"continue\" statement is encountered, and it skips the current iteration of the loop and moves to the next iteration. So the numbers 6 to 9 are printer after 1 to 4 and 5 is skipped"
   ]
  },
  {
   "cell_type": "markdown",
   "id": "3af4799d-5c82-44dc-ae2c-3021b877fa7e",
   "metadata": {},
   "source": [
    "### 11. In a for loop, what is the difference between range(10), range(0, 10), and range(0, 10, 1)?"
   ]
  },
  {
   "cell_type": "markdown",
   "id": "d58e7979-f2cb-4989-befb-a4c6103ac4c9",
   "metadata": {},
   "source": [
    "#### All the 3 statements give the same result\n"
   ]
  },
  {
   "cell_type": "code",
   "execution_count": 7,
   "id": "c4b00bf6-a618-4763-837f-bd98d43d91f2",
   "metadata": {},
   "outputs": [
    {
     "data": {
      "image/png": "[encoded data removed]",
      "text/plain": [
       "<PIL.PngImagePlugin.PngImageFile image mode=RGBA size=558x215>"
      ]
     },
     "metadata": {},
     "output_type": "display_data"
    }
   ],
   "source": [
    "from PIL import Image\n",
    "from IPython.display import display\n",
    "image=Image.open(\"/home/jovyan/work/My Assignments !!/range.PNG\")\n",
    "display(image)"
   ]
  },
  {
   "cell_type": "code",
   "execution_count": 5,
   "id": "018115c4-cde2-4c8f-866f-d2a06242c151",
   "metadata": {},
   "outputs": [
    {
     "name": "stdout",
     "output_type": "stream",
     "text": [
      "range(10)\n",
      "0\n",
      "1\n",
      "2\n",
      "3\n",
      "4\n",
      "5\n",
      "6\n",
      "7\n",
      "8\n",
      "9\n",
      "range(0,10)\n",
      "0\n",
      "1\n",
      "2\n",
      "3\n",
      "4\n",
      "5\n",
      "6\n",
      "7\n",
      "8\n",
      "9\n",
      "range(0,10,1)\n",
      "0\n",
      "1\n",
      "2\n",
      "3\n",
      "4\n",
      "5\n",
      "6\n",
      "7\n",
      "8\n",
      "9\n"
     ]
    }
   ],
   "source": [
    "print(\"range(10)\")\n",
    "for i in range(10):\n",
    "    print(i)\n",
    "    \n",
    "print(\"range(0,10)\")\n",
    "for i in range(0,10):\n",
    "    print(i)\n",
    "    \n",
    "print(\"range(0,10,1)\")\n",
    "for i in range(0,10,1):\n",
    "    print(i)\n",
    "    "
   ]
  },
  {
   "cell_type": "markdown",
   "id": "ef9e10e6-1b72-4b26-913e-b04a2da46019",
   "metadata": {},
   "source": [
    "### 12. Write a short program that prints the numbers 1 to 10 using a for loop. Then write an equivalent program that prints the numbers 1 to 10 using a while loop."
   ]
  },
  {
   "cell_type": "code",
   "execution_count": 8,
   "id": "1ac3b161-6669-4cb4-b3bd-397fcec5e872",
   "metadata": {},
   "outputs": [
    {
     "name": "stdout",
     "output_type": "stream",
     "text": [
      "1\n",
      "2\n",
      "3\n",
      "4\n",
      "5\n",
      "6\n",
      "7\n",
      "8\n",
      "9\n",
      "10\n"
     ]
    }
   ],
   "source": [
    "for i in range(1,11):\n",
    "    print(i)"
   ]
  },
  {
   "cell_type": "code",
   "execution_count": 10,
   "id": "f298ea38-a3bc-47e2-a161-6661b10f81f0",
   "metadata": {},
   "outputs": [
    {
     "name": "stdout",
     "output_type": "stream",
     "text": [
      "1\n",
      "2\n",
      "3\n",
      "4\n",
      "5\n",
      "6\n",
      "7\n",
      "8\n",
      "9\n",
      "10\n"
     ]
    }
   ],
   "source": [
    "num=1\n",
    "while num < 11:\n",
    "    print(num)\n",
    "    num=num+1\n",
    "    "
   ]
  },
  {
   "cell_type": "markdown",
   "id": "b8f59378-e249-4b69-a173-d88e95b951d1",
   "metadata": {},
   "source": [
    "### 13. If you had a function named bacon() inside a module named spam, how would you call it after importing spam?"
   ]
  },
  {
   "cell_type": "markdown",
   "id": "1458852c-c21a-409b-a65d-24a0629744fe",
   "metadata": {},
   "source": [
    "#### After importing the module spam, you can call the function bacon() using the dot notation, specifying the module name and the function name."
   ]
  },
  {
   "cell_type": "code",
   "execution_count": 11,
   "id": "be909b5e-e0ce-429d-be61-e6eae7e3b792",
   "metadata": {},
   "outputs": [
    {
     "ename": "ModuleNotFoundError",
     "evalue": "No module named 'spam'",
     "output_type": "error",
     "traceback": [
      "\u001b[0;31m---------------------------------------------------------------------------\u001b[0m",
      "\u001b[0;31mModuleNotFoundError\u001b[0m                       Traceback (most recent call last)",
      "Cell \u001b[0;32mIn [11], line 1\u001b[0m\n\u001b[0;32m----> 1\u001b[0m \u001b[38;5;28;01mimport\u001b[39;00m \u001b[38;5;21;01mspam\u001b[39;00m\n\u001b[1;32m      2\u001b[0m spam\u001b[38;5;241m.\u001b[39mbacon()\n",
      "\u001b[0;31mModuleNotFoundError\u001b[0m: No module named 'spam'"
     ]
    }
   ],
   "source": [
    "import spam\n",
    "spam.bacon()"
   ]
  },
  {
   "cell_type": "code",
   "execution_count": null,
   "id": "e83b4c90-3c7b-4d37-a4d0-0549fa4c1212",
   "metadata": {},
   "outputs": [],
   "source": []
  }
 ],
 "metadata": {
  "kernelspec": {
   "display_name": "Python 3 (ipykernel)",
   "language": "python",
   "name": "python3"
  },
  "language_info": {
   "codemirror_mode": {
    "name": "ipython",
    "version": 3
   },
   "file_extension": ".py",
   "mimetype": "text/x-python",
   "name": "python",
   "nbconvert_exporter": "python",
   "pygments_lexer": "ipython3",
   "version": "3.10.6"
  }
 },
 "nbformat": 4,
 "nbformat_minor": 5
}
