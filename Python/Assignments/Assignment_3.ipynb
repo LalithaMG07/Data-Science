{
 "cells": [
  {
   "cell_type": "markdown",
   "id": "b6ccf7c7-94e2-4d28-b9bb-451ebacc3c0b",
   "metadata": {},
   "source": [
    "## 1. Why are functions advantageous to have in your programs?"
   ]
  },
  {
   "cell_type": "markdown",
   "id": "1b40e818-9658-4e72-b59a-3b1ccd8d82bc",
   "metadata": {},
   "source": [
    "Functions are advantageous to have in programs for several reasons:\n",
    "\n",
    "Code organization and modularity: Functions allow you to break down your program into smaller, self-contained units of code. Each function can perform a specific task or operation, making your code more organized and easier to understand. By dividing your program into functions, you can also reuse code and avoid repetition.\n",
    "\n",
    "Code reusability: Functions can be reused in different parts of a program or even in other programs. Once you define a function, you can call it multiple times without having to rewrite the same code. This promotes code efficiency, reduces redundancy, and simplifies maintenance.\n",
    "\n",
    "Abstraction and encapsulation: Functions provide a level of abstraction by hiding the implementation details of a particular task or operation. Other parts of the program can use the function without needing to know how it works internally. This promotes code encapsulation, making it easier to manage and maintain complex programs.\n",
    "\n",
    "Readability and comprehension: Functions enhance code readability by giving meaningful names to blocks of code that perform specific operations. Well-named functions can make your program's logic more understandable and make it easier for other developers to collaborate on the codebase.\n",
    "\n",
    "Testing and debugging: Functions can be individually tested and debugged, which simplifies the process of identifying and fixing issues in your code. By isolating specific functionality within functions, you can focus your debugging efforts on smaller units of code, making it easier to identify and resolve errors.\n",
    "\n",
    "Code efficiency: Functions can improve code efficiency by promoting modular design and reducing duplication. Instead of repeating the same code in multiple places, you can encapsulate it within a function and call that function whenever needed. This not only saves development time but also reduces the overall size of your code.\n",
    "\n",
    "Overall, functions provide a structured approach to programming, enabling code reuse, enhancing readability, promoting modularity, and facilitating maintenance and collaboration.\n",
    "\n",
    "\n",
    "\n",
    "\n",
    "\n",
    "\n",
    "\n"
   ]
  },
  {
   "cell_type": "markdown",
   "id": "343b287e-ed87-41e0-a999-c083d7f0f7ea",
   "metadata": {},
   "source": [
    "## 2. When does the code in a function run: when it&#39;s specified or when it&#39;s called?"
   ]
  },
  {
   "cell_type": "markdown",
   "id": "c91dc422-4819-445e-979a-76ade295a059",
   "metadata": {},
   "source": [
    "The code in a function is run when the function is called"
   ]
  },
  {
   "cell_type": "markdown",
   "id": "63dc938a-11de-4d40-8df0-e2d77d98e3fd",
   "metadata": {},
   "source": [
    "## 3. What statement creates a function?"
   ]
  },
  {
   "cell_type": "markdown",
   "id": "d5a380de-f7a6-4672-9a63-2d532fc86e62",
   "metadata": {},
   "source": [
    "The def statement is used to create a function. The def statement is followed by the name of the function, parentheses for any parameters, and a colon to indicate the start of the function's block of code."
   ]
  },
  {
   "cell_type": "markdown",
   "id": "59114cd3-c120-4dbc-9e2f-5d954fdd1dd7",
   "metadata": {},
   "source": [
    "## 4. What is the difference between a function and a function call?"
   ]
  },
  {
   "cell_type": "markdown",
   "id": "0eab882b-6678-49d6-a369-6d96ebfb3d95",
   "metadata": {},
   "source": [
    "A function and a function call are distinct concepts in programming. Here's an explanation of the difference between them:\n",
    "\n",
    "Function: A function is a named block of reusable code that performs a specific task or operation. It is a self-contained unit that can accept input parameters (if any) and may produce a result or have side effects when executed. Functions are defined using a specific syntax and can be called from different parts of the program.\n",
    "\n",
    "Function Call: A function call, also known as invoking or executing a function, is the act of using a function in a program at a specific point to perform its defined task. When a function is called, the program transfers control to that function, executes its code, and then returns control to the point immediately after the function call. Function calls typically include passing arguments (input values) if the function requires them."
   ]
  },
  {
   "cell_type": "markdown",
   "id": "ae34e3b3-9f49-44d7-a6b2-ec4742622a76",
   "metadata": {},
   "source": [
    "## 5. How many global scopes are there in a Python program? How many local scopes?"
   ]
  },
  {
   "cell_type": "markdown",
   "id": "94439046-f905-4f93-a505-41230770f0ad",
   "metadata": {},
   "source": [
    "In a Python program, there is typically one global scope and multiple local scopes. Here's a breakdown of the scopes:\n",
    "\n",
    "Global Scope: The global scope refers to the top-level scope of a Python program. It is the outermost scope and is accessible throughout the entire program. Variables, functions, and classes defined in the global scope are considered global entities and can be accessed from any part of the program, including within local scopes.\n",
    "\n",
    "Local Scopes: Local scopes are created when functions or classes are defined. Each function or class definition introduces a new local scope. Local scopes are independent of each other and of the global scope. Variables, functions, or classes defined within a local scope are only accessible within that specific scope or within nested inner scopes."
   ]
  },
  {
   "cell_type": "markdown",
   "id": "ca884a5c-9916-4f16-87ea-79b9a255bdfa",
   "metadata": {},
   "source": [
    "## 6. What happens to variables in a local scope when the function call returns?"
   ]
  },
  {
   "cell_type": "markdown",
   "id": "c49cee86-07a1-4f6a-86cd-8d0e1f37ad7c",
   "metadata": {},
   "source": [
    "When a function call returns in Python, the local variables within that function's local scope are destroyed or deallocated. This means that the memory allocated for those variables is freed up and can be used for other purposes."
   ]
  },
  {
   "cell_type": "markdown",
   "id": "d3969a0c-fd7e-4830-8b0d-ec184bef448a",
   "metadata": {},
   "source": [
    "## 7. What is the concept of a return value? Is it possible to have a return value in an expression?"
   ]
  },
  {
   "cell_type": "markdown",
   "id": "38a359ee-92d0-475d-97cf-fc37b511d477",
   "metadata": {},
   "source": [
    "In computer programming, a return value refers to the value that a function or method produces and sends back to the code that called it. When a function is executed, it may perform certain operations or calculations, and then it can optionally return a value to the caller.\n",
    "\n",
    "The concept of a return value is essential for functions to provide useful results or data to the rest of the program. By returning a value, a function can communicate information back to the caller, which can then use that value for further processing, store it in a variable, or pass it as an argument to another function.\n",
    "\n",
    "Yes, it is possible to have a return value in an expression. In many programming languages, you can use a function call or a method invocation as part of an expression. When a function or method call is used in an expression, it is evaluated, and its return value is used as a part of the overall expression."
   ]
  },
  {
   "cell_type": "markdown",
   "id": "41f45ec3-ab32-4933-8ce1-2dcc9a1ed4bf",
   "metadata": {},
   "source": [
    "## 8. If a function does not have a return statement, what is the return value of a call to that function?"
   ]
  },
  {
   "cell_type": "markdown",
   "id": "63b421de-2031-4eff-9e71-b5c056a636f9",
   "metadata": {},
   "source": [
    "If a function does not have a return statement, or if it reaches the end of the function body without encountering a return statement, the function is considered to have an implicit return value. In most programming languages, including popular ones like Python, the implicit return value in such cases is None.\n",
    "\n",
    "None is a special value that represents the absence of a value or the lack of a meaningful result. It is often used to indicate that a function does not return any specific value or that the return value is not applicable in a particular context."
   ]
  },
  {
   "cell_type": "code",
   "execution_count": 1,
   "id": "28e8926f-7e9d-418b-85a0-dca6445c2855",
   "metadata": {},
   "outputs": [
    {
     "name": "stdout",
     "output_type": "stream",
     "text": [
      "Hello, Alice!\n",
      "None\n"
     ]
    }
   ],
   "source": [
    "def greet(name):\n",
    "    print(\"Hello, \" + name + \"!\")\n",
    "\n",
    "result = greet(\"Alice\")\n",
    "print(result)\n"
   ]
  },
  {
   "cell_type": "markdown",
   "id": "7ade8bb1-9be6-4782-8a73-00fdb4731dec",
   "metadata": {},
   "source": [
    "## 9. How do you make a function variable refer to the global variable?"
   ]
  },
  {
   "cell_type": "markdown",
   "id": "e0cc4ed8-85be-4385-9f82-fd12eaacd156",
   "metadata": {},
   "source": [
    "To make a function variable refer to a global variable, you can use the global keyword in many programming languages, including Python. The global keyword allows you to indicate that a variable within a function should refer to the global variable with the same name."
   ]
  },
  {
   "cell_type": "code",
   "execution_count": 2,
   "id": "75594737-c2c7-4a46-b081-6a5d268f2dc8",
   "metadata": {},
   "outputs": [
    {
     "name": "stdout",
     "output_type": "stream",
     "text": [
      "10\n",
      "20\n"
     ]
    }
   ],
   "source": [
    "global_var = 10\n",
    "\n",
    "def update_global():\n",
    "    global global_var\n",
    "    global_var = 20\n",
    "\n",
    "print(global_var)  # Output: 10\n",
    "update_global()\n",
    "print(global_var)  # Output: 20\n"
   ]
  },
  {
   "cell_type": "markdown",
   "id": "c2d801fe-34e1-43c9-bafa-e1dc339b043a",
   "metadata": {},
   "source": [
    "## 10. What is the data type of None?"
   ]
  },
  {
   "cell_type": "code",
   "execution_count": 3,
   "id": "2af8e47a-10e7-4dcb-941e-6fa268209deb",
   "metadata": {},
   "outputs": [
    {
     "data": {
      "text/plain": [
       "NoneType"
      ]
     },
     "execution_count": 3,
     "metadata": {},
     "output_type": "execute_result"
    }
   ],
   "source": [
    "type(None)"
   ]
  },
  {
   "cell_type": "markdown",
   "id": "9f1402bb-6df1-448d-8914-c82ae513ce98",
   "metadata": {},
   "source": [
    "In most programming languages, including Python, None is considered a special value that represents the absence of a value or the lack of a meaningful result. It is often used to indicate that a variable or expression does not have a value assigned or that a function does not return any specific value.\n",
    "\n",
    "In Python specifically, the data type of None is called NoneType. It is a built-in singleton object that belongs to the NoneType class. This means that None is an instance of the NoneType class and is the only instance of that class."
   ]
  },
  {
   "cell_type": "markdown",
   "id": "b496a675-7289-4420-9997-67a6dc9a962c",
   "metadata": {},
   "source": [
    "## 11. What does the sentence import areallyourpetsnamederic do?"
   ]
  },
  {
   "cell_type": "markdown",
   "id": "3161ca5d-f318-471b-80f2-e65495404e20",
   "metadata": {},
   "source": [
    "The sentence \"import areallyourpetsnamederic\" is not a valid Python import statement. In Python, the import keyword is used to bring modules or packages into the current program's namespace, allowing you to access their functionality."
   ]
  },
  {
   "cell_type": "markdown",
   "id": "e44aab8f-c135-4213-9d42-bdd75ffa3a41",
   "metadata": {},
   "source": [
    "## 12. If you had a bacon() feature in a spam module, what would you call it after importing spam?"
   ]
  },
  {
   "cell_type": "markdown",
   "id": "1c22b2a3-87c4-4c19-9baf-f4e8c618e4d6",
   "metadata": {},
   "source": [
    "If you have a bacon() feature in a module named spam and you import the spam module, you can call the bacon() feature using the following syntax:"
   ]
  },
  {
   "cell_type": "code",
   "execution_count": 4,
   "id": "0ffaccc8-3b55-454f-b1d6-22b74eb4178e",
   "metadata": {},
   "outputs": [
    {
     "ename": "ModuleNotFoundError",
     "evalue": "No module named 'spam'",
     "output_type": "error",
     "traceback": [
      "\u001b[0;31m---------------------------------------------------------------------------\u001b[0m",
      "\u001b[0;31mModuleNotFoundError\u001b[0m                       Traceback (most recent call last)",
      "Cell \u001b[0;32mIn [4], line 1\u001b[0m\n\u001b[0;32m----> 1\u001b[0m \u001b[38;5;28;01mimport\u001b[39;00m \u001b[38;5;21;01mspam\u001b[39;00m\n\u001b[1;32m      3\u001b[0m spam\u001b[38;5;241m.\u001b[39mbacon()\n",
      "\u001b[0;31mModuleNotFoundError\u001b[0m: No module named 'spam'"
     ]
    }
   ],
   "source": [
    "import spam\n",
    "\n",
    "spam.bacon()\n"
   ]
  },
  {
   "cell_type": "markdown",
   "id": "18187822-70bb-432e-b2ce-da8974fcc416",
   "metadata": {},
   "source": [
    "In this code, import spam imports the spam module, making its contents accessible in the current program's namespace. To call the bacon() feature, you prepend the module name (spam) followed by a dot (.) to the function name (bacon()). This syntax ensures that you are invoking the bacon() function from the spam module.\n",
    "\n",
    "By using spam.bacon(), you can access and utilize the functionality provided by the bacon() feature defined within the spam module.\n"
   ]
  },
  {
   "cell_type": "markdown",
   "id": "5fdd6a7b-3b95-4979-bcd9-83f135021502",
   "metadata": {},
   "source": [
    "## 13. What can you do to save a programme from crashing if it encounters an error?"
   ]
  },
  {
   "cell_type": "markdown",
   "id": "9f45e3fe-f49d-4511-8d03-bdfa903da1e4",
   "metadata": {},
   "source": [
    "To prevent a program from crashing when it encounters an error, you can implement error handling mechanisms such as exception handling. By using exception handling, you can catch and handle specific types of errors that may occur during program execution. Instead of the program abruptly terminating, you can gracefully handle the error and continue with the execution or provide appropriate feedback to the user.\n",
    "\n",
    "Here are some common techniques to save a program from crashing:\n",
    "\n",
    "Try-Except: Use a try-except block to catch and handle specific exceptions. Place the code that may raise an exception within the try block, and provide one or more except blocks to handle specific types of exceptions.\n",
    "Finally: Utilize the finally block to specify code that should be executed regardless of whether an exception occurred or not. It is typically used for cleanup operations.\n",
    "Logging: Implement logging to record error information and relevant details. Logging allows you to capture and store error messages or other information that can aid in troubleshooting.\n",
    "\n",
    "Graceful Degradation: Plan for potential errors by implementing fallback mechanisms or alternative workflows. This ensures that even if a specific operation fails, the program can continue functioning with limited functionality or provide alternative solutions.\n",
    "\n",
    "Input Validation: Validate user input or external data to minimize the likelihood of encountering errors or unexpected behavior. Verify the input meets the expected format or requirements before processing it.\n",
    "\n",
    "By combining these techniques and applying appropriate error handling strategies throughout your code, you can make your program more resilient and prevent it from crashing when errors occur.\n"
   ]
  },
  {
   "cell_type": "markdown",
   "id": "1d7630ac-6f7a-4717-b631-9edc5cd1936f",
   "metadata": {},
   "source": [
    "## 14. What is the purpose of the try clause? What is the purpose of the except clause?"
   ]
  },
  {
   "cell_type": "markdown",
   "id": "0961fc62-e526-4e72-929a-d61f14c283bc",
   "metadata": {},
   "source": [
    "The try and except clauses are key components of exception handling in many programming languages, including Python. They work together to handle and manage exceptions that may occur during program execution.\n",
    "\n",
    "The purpose of the try clause is to enclose a block of code that might raise exceptions. It defines a region where you anticipate that exceptions might occur. By placing potentially error-prone code within a try block, you can proactively handle exceptions and prevent them from causing the program to crash.\n",
    "The purpose of the except clause is to define the code that handles specific types of exceptions. It allows you to specify which exception types you want to catch and define the appropriate actions to take when those exceptions occur. By providing one or more except blocks, you can handle different types of exceptions separately.\n",
    "\n",
    "When an exception occurs within the try block, the program searches for a matching except block. If the exception type matches the one specified in an except block, the code within that block is executed. If no matching except block is found, the exception propagates to the next higher-level error handling mechanism or terminates the program.\n"
   ]
  },
  {
   "cell_type": "code",
   "execution_count": null,
   "id": "ba1b0f79-9280-49e6-8cda-1ae856479995",
   "metadata": {},
   "outputs": [],
   "source": []
  }
 ],
 "metadata": {
  "kernelspec": {
   "display_name": "Python 3 (ipykernel)",
   "language": "python",
   "name": "python3"
  },
  "language_info": {
   "codemirror_mode": {
    "name": "ipython",
    "version": 3
   },
   "file_extension": ".py",
   "mimetype": "text/x-python",
   "name": "python",
   "nbconvert_exporter": "python",
   "pygments_lexer": "ipython3",
   "version": "3.10.6"
  }
 },
 "nbformat": 4,
 "nbformat_minor": 5
}
