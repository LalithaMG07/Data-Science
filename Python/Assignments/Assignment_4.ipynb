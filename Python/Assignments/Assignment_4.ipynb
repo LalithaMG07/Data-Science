{
 "cells": [
  {
   "cell_type": "markdown",
   "id": "962a713b-8a8d-43f2-8e00-43a49fb2f9e9",
   "metadata": {},
   "source": [
    "1. What exactly is []?"
   ]
  },
  {
   "cell_type": "markdown",
   "id": "36aa9817-09f7-4e2d-87c6-c969a545721c",
   "metadata": {},
   "source": [
    "In Python, [] is an empty list literal. It represents a list data structure that contains no elements. Lists are ordered collections of objects, and [] is the syntax used to denote an empty list.\n",
    "\n",
    "Here are some key points about []:\n",
    "\n",
    "It is used to create an empty list with no elements.\n",
    "Lists are mutable, which means you can add, remove, or modify elements in the list.\n",
    "An empty list can be assigned to a variable or used directly in expressions.\n",
    "An empty list has a length of 0 (len([]) == 0).\n",
    "It is often used as a starting point to which elements can be added dynamically."
   ]
  },
  {
   "cell_type": "code",
   "execution_count": 1,
   "id": "3aa930c8-0f00-4a48-a27d-7958f53444d6",
   "metadata": {},
   "outputs": [
    {
     "name": "stdout",
     "output_type": "stream",
     "text": [
      "[]\n",
      "0\n"
     ]
    }
   ],
   "source": [
    "empty_list=[]\n",
    "print(empty_list)\n",
    "print(len(empty_list))"
   ]
  },
  {
   "cell_type": "markdown",
   "id": "c4af8c99-f2b3-4a7f-a0bf-8279d1802014",
   "metadata": {},
   "source": [
    "2. In a list of values stored in a variable called spam, how would you assign the value &#39;hello&#39; as the\n",
    "third value? (Assume [2, 4, 6, 8, 10] are in spam.)"
   ]
  },
  {
   "cell_type": "code",
   "execution_count": 4,
   "id": "856e5cde-fb90-4f95-b394-6552551af4e5",
   "metadata": {},
   "outputs": [
    {
     "name": "stdout",
     "output_type": "stream",
     "text": [
      "[2, 4, 6, 8, 10]\n",
      "[2, 4, 'hello', 8, 10]\n"
     ]
    }
   ],
   "source": [
    "spam=[2,4,6,8,10]\n",
    "print(spam)\n",
    "spam[2]=\"hello\"\n",
    "print(spam)"
   ]
  },
  {
   "cell_type": "markdown",
   "id": "4001562a-5f47-467e-b2f8-270ea6b1dc5a",
   "metadata": {},
   "source": [
    "Let&#39;s pretend the spam includes the list [&#39;a&#39;, &#39;b&#39;, &#39;c&#39;, &#39;d&#39;] for the next three queries."
   ]
  },
  {
   "cell_type": "code",
   "execution_count": 5,
   "id": "fb046f9e-1766-4cb9-a3f1-545bdb7483a2",
   "metadata": {},
   "outputs": [],
   "source": [
    "spam=['a','b','c','d']"
   ]
  },
  {
   "cell_type": "markdown",
   "id": "9c290f55-3ac2-4880-8838-c83a398ab5dc",
   "metadata": {},
   "source": [
    "3. What is the value of spam[int(int(&#39;3&#39; * 2) / 11)]?"
   ]
  },
  {
   "cell_type": "code",
   "execution_count": 7,
   "id": "17847436-1542-4a39-baa1-d9fc790ab753",
   "metadata": {},
   "outputs": [
    {
     "data": {
      "text/plain": [
       "'d'"
      ]
     },
     "execution_count": 7,
     "metadata": {},
     "output_type": "execute_result"
    }
   ],
   "source": [
    "spam[int(int('3' * 2) / 11)]"
   ]
  },
  {
   "cell_type": "code",
   "execution_count": 8,
   "id": "24cd0188-4939-4486-b67d-af4a7a0b0128",
   "metadata": {},
   "outputs": [
    {
     "data": {
      "text/plain": [
       "33"
      ]
     },
     "execution_count": 8,
     "metadata": {},
     "output_type": "execute_result"
    }
   ],
   "source": [
    "int('3'*2)\n"
   ]
  },
  {
   "cell_type": "code",
   "execution_count": 9,
   "id": "b83a16c8-cfba-41f7-9705-721799a6f001",
   "metadata": {},
   "outputs": [
    {
     "data": {
      "text/plain": [
       "3"
      ]
     },
     "execution_count": 9,
     "metadata": {},
     "output_type": "execute_result"
    }
   ],
   "source": [
    "int(int('3' * 2) / 11)"
   ]
  },
  {
   "cell_type": "code",
   "execution_count": 10,
   "id": "e761a209-11e7-4090-9fd7-3ed51c3b3303",
   "metadata": {},
   "outputs": [
    {
     "data": {
      "text/plain": [
       "'d'"
      ]
     },
     "execution_count": 10,
     "metadata": {},
     "output_type": "execute_result"
    }
   ],
   "source": [
    "spam[3]"
   ]
  },
  {
   "cell_type": "markdown",
   "id": "6c5801f5-2f61-47c8-8a8c-df8942340c57",
   "metadata": {},
   "source": [
    "4. What is the value of spam[-1]?"
   ]
  },
  {
   "cell_type": "code",
   "execution_count": 11,
   "id": "d84f929c-fe84-47dc-8a71-eb5d397006e4",
   "metadata": {},
   "outputs": [
    {
     "data": {
      "text/plain": [
       "'d'"
      ]
     },
     "execution_count": 11,
     "metadata": {},
     "output_type": "execute_result"
    }
   ],
   "source": [
    "spam[-1]"
   ]
  },
  {
   "cell_type": "markdown",
   "id": "02940f43-cf61-4123-b2f5-568aa1b5132c",
   "metadata": {},
   "source": [
    "What is the value of spam[:2]?"
   ]
  },
  {
   "cell_type": "code",
   "execution_count": 12,
   "id": "baae75b6-9ab1-45d1-87f0-83e24ada8249",
   "metadata": {},
   "outputs": [
    {
     "data": {
      "text/plain": [
       "['a', 'b']"
      ]
     },
     "execution_count": 12,
     "metadata": {},
     "output_type": "execute_result"
    }
   ],
   "source": [
    "spam[:2]"
   ]
  },
  {
   "cell_type": "markdown",
   "id": "6fb3c71f-c7cb-4456-89c4-394a4dcf53f1",
   "metadata": {},
   "source": [
    "Let&#39;s pretend bacon has the list [3.14, &#39;cat,&#39; 11, &#39;cat,&#39; True] for the next three questions."
   ]
  },
  {
   "cell_type": "code",
   "execution_count": 13,
   "id": "ab86c367-1662-4b6e-905e-455dc9d34463",
   "metadata": {},
   "outputs": [],
   "source": [
    "bacon=[3.14,'cat',11,'cat',True]"
   ]
  },
  {
   "cell_type": "markdown",
   "id": "615d2911-2e1b-4c90-a748-3c117633fb70",
   "metadata": {},
   "source": [
    "6. What is the value of bacon.index(&#39;cat&#39;)?"
   ]
  },
  {
   "cell_type": "code",
   "execution_count": 14,
   "id": "e17cba86-f273-4678-9bfe-6931abe6d16e",
   "metadata": {},
   "outputs": [
    {
     "data": {
      "text/plain": [
       "1"
      ]
     },
     "execution_count": 14,
     "metadata": {},
     "output_type": "execute_result"
    }
   ],
   "source": [
    "bacon.index('cat')"
   ]
  },
  {
   "cell_type": "markdown",
   "id": "4463af36-4d55-431c-baef-77ce819758ae",
   "metadata": {},
   "source": [
    "7. How does bacon.append(99) change the look of the list value in bacon?"
   ]
  },
  {
   "cell_type": "markdown",
   "id": "8c013992-6e71-44b1-90e8-cf381f9b5596",
   "metadata": {},
   "source": [
    "99 will be added to the end of the list after the element True"
   ]
  },
  {
   "cell_type": "code",
   "execution_count": 15,
   "id": "32cbe1e4-e168-4e4c-a078-182c76b07c27",
   "metadata": {},
   "outputs": [],
   "source": [
    "bacon.append(99)"
   ]
  },
  {
   "cell_type": "code",
   "execution_count": 16,
   "id": "ab199d3d-c904-4985-bf88-2739d164411c",
   "metadata": {},
   "outputs": [
    {
     "data": {
      "text/plain": [
       "[3.14, 'cat', 11, 'cat', True, 99]"
      ]
     },
     "execution_count": 16,
     "metadata": {},
     "output_type": "execute_result"
    }
   ],
   "source": [
    "bacon"
   ]
  },
  {
   "cell_type": "markdown",
   "id": "d8138a49-55f5-4aa2-9c8f-18e70e840e7d",
   "metadata": {},
   "source": [
    "8. How does bacon.remove(&#39;cat&#39;) change the look of the list in bacon?"
   ]
  },
  {
   "cell_type": "code",
   "execution_count": 17,
   "id": "44e6cc98-923e-4aa2-b6d9-f71daced41a2",
   "metadata": {},
   "outputs": [],
   "source": [
    "bacon.remove('cat')"
   ]
  },
  {
   "cell_type": "code",
   "execution_count": 18,
   "id": "950cc0fe-abbf-4666-b5ca-f56c3dede798",
   "metadata": {},
   "outputs": [
    {
     "data": {
      "text/plain": [
       "[3.14, 11, 'cat', True, 99]"
      ]
     },
     "execution_count": 18,
     "metadata": {},
     "output_type": "execute_result"
    }
   ],
   "source": [
    "bacon"
   ]
  },
  {
   "cell_type": "code",
   "execution_count": null,
   "id": "7152f019-2b86-4df0-86d6-58194598759a",
   "metadata": {},
   "outputs": [],
   "source": [
    "This will remove the first occurence of cat"
   ]
  },
  {
   "cell_type": "markdown",
   "id": "50c712f0-8680-48ab-9802-3bc8dc52545d",
   "metadata": {},
   "source": [
    "9. What are the list concatenation and list replication operators?"
   ]
  },
  {
   "cell_type": "markdown",
   "id": "a23661d3-fd01-4e98-89dc-5168692f0df3",
   "metadata": {},
   "source": [
    "List Concatenation Operator:\n",
    "The list concatenation operator is represented by the + symbol.\n",
    "It is used to concatenate two or more lists, creating a new list that contains all the elements from the original lists in the order they were concatenated.\n",
    "The original lists remain unchanged."
   ]
  },
  {
   "cell_type": "code",
   "execution_count": 19,
   "id": "fed3cd5a-6f69-47f9-8078-ae18c25203a1",
   "metadata": {},
   "outputs": [
    {
     "name": "stdout",
     "output_type": "stream",
     "text": [
      "[1, 2, 3, 4, 5, 6]\n"
     ]
    }
   ],
   "source": [
    "list1 = [1, 2, 3]\n",
    "list2 = [4, 5, 6]\n",
    "concatenated_list = list1 + list2\n",
    "\n",
    "print(concatenated_list)  # Output: [1, 2, 3, 4, 5, 6]\n"
   ]
  },
  {
   "cell_type": "markdown",
   "id": "812a3614-da29-4297-b867-985e479ab15c",
   "metadata": {},
   "source": [
    "List Replication Operator:\n",
    "The list replication operator is represented by the * symbol.\n",
    "It is used to create a new list by replicating an existing list a specified number of times.\n",
    "The elements in the replicated list are references to the same objects as in the original list."
   ]
  },
  {
   "cell_type": "code",
   "execution_count": 21,
   "id": "5dae1320-b234-48de-bd0b-8ee53385894d",
   "metadata": {},
   "outputs": [
    {
     "name": "stdout",
     "output_type": "stream",
     "text": [
      "[1, 2, 3, 1, 2, 3, 1, 2, 3]\n"
     ]
    }
   ],
   "source": [
    "original_list = [1, 2, 3]\n",
    "replicated_list = original_list * 3\n",
    "\n",
    "print(replicated_list)  # Output: [1, 2, 3, 1, 2, 3, 1, 2, 3]\n"
   ]
  },
  {
   "cell_type": "markdown",
   "id": "e61b51d2-adb6-48c2-9bf6-3c258fc7f8ce",
   "metadata": {},
   "source": [
    "10. What is difference between the list methods append() and insert()?"
   ]
  },
  {
   "cell_type": "markdown",
   "id": "63bd66ca-05dd-4f39-b8d1-c1414464c4e6",
   "metadata": {},
   "source": [
    "append() - inserts the new element at the end of the list\n",
    "insert() - inserts the element before the index"
   ]
  },
  {
   "cell_type": "markdown",
   "id": "c53ef670-f9ad-4448-85b2-ba3597474ce1",
   "metadata": {},
   "source": [
    "the main difference between the append() and insert() methods is that append() adds an element to the end of the list, while insert() allows you to specify the position at which to insert the element. The append() method is often used to add elements to the end of a list, while the insert() method provides more control over the position of the inserted element within the list."
   ]
  },
  {
   "cell_type": "markdown",
   "id": "6fd32eae-5a04-4862-bd3c-a25ab5603e07",
   "metadata": {},
   "source": [
    "11. What are the two methods for removing items from a list?"
   ]
  },
  {
   "cell_type": "markdown",
   "id": "c5a0416d-224c-4452-b229-2e7aea0f35b7",
   "metadata": {},
   "source": [
    "pop and remove"
   ]
  },
  {
   "cell_type": "markdown",
   "id": "9c0096ab-5422-4182-acc8-12c8fd162775",
   "metadata": {},
   "source": [
    "remove() Method:\n",
    "The remove() method is used to remove the first occurrence of a specific value from a list.\n",
    "It takes a single argument, which is the value to be removed, and modifies the list in-place.\n",
    "If the value is found in the list, it is removed. If the value is not present, a ValueError is raised.\n",
    "The method only removes the first occurrence of the value, leaving any additional occurrences in the list."
   ]
  },
  {
   "cell_type": "markdown",
   "id": "d82e572e-04db-4369-aeae-aa1571f7a8f2",
   "metadata": {},
   "source": [
    "pop() Method:\n",
    "The pop() method is used to remove and return an element from a specific index in the list.\n",
    "It takes an optional index argument, and if not provided, it removes and returns the last element from the list.\n",
    "The method modifies the list in-place and returns the removed element.\n",
    "If the index is out of range, an IndexError is raised."
   ]
  },
  {
   "cell_type": "markdown",
   "id": "bf546583-35bd-45b7-8585-794e9c77d0aa",
   "metadata": {},
   "source": [
    "12. Describe how list values and string values are identical."
   ]
  },
  {
   "cell_type": "markdown",
   "id": "fea52a9a-92e1-4ec2-aa8f-b864ce6172f2",
   "metadata": {},
   "source": [
    "\n",
    "List values and string values in Python have certain similarities and shared characteristics:\n",
    "\n",
    "Ordered Sequence:\n",
    "\n",
    "Both lists and strings are ordered sequences of elements.\n",
    "The order of elements is preserved, and each element has a specific index or position within the sequence.\n",
    "Indexing and slicing operations can be performed on both lists and strings to access specific elements or subsequences.\n",
    "Accessing Elements:\n",
    "\n",
    "Individual elements in both lists and strings can be accessed using square brackets ([]) and the element's index.\n",
    "Indexing starts from 0, where the first element has an index of 0, the second element has an index of 1, and so on.\n",
    "Elements can also be accessed using negative indexing, where -1 refers to the last element, -2 refers to the second-to-last element, and so on.\n",
    "Iteration:\n",
    "\n",
    "Both lists and strings can be iterated over using loops like for loops.\n",
    "Iterating over a list or string allows you to process each element or character one by one.\n",
    "Length:\n",
    "\n",
    "The len() function can be used to determine the length (number of elements or characters) of both lists and strings.\n",
    "It returns the total count of elements in a list or characters in a string."
   ]
  },
  {
   "cell_type": "markdown",
   "id": "27e8aad9-3588-4646-939e-ecbfb3036801",
   "metadata": {},
   "source": [
    "13. What&#39;s the difference between tuples and lists?"
   ]
  },
  {
   "cell_type": "markdown",
   "id": "93433240-62ab-4163-9513-53a056f2c63b",
   "metadata": {},
   "source": [
    "Tuples : Immutable collections, created using ()\n",
    "List : Mutable collections, created using []\n"
   ]
  },
  {
   "cell_type": "markdown",
   "id": "7c8d3b0d-5b53-4c63-877d-878445e2d914",
   "metadata": {},
   "source": [
    "Mutability:\n",
    "\n",
    "Lists are mutable, which means their elements can be modified after creation. You can add, remove, or change elements in a list.\n",
    "Tuples, on the other hand, are immutable, meaning their elements cannot be changed once the tuple is created. Tuples are fixed and cannot be modified.\n",
    "Syntax:\n",
    "\n",
    "Lists are represented by square brackets [ ], and the elements are separated by commas.\n",
    "Tuples are represented by parentheses ( ), and the elements are also separated by commas.\n",
    "Usage:\n",
    "\n",
    "Lists are commonly used when you need a mutable sequence that can be modified over time. They are suitable for storing collections of related items that may change or need to be updated.\n",
    "Tuples are often used for grouping related data together and ensuring its immutability. They can represent a collection of heterogeneous elements, and the order of elements in a tuple is typically meaningful.\n",
    "Operations:\n",
    "\n",
    "Lists have a wide range of methods and functions available for modifying and manipulating their elements, such as append(), insert(), remove(), sort(), and more.\n",
    "Tuples have fewer methods compared to lists since they are immutable. However, tuples can be accessed and sliced in the same way as lists, allowing you to extract specific elements or sub-tuples.\n",
    "Performance:\n",
    "\n",
    "Tuples are generally more memory-efficient and slightly faster than lists. Since tuples are immutable, Python can optimize their memory usage, which can be beneficial in situations where large amounts of data need to be stored."
   ]
  },
  {
   "cell_type": "markdown",
   "id": "4065dade-72cf-4325-8b26-0bedca3ee550",
   "metadata": {},
   "source": [
    "14. How do you type a tuple value that only contains the integer 42?"
   ]
  },
  {
   "cell_type": "code",
   "execution_count": 1,
   "id": "46763015-5091-4582-9971-21877559ff73",
   "metadata": {},
   "outputs": [],
   "source": [
    "t=(42,)"
   ]
  },
  {
   "cell_type": "code",
   "execution_count": 2,
   "id": "d91a9f1a-867d-450b-b526-49933cfd8a6c",
   "metadata": {},
   "outputs": [
    {
     "data": {
      "text/plain": [
       "(42,)"
      ]
     },
     "execution_count": 2,
     "metadata": {},
     "output_type": "execute_result"
    }
   ],
   "source": [
    "t"
   ]
  },
  {
   "cell_type": "markdown",
   "id": "1f2c65f9-c6fe-4ac1-9755-82189ec57a86",
   "metadata": {},
   "source": [
    "15. How do you get a list value&#39;s tuple form? How do you get a tuple value&#39;s list form?"
   ]
  },
  {
   "cell_type": "markdown",
   "id": "5e3ed854-ce58-4c22-9d3e-166789d42336",
   "metadata": {},
   "source": [
    "To convert a list value to its tuple form, you can use the tuple() function. It takes an iterable as an argument and returns a tuple containing the elements of the iterable. Here's an example:\n"
   ]
  },
  {
   "cell_type": "code",
   "execution_count": 3,
   "id": "faa23685-f7d5-4090-b7e4-ea69087233ef",
   "metadata": {},
   "outputs": [
    {
     "name": "stdout",
     "output_type": "stream",
     "text": [
      "[1, 2, 3, 4]\n",
      "(1, 2, 3, 4)\n"
     ]
    }
   ],
   "source": [
    "my_list=[1,2,3,4]\n",
    "print(my_list)\n",
    "my_tuple=tuple(my_list)\n",
    "print(my_tuple)"
   ]
  },
  {
   "cell_type": "code",
   "execution_count": 5,
   "id": "92082001-dfe3-46b4-9c98-4c98e8e9ea91",
   "metadata": {},
   "outputs": [
    {
     "name": "stdout",
     "output_type": "stream",
     "text": [
      "(9, 8, 7, 6)\n",
      "[9, 8, 7, 6]\n"
     ]
    }
   ],
   "source": [
    "my_tuple_1=(9,8,7,6)\n",
    "print(my_tuple_1)\n",
    "my_list_1=list(my_tuple_1)\n",
    "print(my_list_1)\n"
   ]
  },
  {
   "cell_type": "markdown",
   "id": "9c3ff0b3-d47f-4335-a91d-59fed8790832",
   "metadata": {},
   "source": [
    "To convert tuple to list value, use the function list()"
   ]
  },
  {
   "cell_type": "markdown",
   "id": "a5ed825f-24c8-4cf3-88d8-ec6cdc5b1dad",
   "metadata": {},
   "source": [
    "16. Variables that &quot;contain&quot; list values are not necessarily lists themselves. Instead, what do they\n",
    "contain?"
   ]
  },
  {
   "cell_type": "markdown",
   "id": "aa379af6-1f6d-47b9-a9d2-caf94c693301",
   "metadata": {},
   "source": [
    "Variables that \"contain\" list values in Python are actually storing references to the list objects rather than directly containing the lists themselves.\n",
    "\n",
    "In Python, variables are essentially labels or references that point to objects in memory. When a list is assigned to a variable, the variable holds a reference to the memory location where the list object is stored. This means that the variable does not directly contain the list data itself, but rather holds the memory address of the list object."
   ]
  },
  {
   "cell_type": "markdown",
   "id": "06da21d7-d4e9-4390-9748-3b40b9f65388",
   "metadata": {},
   "source": [
    "In Python, the copy module provides two functions to create copies of objects: copy() and deepcopy(). Both functions are used to create copies of objects, but they differ in how they handle mutable objects and nested data structures. Here's the distinction between copy.copy() and copy.deepcopy():\n",
    "\n",
    "copy.copy():\n",
    "\n",
    "The copy.copy() function performs a shallow copy of an object.\n",
    "For simple objects like integers, strings, or tuples, it creates a new object with the same value.\n",
    "For mutable objects like lists or dictionaries, copy.copy() creates a new object, but the elements within the object still reference the same objects as the original.\n",
    "In other words, changes made to the original object's mutable elements will be reflected in the copied object and vice versa.\n",
    "However, changes to the object itself (e.g., appending an item to a copied list) will not affect the original object.\n",
    "Shallow copying is useful when you want to create a new object with the same values but don't need a completely independent copy.\n",
    "copy.deepcopy():\n",
    "\n",
    "The copy.deepcopy() function performs a deep copy of an object.\n",
    "It creates a new object and recursively copies all the nested objects within it.\n",
    "For mutable objects like lists or dictionaries, copy.deepcopy() creates a completely independent copy of the object and all its nested objects.\n",
    "Changes made to the original object or any of its mutable elements will not affect the copied object, and vice versa.\n",
    "Deep copying is useful when you want to create a new object that is entirely independent of the original object, including all nested objects."
   ]
  },
  {
   "cell_type": "code",
   "execution_count": 12,
   "id": "9f37eb3a-c041-4ddb-94aa-228d0049912c",
   "metadata": {},
   "outputs": [
    {
     "name": "stdout",
     "output_type": "stream",
     "text": [
      "[1, [2, 3, 20], 4, 30]\n",
      "[10, [2, 3, 20], 4]\n",
      "[100, [2, 3, 20, 200], 4, 30]\n",
      "[1, [2, 3, 20], 4, 30]\n"
     ]
    }
   ],
   "source": [
    "import copy\n",
    "\n",
    "# Original object\n",
    "original_list = [1, [2, 3], 4]\n",
    "\n",
    "# Shallow copy\n",
    "shallow_copy = copy.copy(original_list)\n",
    "shallow_copy[0] = 10\n",
    "shallow_copy[1].append(20)\n",
    "original_list.append(30)\n",
    "print(original_list)  # Output: [1, [2, 3, 20], 4]\n",
    "print(shallow_copy)\n",
    "\n",
    "# Deep copy\n",
    "deep_copy = copy.deepcopy(original_list)\n",
    "deep_copy[0] = 100\n",
    "deep_copy[1].append(200)\n",
    "print(deep_copy)\n",
    "print(original_list)  # Output: [1, [2, 3, 20], 4]\n",
    "\n"
   ]
  },
  {
   "cell_type": "code",
   "execution_count": null,
   "id": "d4b9012a-d3da-4aae-adb9-47cb3b2ae4d5",
   "metadata": {},
   "outputs": [],
   "source": []
  }
 ],
 "metadata": {
  "kernelspec": {
   "display_name": "Python 3 (ipykernel)",
   "language": "python",
   "name": "python3"
  },
  "language_info": {
   "codemirror_mode": {
    "name": "ipython",
    "version": 3
   },
   "file_extension": ".py",
   "mimetype": "text/x-python",
   "name": "python",
   "nbconvert_exporter": "python",
   "pygments_lexer": "ipython3",
   "version": "3.10.6"
  }
 },
 "nbformat": 4,
 "nbformat_minor": 5
}
