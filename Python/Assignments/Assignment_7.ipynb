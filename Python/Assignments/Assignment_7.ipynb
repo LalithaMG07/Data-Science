{
 "cells": [
  {
   "cell_type": "markdown",
   "id": "3d87179c-7add-4cab-8271-5b9f6d8a3229",
   "metadata": {},
   "source": [
    "Q.1. Create two int type variables, apply addition, subtraction, division and multiplications\n",
    "and store the results in variables. Then print the data in the following format by calling the\n",
    "variables:\n",
    "First variable is __ & second variable is __.\n",
    "Addition: __ + __ = __\n",
    "Subtraction: __ - __ = __\n",
    "Multiplication: __ * __ = __\n",
    "Division: __ / __ = __"
   ]
  },
  {
   "cell_type": "code",
   "execution_count": 3,
   "id": "7877f99e-b7ee-4746-bf07-37abe4a4fc36",
   "metadata": {},
   "outputs": [
    {
     "name": "stdout",
     "output_type": "stream",
     "text": [
      "The first variable is 10 and second variable is 20\n",
      "Addition : 10 + 20 = 30\n",
      "Subtraction : 10 - 20 = -10\n",
      "Multiplication : 10 * 20 = 200\n",
      "Division : 10 / 20 = 0.5\n"
     ]
    }
   ],
   "source": [
    "num1=10\n",
    "num2=20\n",
    "sum=num1+num2\n",
    "sub=num1-num2\n",
    "mul=num1*num2\n",
    "div=num1/num2\n",
    "\n",
    "print(f\"The first variable is {num1} and second variable is {num2}\")\n",
    "print(f\"Addition : {num1} + {num2} = {sum}\")\n",
    "print(f\"Subtraction : {num1} - {num2} = {sub}\")\n",
    "print(f\"Multiplication : {num1} * {num2} = {mul}\")\n",
    "print(f\"Division : {num1} / {num2} = {div}\")"
   ]
  },
  {
   "cell_type": "code",
   "execution_count": 1,
   "id": "a8fdd6b4-1687-4383-96fc-ff6e5d6041c3",
   "metadata": {},
   "outputs": [
    {
     "data": {
      "text/plain": [
       "['False',\n",
       " 'None',\n",
       " 'True',\n",
       " 'and',\n",
       " 'as',\n",
       " 'assert',\n",
       " 'async',\n",
       " 'await',\n",
       " 'break',\n",
       " 'class',\n",
       " 'continue',\n",
       " 'def',\n",
       " 'del',\n",
       " 'elif',\n",
       " 'else',\n",
       " 'except',\n",
       " 'finally',\n",
       " 'for',\n",
       " 'from',\n",
       " 'global',\n",
       " 'if',\n",
       " 'import',\n",
       " 'in',\n",
       " 'is',\n",
       " 'lambda',\n",
       " 'nonlocal',\n",
       " 'not',\n",
       " 'or',\n",
       " 'pass',\n",
       " 'raise',\n",
       " 'return',\n",
       " 'try',\n",
       " 'while',\n",
       " 'with',\n",
       " 'yield']"
      ]
     },
     "execution_count": 1,
     "metadata": {},
     "output_type": "execute_result"
    }
   ],
   "source": [
    "import keyword\n",
    "keyword.kwlist\n"
   ]
  },
  {
   "cell_type": "markdown",
   "id": "e54bdf3c-e7fe-42eb-8e88-b197e7edfb38",
   "metadata": {},
   "source": [
    "Q.2. What is the difference between the following operators:\n",
    "(i) ‘/’ & ‘//’\n",
    "(ii) ‘**’ & ‘^’"
   ]
  },
  {
   "cell_type": "markdown",
   "id": "63f53d22-54fd-43c1-8be2-0df9dbe506cc",
   "metadata": {},
   "source": [
    "The '/' operator is used for regular division in Python, which returns a floating-point result. It performs division and includes the decimal part of the quotient if necessary."
   ]
  },
  {
   "cell_type": "markdown",
   "id": "18e329b2-ca27-4e1b-baee-0462c692b647",
   "metadata": {},
   "source": [
    "On the other hand, the '//' operator is known as the floor division operator. It performs division and returns the largest possible integer less than or equal to the quotient, discarding the decimal part."
   ]
  },
  {
   "cell_type": "code",
   "execution_count": 5,
   "id": "7675f0fe-dbf6-416d-8e45-9d6aa984c715",
   "metadata": {
    "tags": []
   },
   "outputs": [
    {
     "data": {
      "text/plain": [
       "3.5"
      ]
     },
     "execution_count": 5,
     "metadata": {},
     "output_type": "execute_result"
    }
   ],
   "source": [
    "7/2"
   ]
  },
  {
   "cell_type": "code",
   "execution_count": 6,
   "id": "973020b7-419a-4b45-979e-9b102aae69e0",
   "metadata": {},
   "outputs": [
    {
     "data": {
      "text/plain": [
       "3"
      ]
     },
     "execution_count": 6,
     "metadata": {},
     "output_type": "execute_result"
    }
   ],
   "source": [
    "7//2"
   ]
  },
  {
   "cell_type": "markdown",
   "id": "103e90d3-d21a-445b-8d6a-d1f33cca7a82",
   "metadata": {},
   "source": [
    "The ** operator is used for exponentiation in Python. It raises the base to the power of the exponent."
   ]
  },
  {
   "cell_type": "code",
   "execution_count": 8,
   "id": "c2bf5f8f-b853-4e1c-af82-4142344de0f9",
   "metadata": {},
   "outputs": [
    {
     "data": {
      "text/plain": [
       "8"
      ]
     },
     "execution_count": 8,
     "metadata": {},
     "output_type": "execute_result"
    }
   ],
   "source": [
    "2**3"
   ]
  },
  {
   "cell_type": "markdown",
   "id": "e1239ee5-22cf-4ac3-aa4c-631aa11609ec",
   "metadata": {},
   "source": [
    "it is used as the bitwise XOR operator for performing exclusive OR operations on the binary representation of numbers."
   ]
  },
  {
   "cell_type": "code",
   "execution_count": 9,
   "id": "15885f38-d659-43db-9a28-bfc98ade4914",
   "metadata": {},
   "outputs": [
    {
     "data": {
      "text/plain": [
       "1"
      ]
     },
     "execution_count": 9,
     "metadata": {},
     "output_type": "execute_result"
    }
   ],
   "source": [
    "2^3"
   ]
  },
  {
   "cell_type": "markdown",
   "id": "0d17a897-266d-48f2-9659-5af772a4bab1",
   "metadata": {},
   "source": [
    "The XOR operation follows these rules:\n",
    "\n",
    "If both bits are 0, the result is 0.\n",
    "If both bits are 1, the result is 0.\n",
    "If one bit is 0 and the other bit is 1, the result is 1."
   ]
  },
  {
   "cell_type": "markdown",
   "id": "8e774d12-4ebe-4eb7-93f8-c631eafe2fc2",
   "metadata": {},
   "source": [
    "List the logical operators."
   ]
  },
  {
   "cell_type": "markdown",
   "id": "b653dc71-1493-4950-89f1-f4b1fef93b4e",
   "metadata": {},
   "source": [
    "The logical operators are and, or and not"
   ]
  },
  {
   "cell_type": "markdown",
   "id": "3b912bdc-069f-4201-a544-db4ecf7d6d16",
   "metadata": {},
   "source": [
    "Q.4. Explain right shift operator and left shift operator with examples."
   ]
  },
  {
   "cell_type": "markdown",
   "id": "f3b9b350-932e-4dbf-a23c-dad53aa84622",
   "metadata": {},
   "source": [
    "he right shift (>>) and left shift (<<) operators are bitwise operators in Python that perform shifting operations on binary representations of numbers. They shift the bits of a number to the right or left, respectively, by a specified number of positions.\n",
    "\n",
    "Right Shift (>>):\n",
    "The right shift operator (>>) shifts the bits of a number to the right by a specified number of positions. It effectively divides the number by 2 raised to the power of the shift count."
   ]
  },
  {
   "cell_type": "code",
   "execution_count": 12,
   "id": "5d46c68b-56af-43c1-9a46-eb66378a4194",
   "metadata": {},
   "outputs": [
    {
     "name": "stdout",
     "output_type": "stream",
     "text": [
      "2\n"
     ]
    }
   ],
   "source": [
    "x = 8  # Binary: 1000\n",
    "\n",
    "result = x >> 2\n",
    "print(result)  # Output: 2\n"
   ]
  },
  {
   "cell_type": "markdown",
   "id": "cfc3ac17-da52-465a-9bae-235a7b920b28",
   "metadata": {},
   "source": [
    "In this example, the binary representation of x is 1000. By performing x >> 2, we shift the bits to the right by 2 positions. The resulting binary is 10, which is equivalent to the decimal value of 2."
   ]
  },
  {
   "cell_type": "markdown",
   "id": "37878a47-53aa-4eeb-810a-c962ba88f67f",
   "metadata": {},
   "source": [
    "Left Shift (<<):\n",
    "The left shift operator (<<) shifts the bits of a number to the left by a specified number of positions. It effectively multiplies the number by 2 raised to the power of the shift count."
   ]
  },
  {
   "cell_type": "code",
   "execution_count": 13,
   "id": "c4ed88d8-b96d-44e7-aee3-ad335e922884",
   "metadata": {},
   "outputs": [
    {
     "name": "stdout",
     "output_type": "stream",
     "text": [
      "16\n"
     ]
    }
   ],
   "source": [
    "x = 2  # Binary: 10\n",
    "\n",
    "result = x << 3\n",
    "print(result)  # Output: 16\n"
   ]
  },
  {
   "cell_type": "markdown",
   "id": "975d3bc5-3bbd-47ab-9202-6edb55e13734",
   "metadata": {},
   "source": [
    "In this example, the binary representation of x is 10. By performing x << 3, we shift the bits to the left by 3 positions. The resulting binary is 10000, which is equivalent to the decimal value of 16.\n",
    "\n",
    "The right shift (>>) and left shift (<<) operators can be useful in scenarios where you need to perform binary arithmetic or manipulate binary representations of numbers. They are commonly used in low-level programming, bit-level operations, and optimizations."
   ]
  },
  {
   "cell_type": "markdown",
   "id": "376cd420-4866-47a1-895b-a90ddfee1ba9",
   "metadata": {},
   "source": [
    "Q.5. Create a list containing int type data of length 15. Then write a code to check if 10 is\n",
    "present in the list or not."
   ]
  },
  {
   "cell_type": "code",
   "execution_count": 15,
   "id": "ba52e18f-d1c2-4ac4-bee0-4ef7fe02abea",
   "metadata": {},
   "outputs": [
    {
     "name": "stdout",
     "output_type": "stream",
     "text": [
      "Found 10!!!\n"
     ]
    }
   ],
   "source": [
    "list=[1,2,3,4,5,10,2,3,45,67]\n",
    "for eachitem in list:\n",
    "    if eachitem == 10:\n",
    "        print(\"Found 10!!!\")\n",
    "    else:\n",
    "        continue"
   ]
  },
  {
   "cell_type": "code",
   "execution_count": 16,
   "id": "6789316b-91f7-4f35-a0e7-b59a878e5fc9",
   "metadata": {},
   "outputs": [
    {
     "name": "stdout",
     "output_type": "stream",
     "text": [
      "10 is present in the list.\n"
     ]
    }
   ],
   "source": [
    "# Create a list of length 15 with integer type data\n",
    "my_list = [1, 2, 3, 4, 5, 6, 7, 8, 9, 10, 11, 12, 13, 14, 15]\n",
    "\n",
    "# Check if 10 is present in the list\n",
    "if 10 in my_list:\n",
    "    print(\"10 is present in the list.\")\n",
    "else:\n",
    "    print(\"10 is not present in the list.\")\n"
   ]
  },
  {
   "cell_type": "code",
   "execution_count": null,
   "id": "14c82ae0-22af-4b7a-b994-c37174be8269",
   "metadata": {},
   "outputs": [],
   "source": []
  }
 ],
 "metadata": {
  "kernelspec": {
   "display_name": "Python 3 (ipykernel)",
   "language": "python",
   "name": "python3"
  },
  "language_info": {
   "codemirror_mode": {
    "name": "ipython",
    "version": 3
   },
   "file_extension": ".py",
   "mimetype": "text/x-python",
   "name": "python",
   "nbconvert_exporter": "python",
   "pygments_lexer": "ipython3",
   "version": "3.10.6"
  }
 },
 "nbformat": 4,
 "nbformat_minor": 5
}
