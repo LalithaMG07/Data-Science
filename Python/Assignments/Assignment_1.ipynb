{
 "cells": [
  {
   "cell_type": "markdown",
   "id": "2784adda-b2b8-4a61-af86-5c9ea3ad2cc4",
   "metadata": {},
   "source": [
    "1. In the below elements which of them are values or an expression? eg:- values can be\n",
    "integer or string and expressions will be mathematical operators.\n",
    "*\n",
    "&#39;hello&#39;\n",
    "-87.8\n",
    "-\n",
    "/\n",
    "+\n",
    "6"
   ]
  },
  {
   "cell_type": "code",
   "execution_count": 3,
   "id": "32b32d32-659d-4580-af4d-67fef19f463f",
   "metadata": {},
   "outputs": [],
   "source": [
    "\"\"\"\n",
    "* : Mathematical Operator\n",
    "'hello' : Value\n",
    "-87.8 : Value\n",
    "- : Mathematical Operator\n",
    "/ : Mathematical Operator\n",
    "+ : Mathematical Operator\n",
    "6 : Value\n",
    "\"\"\"\n",
    "pass"
   ]
  },
  {
   "cell_type": "markdown",
   "id": "6ed0997e-f180-446c-a4cb-d7b5058a2b8d",
   "metadata": {},
   "source": [
    "### 2. What is the difference between string and variable?"
   ]
  },
  {
   "cell_type": "markdown",
   "id": "11ae9cf3-a98f-4030-a877-de809a5c1af7",
   "metadata": {},
   "source": [
    "##### In Python, String is a data type that represents sequence of characters which are enclosed either in single quotes ('') or double quotes (\"\"). It is used to store and manipulate text data. Strings are immutable, once it is created , the value cannot be changed."
   ]
  },
  {
   "cell_type": "markdown",
   "id": "3f94ebb9-d605-4c60-9fef-e6df893bde60",
   "metadata": {},
   "source": [
    "##### Variable is a name that refers to value or object in memory. It acts as a container to store data of various types, including strings. Variables are used to hold and manipulate data throughout a program. Unlike strings, variables can be reassigned to different values during the execution of a program."
   ]
  },
  {
   "cell_type": "code",
   "execution_count": 5,
   "id": "fba5cab2-6046-41f7-8680-886d5984a3f8",
   "metadata": {},
   "outputs": [
    {
     "name": "stdout",
     "output_type": "stream",
     "text": [
      " Data Science\n"
     ]
    }
   ],
   "source": [
    "Course=\" Data Science\"\n",
    "print(Course)"
   ]
  },
  {
   "cell_type": "markdown",
   "id": "5235850c-dff3-4a23-a31a-4735dd35bbef",
   "metadata": {},
   "source": [
    "##### In the above example, Course is a variable which holds the string value \"Data Science\""
   ]
  },
  {
   "cell_type": "markdown",
   "id": "571694ca-3731-4b9c-91cf-b582c28cce18",
   "metadata": {},
   "source": [
    "### 3. Describe three different data types."
   ]
  },
  {
   "cell_type": "markdown",
   "id": "c7daa09b-c258-4ee5-8ea4-cff92463c691",
   "metadata": {},
   "source": [
    "#### Numeric Types:\n",
    "##### Integer (int): Represents whole numbers without decimal points, such as 5, -3, 0.\n",
    "##### Floating-Point (float): Represents numbers with decimal points, such as 3.14, -2.5.\n",
    "\n",
    "#### Boolean Type:\n",
    "##### Boolean (bool): Represents either True or False. Used in logical operations and conditions.\n",
    "\n",
    "#### Text Type:\n",
    "##### String (str): Represents a sequence of characters. Strings are enclosed in single quotes (''), double quotes (\"\") or triple quotes (\"\"\").\n",
    "\n",
    "#### Complex Type\n",
    "##### Complex(complex) : Represents complex numbers with real and imaginary parts 1+2j"
   ]
  },
  {
   "cell_type": "code",
   "execution_count": 16,
   "id": "8a6396e4-1244-4c94-8f6a-a0fefdb2ed3f",
   "metadata": {},
   "outputs": [
    {
     "name": "stdout",
     "output_type": "stream",
     "text": [
      "[5, 3.4, True, 'Data', (1+5j)]\n",
      "The datatype of 5 is <class 'int'>\n",
      "The datatype of 3.4 is <class 'float'>\n",
      "The datatype of True is <class 'bool'>\n",
      "The datatype of Data is <class 'str'>\n",
      "The datatype of (1+5j) is <class 'complex'>\n"
     ]
    }
   ],
   "source": [
    "a=5\n",
    "b=3.4\n",
    "c=True\n",
    "d=\"Data\"\n",
    "e=1+5j\n",
    "list=[a,b,c,d,e]\n",
    "print(list)\n",
    "\n",
    "for i in list:\n",
    "    print(f\"The datatype of {i} is\" ,type(i))\n",
    "\n",
    "    "
   ]
  },
  {
   "cell_type": "markdown",
   "id": "a3413e83-226f-4dbe-bca7-4697155ef05e",
   "metadata": {},
   "source": [
    "### 4. What is an expression made up of? What do all expressions do?"
   ]
  },
  {
   "cell_type": "markdown",
   "id": "4f091948-b1d1-4abb-917e-f902eff400b0",
   "metadata": {},
   "source": [
    "### An expression in Python is made up of one or more operands combined with operators, literals, function calls, and other expressions. Let's break down the components of an expression:\n",
    "#### 1) Operands: These are the values or objects on which operations are performed. For example, 5 and 3 are operands in the expression 5 + 3.\n",
    "#### 2) Operators: These are symbols or keywords that indicate the type of operation to be performed on the operands. Examples of operators include +, -, *, /, %, ==, !=, >, <, and, or, etc.\n",
    "#### 3) Literals: These are literal values, such as numbers (5, 3.14), strings (\"hello\", 'world'), booleans (True, False), and more. Literals can be used directly in expressions without assigning them to variables.\n",
    "#### 4) Function Calls: Expressions can include function calls, where a function is invoked with arguments (if any) to perform a specific task. The return value of the function can be part of the expression.\n",
    "\n",
    "#### Expressions are used to compute values and perform operations. Expressions are a fundamental part of programming and play a crucial role in performing computations, making decisions, and manipulating data in Python programs."
   ]
  },
  {
   "cell_type": "markdown",
   "id": "2bf5985e-44d3-473b-8456-88f56e32e530",
   "metadata": {},
   "source": [
    "### 5. This assignment statements, like spam = 10. What is the difference between an expression and a statement?"
   ]
  },
  {
   "cell_type": "markdown",
   "id": "901de8da-fcb7-4a49-8d82-f0a29613a3e8",
   "metadata": {},
   "source": [
    "#### An assignment statement, such as spam = 10, combines both an expression and a statement.\n",
    "#### The expression in the assignment statement is 10. It is a literal value and represents the value that will be assigned to the variable spam.\n",
    "#### The statement in the assignment statement is the entire line spam = 10. It is a complete instruction that performs an action, which is assigning the value 10 to the variable spam.\n",
    "\n",
    "#### Expression: 10 (the literal value)\n",
    "#### Statement: spam = 10 (the complete line of code)\n",
    " #### In general, an expression evaluates to a value, whereas a statement performs an action or carries out a task. The assignment statement combines both the expression (the value to be assigned) and the statement (the action of assignment) in a single line of code.\n",
    "\n"
   ]
  },
  {
   "cell_type": "markdown",
   "id": "b2c273f6-d99a-49c7-a344-6b0fb0263e11",
   "metadata": {},
   "source": [
    "#### 6. After running the following code, what does the variable bacon contain?\n",
    "bacon = 22\n",
    "\n",
    "bacon + 1"
   ]
  },
  {
   "cell_type": "code",
   "execution_count": 17,
   "id": "74637c67-35d9-4d63-8ab4-74f3ca5fa1ba",
   "metadata": {},
   "outputs": [
    {
     "data": {
      "text/plain": [
       "23"
      ]
     },
     "execution_count": 17,
     "metadata": {},
     "output_type": "execute_result"
    }
   ],
   "source": [
    "23"
   ]
  },
  {
   "cell_type": "markdown",
   "id": "d2404ff5-fdd8-4cce-8c9d-716ebd9a1c75",
   "metadata": {},
   "source": [
    "#### 7. What should the values of the following two terms be?\n",
    "&#39;spam&#39; + &#39;spamspam&#39;\n",
    "\n",
    "&#39;spam&#39; * 3"
   ]
  },
  {
   "cell_type": "code",
   "execution_count": 18,
   "id": "875544ca-47cf-4afa-b6cb-2bc323eee8eb",
   "metadata": {},
   "outputs": [
    {
     "data": {
      "text/plain": [
       "'spamspamspam'"
      ]
     },
     "execution_count": 18,
     "metadata": {},
     "output_type": "execute_result"
    }
   ],
   "source": [
    "'spam' + 'spamspam'"
   ]
  },
  {
   "cell_type": "code",
   "execution_count": 19,
   "id": "a0f6c082-d4db-47c9-a1ce-cd44790f4b63",
   "metadata": {},
   "outputs": [
    {
     "data": {
      "text/plain": [
       "'spamspamspam'"
      ]
     },
     "execution_count": 19,
     "metadata": {},
     "output_type": "execute_result"
    }
   ],
   "source": [
    "'spam' * 3"
   ]
  },
  {
   "cell_type": "markdown",
   "id": "098c518a-266a-4eb5-bff9-7229af12c407",
   "metadata": {},
   "source": [
    "The result is same for both the expressions."
   ]
  },
  {
   "cell_type": "markdown",
   "id": "73e4e95a-fa78-475f-a4df-9e3915ddf28b",
   "metadata": {},
   "source": [
    "### 8. Why is eggs a valid variable name while 100 is invalid?"
   ]
  },
  {
   "cell_type": "markdown",
   "id": "4b473506-876a-473c-bae6-3fe7bf94f020",
   "metadata": {},
   "source": [
    "#### Variable name can start with letter or underscore but not with digit. Thus eggs is a valid variable name and not 100"
   ]
  },
  {
   "cell_type": "markdown",
   "id": "e4cc508f-8a18-4723-bb54-a51fd73171c8",
   "metadata": {},
   "source": [
    "### 9. What three functions can be used to get the integer, floating-point number, or string version of a value?"
   ]
  },
  {
   "cell_type": "markdown",
   "id": "4c9f8d13-f67c-4a87-ba79-698c931ddf7c",
   "metadata": {},
   "source": [
    "#### str() , float() and int()"
   ]
  },
  {
   "cell_type": "markdown",
   "id": "7d2a0cdd-dd65-48d5-ad08-91ac5e9b8a8f",
   "metadata": {},
   "source": [
    "#### These three functions int(), float(), and str() are useful for converting values between different data types in Python. They allow you to perform type conversions based on your requirements in your code."
   ]
  },
  {
   "cell_type": "code",
   "execution_count": 21,
   "id": "b88ca7e2-9f11-4069-ae37-57e915577b6f",
   "metadata": {},
   "outputs": [
    {
     "name": "stdout",
     "output_type": "stream",
     "text": [
      "10\n",
      "10.0\n",
      "10\n"
     ]
    }
   ],
   "source": [
    "a=10\n",
    "print(int(a))\n",
    "print(float(a))\n",
    "print(str(a))"
   ]
  },
  {
   "cell_type": "markdown",
   "id": "c9101ba5-8cdf-4e24-9b10-3d47d051a10f",
   "metadata": {},
   "source": [
    "### 10. Why does this expression cause an error? How can you fix it?\n",
    "&#39;I have eaten &#39; + 99 + &#39; burritos.&#39;"
   ]
  },
  {
   "cell_type": "markdown",
   "id": "d9e9f364-bde7-4cab-985f-d85310e7f828",
   "metadata": {},
   "source": [
    "This throws an error because number cannot be concatenated with string without doing the type casting."
   ]
  },
  {
   "cell_type": "code",
   "execution_count": 22,
   "id": "8d76b28a-6b70-43aa-bea7-909549caa6a9",
   "metadata": {},
   "outputs": [
    {
     "ename": "TypeError",
     "evalue": "can only concatenate str (not \"int\") to str",
     "output_type": "error",
     "traceback": [
      "\u001b[0;31m---------------------------------------------------------------------------\u001b[0m",
      "\u001b[0;31mTypeError\u001b[0m                                 Traceback (most recent call last)",
      "Cell \u001b[0;32mIn [22], line 1\u001b[0m\n\u001b[0;32m----> 1\u001b[0m \u001b[38;5;124;43m'\u001b[39;49m\u001b[38;5;124;43mI have eaten \u001b[39;49m\u001b[38;5;124;43m'\u001b[39;49m\u001b[43m \u001b[49m\u001b[38;5;241;43m+\u001b[39;49m\u001b[43m \u001b[49m\u001b[38;5;241;43m99\u001b[39;49m \u001b[38;5;241m+\u001b[39m \u001b[38;5;124m'\u001b[39m\u001b[38;5;124m burritos.\u001b[39m\u001b[38;5;124m'\u001b[39m\n",
      "\u001b[0;31mTypeError\u001b[0m: can only concatenate str (not \"int\") to str"
     ]
    }
   ],
   "source": [
    "'I have eaten ' + 99 + ' burritos.'"
   ]
  },
  {
   "cell_type": "markdown",
   "id": "cb164cab-cc29-40c1-a2bd-0f3f6b8dcc16",
   "metadata": {},
   "source": [
    "It can be fixed by using str() to convert numeric to string datatype"
   ]
  },
  {
   "cell_type": "code",
   "execution_count": 23,
   "id": "2709f15e-fed2-44e0-876b-670b32c83562",
   "metadata": {},
   "outputs": [
    {
     "data": {
      "text/plain": [
       "'I have eaten 99 burritos.'"
      ]
     },
     "execution_count": 23,
     "metadata": {},
     "output_type": "execute_result"
    }
   ],
   "source": [
    "'I have eaten ' + str(99) + ' burritos.'"
   ]
  },
  {
   "cell_type": "code",
   "execution_count": null,
   "id": "676fa535-680b-4bc9-8df3-822a2aa36e10",
   "metadata": {},
   "outputs": [],
   "source": []
  }
 ],
 "metadata": {
  "kernelspec": {
   "display_name": "Python 3 (ipykernel)",
   "language": "python",
   "name": "python3"
  },
  "language_info": {
   "codemirror_mode": {
    "name": "ipython",
    "version": 3
   },
   "file_extension": ".py",
   "mimetype": "text/x-python",
   "name": "python",
   "nbconvert_exporter": "python",
   "pygments_lexer": "ipython3",
   "version": "3.10.6"
  }
 },
 "nbformat": 4,
 "nbformat_minor": 5
}
