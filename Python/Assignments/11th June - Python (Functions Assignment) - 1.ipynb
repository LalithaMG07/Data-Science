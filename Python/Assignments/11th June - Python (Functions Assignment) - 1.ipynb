{
 "cells": [
  {
   "cell_type": "markdown",
   "id": "accfaec3-0151-48f2-8856-7977092836ad",
   "metadata": {},
   "source": [
    "## What is a lambda function in Python, and how does it differ from a regular function?"
   ]
  },
  {
   "cell_type": "markdown",
   "id": "7a251ddf-603f-4825-9b22-5ab42b386c35",
   "metadata": {},
   "source": [
    "In Python, lambda functions, also known as anonymous functions, are small, single-expression functions that don't have a name. They are defined using the lambda keyword and can be used in places where a function object is expected.\n",
    "\n",
    "Here's the syntax of a lambda function:"
   ]
  },
  {
   "cell_type": "code",
   "execution_count": 1,
   "id": "11f1f39c-93f1-4ed6-bec8-c88837aad2a0",
   "metadata": {},
   "outputs": [
    {
     "data": {
      "text/plain": [
       "<function __main__.<lambda>(arguments)>"
      ]
     },
     "execution_count": 1,
     "metadata": {},
     "output_type": "execute_result"
    }
   ],
   "source": [
    "lambda arguments: expression"
   ]
  },
  {
   "cell_type": "markdown",
   "id": "84f053d4-6ac3-4ad1-af4e-de1bdfce7e5f",
   "metadata": {},
   "source": [
    "The lambda function takes a comma-separated list of arguments, followed by a colon (:), and an expression that is evaluated and returned as the result of the function.\n",
    "\n",
    "Lambda functions are different from regular functions in a few ways:\n",
    "\n",
    "Anonymous: Lambda functions don't have a name. They are typically used as a one-liner function and are not meant for complex logic or large code blocks.\n",
    "\n",
    "Single Expression: Lambda functions are limited to a single expression. They can't contain multiple statements or use control flow structures like loops or conditional statements directly. However, you can use conditional expressions (if-else) within the expression itself.\n",
    "\n",
    "Short-lived: Lambda functions are often used for immediate or temporary use, especially in cases where you need to define a simple function on the fly without assigning it a name."
   ]
  },
  {
   "cell_type": "code",
   "execution_count": 2,
   "id": "84ee5741-45ca-4336-8990-23b67ab17f89",
   "metadata": {},
   "outputs": [
    {
     "name": "stdout",
     "output_type": "stream",
     "text": [
      "[2, 4, 6, 8, 10]\n"
     ]
    }
   ],
   "source": [
    "numbers = [1, 2, 3, 4, 5]\n",
    "\n",
    "# Using a lambda function to double each number in the list\n",
    "doubled_numbers = list(map(lambda x: x * 2, numbers))\n",
    "print(doubled_numbers)  # Output: [2, 4, 6, 8, 10]"
   ]
  },
  {
   "cell_type": "markdown",
   "id": "2f7be474-df5d-4787-9b3f-5b044d13497d",
   "metadata": {},
   "source": [
    "In this example, the map() function is used to apply a lambda function to each element in the numbers list. The lambda function lambda x: x * 2 doubles each element by multiplying it by 2. The result is a new list doubled_numbers that contains the doubled values of the original numbers.\n",
    "\n",
    "In this case, using a lambda function provides a concise way to define the doubling logic without the need for a separate named function. It allows you to perform a simple transformation on each element of a sequence without the overhead of defining a regular function.\n",
    "\n",
    "Lambda functions are particularly useful in functional programming paradigms, where functions can be treated as data and passed as arguments to other functions, such as map(), filter(), or reduce()."
   ]
  },
  {
   "cell_type": "markdown",
   "id": "c3019d54-d854-4398-abd4-bd919b193db7",
   "metadata": {},
   "source": [
    "## 2. Can a lambda function in Python have multiple arguments? If yes, how can you define and use them?"
   ]
  },
  {
   "cell_type": "markdown",
   "id": "919fb130-e062-487c-a93d-2decf081870f",
   "metadata": {},
   "source": [
    "Yes, a lambda function in Python can have multiple arguments. You can define and use them by specifying the arguments separated by commas in the lambda function syntax."
   ]
  },
  {
   "cell_type": "code",
   "execution_count": 3,
   "id": "5a229832-11ea-4a1d-9d16-d3cd2b32597f",
   "metadata": {},
   "outputs": [],
   "source": [
    "z= lambda x, y: x +y"
   ]
  },
  {
   "cell_type": "code",
   "execution_count": 4,
   "id": "4572eaee-2a07-47a1-83e2-80cdbad7defe",
   "metadata": {},
   "outputs": [
    {
     "data": {
      "text/plain": [
       "5"
      ]
     },
     "execution_count": 4,
     "metadata": {},
     "output_type": "execute_result"
    }
   ],
   "source": [
    "z(3,2)"
   ]
  },
  {
   "cell_type": "markdown",
   "id": "43474032-4238-4faf-93bb-62d8c32f9d55",
   "metadata": {},
   "source": [
    "## 3. How are lambda functions typically used in Python? Provide an example use case."
   ]
  },
  {
   "cell_type": "markdown",
   "id": "2c5f4b01-fa74-461f-a7e9-73edf797a931",
   "metadata": {},
   "source": [
    "Lambda functions in Python are typically used in situations where you need a small, anonymous function without the need for a formal function definition. They are commonly used in combination with built-in functions like map(), filter(), and reduce(), as well as in sorting and key extraction operations."
   ]
  },
  {
   "cell_type": "code",
   "execution_count": 5,
   "id": "fa3202fe-126f-4232-9c6b-6db41491a89e",
   "metadata": {},
   "outputs": [
    {
     "name": "stdout",
     "output_type": "stream",
     "text": [
      "[1, 4, 9, 16, 25]\n"
     ]
    }
   ],
   "source": [
    "numbers = [1, 2, 3, 4, 5]\n",
    "squared_numbers = list(map(lambda x: x**2, numbers))\n",
    "print(squared_numbers)\n"
   ]
  },
  {
   "cell_type": "markdown",
   "id": "fc83d000-3bf1-4e51-9e30-86f733f0ca97",
   "metadata": {},
   "source": [
    "## 4. What are the advantages and limitations of lambda functions compared to regular functions in Python?"
   ]
  },
  {
   "cell_type": "markdown",
   "id": "1ecad4ab-d1c6-4764-b596-4e1909639035",
   "metadata": {},
   "source": [
    "Lambda functions in Python have several advantages compared to regular functions, but they also have some limitations. Here's a summary:\n",
    "\n",
    "Advantages of Lambda Functions:\n",
    "\n",
    "Conciseness: Lambda functions allow you to define small, anonymous functions in a compact and concise manner. They are typically used for short and simple operations, reducing the need for formal function definitions.\n",
    "\n",
    "Readability: Lambda functions can be used directly at the point of use, making the code more readable by eliminating the need to define and name a separate function.\n",
    "\n",
    "Functionality as Arguments: Lambda functions are commonly used as arguments to higher-order functions like map(), filter(), and reduce(). They provide a convenient way to specify function behavior inline, without the need for a separate function definition.\n",
    "Limitations of Lambda Functions:\n",
    "\n",
    "Single Expression: Lambda functions are limited to a single expression and cannot contain multiple statements or complex logic. They are best suited for simple computations.\n",
    "\n",
    "Lack of Documentation: Lambda functions are anonymous and do not have a name or a docstring. This can make it harder for others to understand their purpose and usage.\n",
    "\n",
    "Limited Functionality: Due to their simplicity, lambda functions may not support certain features available in regular functions, such as default arguments or variable annotations. Regular functions offer more flexibility in terms of functionality and customization.\n",
    "\n",
    "In general, lambda functions are most useful when you need a short, simple function for a specific task, especially when it involves functional programming concepts or working with higher-order functions. For more complex or reusable functions, regular functions are typically preferred as they offer more flexibility and clarity."
   ]
  },
  {
   "cell_type": "markdown",
   "id": "ed52dcef-08e2-4a07-9b4d-519e16a6147f",
   "metadata": {},
   "source": [
    "## 5. Are lambda functions in Python able to access variables defined outside of their own scope? Explain with an example."
   ]
  },
  {
   "cell_type": "markdown",
   "id": "295f8ff9-4117-44cd-9228-7cc07bba652d",
   "metadata": {},
   "source": [
    "Yes, lambda functions in Python can access variables defined outside of their own scope. These variables are accessed through lexical scoping, where the lambda function can \"capture\" and use variables from its surrounding environment."
   ]
  },
  {
   "cell_type": "code",
   "execution_count": 7,
   "id": "c3b31daa-2962-4909-a3c2-64f850184aba",
   "metadata": {},
   "outputs": [
    {
     "name": "stdout",
     "output_type": "stream",
     "text": [
      "15\n"
     ]
    }
   ],
   "source": [
    "def outer_function():\n",
    "    x = 10\n",
    "    \n",
    "    # Lambda function accessing the variable from outer_function's scope\n",
    "    lambda_func = lambda y: x + y\n",
    "    \n",
    "    return lambda_func\n",
    "\n",
    "# Call outer_function to get the lambda function\n",
    "my_lambda = outer_function()\n",
    "\n",
    "# Call the lambda function with an argument\n",
    "result = my_lambda(5)\n",
    "print(result)  # Output: 15\n"
   ]
  },
  {
   "cell_type": "markdown",
   "id": "f6563bc0-0d48-44b6-8402-aca78f8d2573",
   "metadata": {},
   "source": [
    "## 6. Write a lambda function to calculate the square of a given number."
   ]
  },
  {
   "cell_type": "code",
   "execution_count": 8,
   "id": "4396c195-2f09-4400-abb3-e341cae287df",
   "metadata": {},
   "outputs": [],
   "source": [
    "square=lambda x : x**2"
   ]
  },
  {
   "cell_type": "code",
   "execution_count": 9,
   "id": "8b6cf6a5-19cb-4a63-8e67-bb816e93477b",
   "metadata": {},
   "outputs": [
    {
     "data": {
      "text/plain": [
       "4"
      ]
     },
     "execution_count": 9,
     "metadata": {},
     "output_type": "execute_result"
    }
   ],
   "source": [
    "square(2)"
   ]
  },
  {
   "cell_type": "code",
   "execution_count": 10,
   "id": "c82f1e48-bf3c-4c04-85db-87c6a46960fc",
   "metadata": {},
   "outputs": [
    {
     "data": {
      "text/plain": [
       "16"
      ]
     },
     "execution_count": 10,
     "metadata": {},
     "output_type": "execute_result"
    }
   ],
   "source": [
    "square(4)"
   ]
  },
  {
   "cell_type": "markdown",
   "id": "74cc3798-72a9-41cb-92f9-bff35ceeefc8",
   "metadata": {},
   "source": [
    "## 7. Create a lambda function to find the maximum value in a list of integers."
   ]
  },
  {
   "cell_type": "code",
   "execution_count": 11,
   "id": "732e710d-4038-4c58-be93-fc5639585b56",
   "metadata": {},
   "outputs": [
    {
     "name": "stdout",
     "output_type": "stream",
     "text": [
      "10\n"
     ]
    }
   ],
   "source": [
    "numbers = [5, 10, 2, 8, 3]\n",
    "\n",
    "max_value = max(numbers, key=lambda x: x)\n",
    "\n",
    "print(max_value)\n"
   ]
  },
  {
   "cell_type": "markdown",
   "id": "7c47d66c-18ca-42ef-94ed-21ad395c0230",
   "metadata": {},
   "source": [
    "## 8. Implement a lambda function to filter out all the even numbers from a list of integers."
   ]
  },
  {
   "cell_type": "code",
   "execution_count": 34,
   "id": "502584e3-83fc-4ad9-94fa-89c9b4a87cc6",
   "metadata": {},
   "outputs": [
    {
     "name": "stdout",
     "output_type": "stream",
     "text": [
      "2\n",
      "4\n",
      "6\n",
      "8\n",
      "10\n"
     ]
    }
   ],
   "source": [
    "numbers = [1, 2, 3, 4, 5, 6, 7, 8, 9, 10]\n",
    "\n",
    "even_numbers = filter(lambda x: x % 2 == 0, numbers)\n",
    "\n",
    "for num in even_numbers:\n",
    "    print(num)\n"
   ]
  },
  {
   "cell_type": "markdown",
   "id": "ddc12a92-c48b-4e0b-ad9f-9129848662d2",
   "metadata": {},
   "source": [
    "## Write a lambda function to sort a list of strings in ascending order based on the length of each string."
   ]
  },
  {
   "cell_type": "code",
   "execution_count": 39,
   "id": "3c4bfc25-5d8c-466c-856a-5d3608cce727",
   "metadata": {},
   "outputs": [
    {
     "name": "stdout",
     "output_type": "stream",
     "text": [
      "['abc', 'Dreams', 'Fairies', 'Rainbow', 'Unicorns']\n"
     ]
    }
   ],
   "source": [
    "string=[\"Fairies\",\"Unicorns\",\"Rainbow\",\"Dreams\",\"abc\"]\n",
    "sorted_string=sorted(string, key=lambda x : len(x))\n",
    "print(sorted_string)"
   ]
  },
  {
   "cell_type": "markdown",
   "id": "a1a926d0-d9b4-4b5a-8aa5-99b6ae787935",
   "metadata": {},
   "source": [
    "## 10. Create a lambda function that takes two lists as input and returns a new list containing the common elements between the two lists."
   ]
  },
  {
   "cell_type": "code",
   "execution_count": 41,
   "id": "26d7eec4-9a7c-4f59-8f87-4ce16ec26785",
   "metadata": {},
   "outputs": [
    {
     "name": "stdout",
     "output_type": "stream",
     "text": [
      "3\n",
      "4\n",
      "5\n",
      "2\n"
     ]
    }
   ],
   "source": [
    "list1=[1,2,3,4,5]\n",
    "list2=[3,4,5,6,7,2]\n",
    "common=filter(lambda x : x in list1,list2)\n",
    "for num in common:\n",
    "    print(num)"
   ]
  },
  {
   "cell_type": "markdown",
   "id": "7bceb17a-2833-4df4-be6b-fb249313ea6e",
   "metadata": {},
   "source": [
    "## 11. Write a recursive function to calculate the factorial of a given positive integer."
   ]
  },
  {
   "cell_type": "code",
   "execution_count": 42,
   "id": "6454246e-54be-427c-8d85-31dd5253cebc",
   "metadata": {},
   "outputs": [],
   "source": [
    "def factorial(n):\n",
    "    # Base case: 1! = 1\n",
    "    if n == 1:\n",
    "        return 1\n",
    "    # Recursive case: n! = n * (n-1)!\n",
    "    else:\n",
    "        return n * factorial(n-1)"
   ]
  },
  {
   "cell_type": "code",
   "execution_count": 43,
   "id": "09a6ddbb-dff2-493b-9d76-7085096cd4cc",
   "metadata": {},
   "outputs": [
    {
     "data": {
      "text/plain": [
       "24"
      ]
     },
     "execution_count": 43,
     "metadata": {},
     "output_type": "execute_result"
    }
   ],
   "source": [
    "factorial(4)"
   ]
  },
  {
   "cell_type": "markdown",
   "id": "2eb3cd55-c952-44d3-a50d-bc67cc65da6b",
   "metadata": {},
   "source": [
    "## 12. Implement a recursive function to compute the nth Fibonacci number."
   ]
  },
  {
   "cell_type": "code",
   "execution_count": 45,
   "id": "661709a4-f68a-4f04-a530-4883b0a4106c",
   "metadata": {},
   "outputs": [
    {
     "name": "stdout",
     "output_type": "stream",
     "text": [
      "[0, 1]\n",
      "Step 1: Our Fibonacci series up to n-1 terms = [0, 1]\n",
      "1\n",
      "0\n",
      "1\n",
      "Step 2: Next term to add = 1\n",
      "Step 3: Our Fibonacci series after adding next term = [0, 1, 1]\n",
      "[0, 1, 1]\n",
      "Step 4: Our Fibonacci series up to n-1 terms = [0, 1, 1]\n",
      "1\n",
      "1\n",
      "2\n",
      "Step 5: Next term to add = 2\n",
      "Step 6: Our Fibonacci series after adding next term = [0, 1, 1, 2]\n",
      "[0, 1, 1, 2]\n",
      "Step 7: Our Fibonacci series up to n-1 terms = [0, 1, 1, 2]\n",
      "2\n",
      "1\n",
      "3\n",
      "Step 8: Next term to add = 3\n",
      "Step 9: Our Fibonacci series after adding next term = [0, 1, 1, 2, 3]\n",
      "So my final Fibonacci series is --->  [0, 1, 1, 2, 3]\n"
     ]
    }
   ],
   "source": [
    "# We need to have a counter\n",
    "cnt = 1 # This is a counter, because to explain each step. Nothing more than it.\n",
    "\n",
    "def my_fibonacci(n):\n",
    "    global cnt\n",
    "\n",
    "    if n <= 0:\n",
    "        return []\n",
    "    elif n == 1:\n",
    "        return [0]\n",
    "    elif n == 2:\n",
    "        return [0, 1]\n",
    "    else:\n",
    "        fibonacci_series = my_fibonacci(n - 1)\n",
    "        print(fibonacci_series)\n",
    "        print(f\"Step {cnt}: Our Fibonacci series up to n-1 terms = {fibonacci_series}\")\n",
    "        cnt += 1\n",
    "        next_term = fibonacci_series[-1] + fibonacci_series[-2]\n",
    "        print(fibonacci_series[-1])\n",
    "        print(fibonacci_series[-2])\n",
    "        print(next_term)\n",
    "        print(f\"Step {cnt}: Next term to add = {next_term}\")\n",
    "        cnt += 1\n",
    "        fibonacci_series.append(next_term)\n",
    "        print(f\"Step {cnt}: Our Fibonacci series after adding next term = {fibonacci_series}\")\n",
    "        cnt += 1\n",
    "        return fibonacci_series\n",
    "\n",
    "print(\"So my final Fibonacci series is ---> \", my_fibonacci(5))"
   ]
  },
  {
   "cell_type": "markdown",
   "id": "e6a8f4fe-0c0f-4243-a8c2-19ea88ea646c",
   "metadata": {},
   "source": [
    "## 13. Create a recursive function to find the sum of all the elements in a given list."
   ]
  },
  {
   "cell_type": "code",
   "execution_count": 46,
   "id": "9420ba02-75d1-4acc-82b6-032627d0c9b0",
   "metadata": {},
   "outputs": [
    {
     "name": "stdout",
     "output_type": "stream",
     "text": [
      "78\n"
     ]
    }
   ],
   "source": [
    "def recursive_sum(n):\n",
    "    # Base case\n",
    "    if n == 1:\n",
    "        return 1\n",
    "    # Recursive case\n",
    "    else:\n",
    "        return n + recursive_sum(n - 1)\n",
    "\n",
    "print(recursive_sum(12))  "
   ]
  },
  {
   "cell_type": "markdown",
   "id": "76086307-8f5d-4cff-bb37-1b10422af2b3",
   "metadata": {},
   "source": [
    "### 14. Write a recursive function to determine whether a given string is a palindrome."
   ]
  },
  {
   "cell_type": "code",
   "execution_count": 48,
   "id": "29d39a4a-2370-45e4-9808-0b81b17b5eec",
   "metadata": {},
   "outputs": [],
   "source": [
    "def is_palindrome(string):\n",
    "    # Base case: if the string is empty or contains only one character, it is a palindrome\n",
    "    if len(string) <= 1:\n",
    "        return True\n",
    "    \n",
    "    # Recursive case: check if the first and last characters are equal\n",
    "    if string[0] == string[-1]:\n",
    "        # Recursively check if the substring excluding the first and last characters is a palindrome\n",
    "        return is_palindrome(string[1:-1])\n",
    "    \n",
    "    # If the first and last characters are not equal, it is not a palindrome\n",
    "    return False\n"
   ]
  },
  {
   "cell_type": "code",
   "execution_count": 49,
   "id": "f8eaac63-3205-4ddf-98fd-5f3a5ee9f335",
   "metadata": {},
   "outputs": [
    {
     "name": "stdout",
     "output_type": "stream",
     "text": [
      "True\n",
      "False\n"
     ]
    }
   ],
   "source": [
    "string1 = \"racecar\"\n",
    "print(is_palindrome(string1))  # Output: True\n",
    "\n",
    "string2 = \"hello\"\n",
    "print(is_palindrome(string2))  # Output: False\n"
   ]
  },
  {
   "cell_type": "markdown",
   "id": "f230e631-8e6d-4fb9-a629-b2e19213c0b4",
   "metadata": {},
   "source": [
    "## 15. Implement a recursive function to find the greatest common divisor (GCD) of two positive integers."
   ]
  },
  {
   "cell_type": "code",
   "execution_count": 50,
   "id": "41cec803-948a-4558-82e4-fbeac6e56c41",
   "metadata": {},
   "outputs": [],
   "source": [
    "def gcd(a, b):\n",
    "    if b == 0:\n",
    "        return a\n",
    "    else:\n",
    "        return gcd(b, a % b)\n"
   ]
  },
  {
   "cell_type": "code",
   "execution_count": 51,
   "id": "d6b9b5bb-1e25-47f1-99d3-b1b921c10574",
   "metadata": {},
   "outputs": [
    {
     "name": "stdout",
     "output_type": "stream",
     "text": [
      "6\n"
     ]
    }
   ],
   "source": [
    "num1 = 48\n",
    "num2 = 18\n",
    "\n",
    "print(gcd(num1, num2))  # Output: 6\n"
   ]
  },
  {
   "cell_type": "code",
   "execution_count": null,
   "id": "70930688-dfbc-4ce8-8f12-dff4ec3003a4",
   "metadata": {},
   "outputs": [],
   "source": []
  }
 ],
 "metadata": {
  "kernelspec": {
   "display_name": "Python 3 (ipykernel)",
   "language": "python",
   "name": "python3"
  },
  "language_info": {
   "codemirror_mode": {
    "name": "ipython",
    "version": 3
   },
   "file_extension": ".py",
   "mimetype": "text/x-python",
   "name": "python",
   "nbconvert_exporter": "python",
   "pygments_lexer": "ipython3",
   "version": "3.10.6"
  }
 },
 "nbformat": 4,
 "nbformat_minor": 5
}
