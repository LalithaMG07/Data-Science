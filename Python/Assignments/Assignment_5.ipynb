{
 "cells": [
  {
   "cell_type": "markdown",
   "id": "3aab8a61-6f62-431e-97ef-f6e407f3278a",
   "metadata": {},
   "source": [
    "1. What does an empty dictionary&#39;s code look like?"
   ]
  },
  {
   "cell_type": "code",
   "execution_count": 3,
   "id": "10019e1b-a4b4-4882-aa17-4a5e38d41dc7",
   "metadata": {},
   "outputs": [],
   "source": [
    "empty_dict={}"
   ]
  },
  {
   "cell_type": "code",
   "execution_count": 2,
   "id": "71c0f231-677d-4165-9aeb-f3fe57a5c017",
   "metadata": {},
   "outputs": [
    {
     "data": {
      "text/plain": [
       "dict"
      ]
     },
     "execution_count": 2,
     "metadata": {},
     "output_type": "execute_result"
    }
   ],
   "source": [
    "type(empty_dict)"
   ]
  },
  {
   "cell_type": "markdown",
   "id": "865929cd-bd01-410f-b2b0-539c9f5c5a09",
   "metadata": {},
   "source": [
    "2. What is the value of a dictionary value with the key &#39;foo&#39; and the value 42?"
   ]
  },
  {
   "cell_type": "markdown",
   "id": "6f390105-126b-4bb4-a9d7-a1453009edc6",
   "metadata": {},
   "source": [
    "42"
   ]
  },
  {
   "cell_type": "markdown",
   "id": "fb6864e6-159e-40a2-9c8f-54a2b766a5f9",
   "metadata": {},
   "source": [
    "3. What is the most significant distinction between a dictionary and a list?"
   ]
  },
  {
   "cell_type": "markdown",
   "id": "148ee650-ac74-4fcf-aecd-e77c3b0f3d17",
   "metadata": {},
   "source": [
    " Lists are ordered collections accessed by indices, while dictionaries are key-value pairs accessed by unique keys. "
   ]
  },
  {
   "cell_type": "markdown",
   "id": "41a9981e-a38a-412d-bad5-aec8e53e63fd",
   "metadata": {},
   "source": [
    "4. What happens if you try to access spam[&#39;foo&#39;] if spam is {&#39;bar&#39;: 100}?"
   ]
  },
  {
   "cell_type": "markdown",
   "id": "67367712-0aaf-480a-9ed5-1abc7544a660",
   "metadata": {},
   "source": [
    "It will raise KeyError Exception"
   ]
  },
  {
   "cell_type": "markdown",
   "id": "6576b030-ea19-4494-8642-9a7864ff2e0e",
   "metadata": {},
   "source": [
    "5. If a dictionary is stored in spam, what is the difference between the expressions &#39;cat&#39; in spam and\n",
    "&#39;cat&#39; in spam.keys()?"
   ]
  },
  {
   "cell_type": "markdown",
   "id": "4ff8664b-1732-4b79-95e0-19a7d418e4ef",
   "metadata": {},
   "source": [
    "'cat' in spam:\n",
    "\n",
    "This expression checks if the key 'cat' is present in the dictionary spam.\n",
    "It returns a boolean value True if the key is found, indicating that 'cat' is a key in the dictionary.\n",
    "This expression directly checks for the presence of the key within the dictionary and does not consider the associated values.\n",
    "'cat' in spam.keys():\n",
    "\n",
    "This expression retrieves the keys of the dictionary spam using the keys() method and then checks if 'cat' is present in that collection of keys.\n",
    "It returns a boolean value True if the key is found in the keys of the dictionary.\n",
    "This expression explicitly accesses the keys of the dictionary and checks if the specified key exists among them."
   ]
  },
  {
   "cell_type": "markdown",
   "id": "02474dd4-a81b-4e7d-88b0-236f82bbfc43",
   "metadata": {},
   "source": [
    "6. If a dictionary is stored in spam, what is the difference between the expressions &#39;cat&#39; in spam and\n",
    "&#39;cat&#39; in spam.values()?"
   ]
  },
  {
   "cell_type": "markdown",
   "id": "6c66b21e-6505-4782-a01d-e95a01768da3",
   "metadata": {},
   "source": [
    "'cat' in spam:\n",
    "\n",
    "This expression checks if the value 'cat' is present as a key in the dictionary spam.\n",
    "It returns a boolean value True if the value is found as a key in the dictionary.\n",
    "This expression looks for the presence of 'cat' as a key and does not consider the associated values.\n",
    "'cat' in spam.values():\n",
    "\n",
    "This expression retrieves the values of the dictionary spam using the values() method and checks if 'cat' is present in that collection of values.\n",
    "It returns a boolean value True if the value is found in the values of the dictionary.\n",
    "This expression explicitly accesses the values of the dictionary and checks if the specified value exists among them."
   ]
  },
  {
   "cell_type": "markdown",
   "id": "b76f6d73-923d-4cbc-b899-5f3e3ba7e5fe",
   "metadata": {},
   "source": [
    "7. What is a shortcut for the following code?\n",
    "if &#39;color&#39; not in spam:\n",
    "spam[&#39;color&#39;] = &#39;black&#39;"
   ]
  },
  {
   "cell_type": "code",
   "execution_count": 12,
   "id": "c6682b13-0f35-467d-ba2f-35e1d486d6e7",
   "metadata": {},
   "outputs": [
    {
     "data": {
      "text/plain": [
       "'black'"
      ]
     },
     "execution_count": 12,
     "metadata": {},
     "output_type": "execute_result"
    }
   ],
   "source": [
    "spam.setdefault(\"color\",\"black\")"
   ]
  },
  {
   "cell_type": "code",
   "execution_count": 13,
   "id": "c41f6dbb-2553-4084-b94a-1820f5128493",
   "metadata": {},
   "outputs": [
    {
     "data": {
      "text/plain": [
       "{'color': 'black'}"
      ]
     },
     "execution_count": 13,
     "metadata": {},
     "output_type": "execute_result"
    }
   ],
   "source": [
    "spam"
   ]
  },
  {
   "cell_type": "code",
   "execution_count": 10,
   "id": "230e28d9-28a0-4b3a-8790-36208addf3c1",
   "metadata": {},
   "outputs": [],
   "source": [
    "spam.update({\"color\":\"black\"})"
   ]
  },
  {
   "cell_type": "code",
   "execution_count": 6,
   "id": "a9a70fea-faeb-4bb8-abbd-30ab7ccb1038",
   "metadata": {},
   "outputs": [],
   "source": [
    "spam=dict()"
   ]
  },
  {
   "cell_type": "code",
   "execution_count": 11,
   "id": "88fe8499-bc8e-416b-8db9-f50378d9f6db",
   "metadata": {},
   "outputs": [
    {
     "data": {
      "text/plain": [
       "{'color': 'black'}"
      ]
     },
     "execution_count": 11,
     "metadata": {},
     "output_type": "execute_result"
    }
   ],
   "source": [
    "spam"
   ]
  },
  {
   "cell_type": "markdown",
   "id": "99f968c2-6d8e-4944-b1b9-becba437f44e",
   "metadata": {},
   "source": [
    "8. How do you &quot;pretty print&quot; dictionary values using which module and function?"
   ]
  },
  {
   "cell_type": "markdown",
   "id": "85caf11f-78ed-47a7-b3b5-fd2066e77f4d",
   "metadata": {},
   "source": [
    "To \"pretty print\" dictionary values in Python, you can make use of the pprint module and its pprint() function. The pprint module provides a way to display data structures, including dictionaries, in a more readable and formatted manner."
   ]
  },
  {
   "cell_type": "code",
   "execution_count": 14,
   "id": "337613bc-c591-44fb-921f-22441162a832",
   "metadata": {},
   "outputs": [
    {
     "name": "stdout",
     "output_type": "stream",
     "text": [
      "{'age': 30, 'city': 'New York', 'name': 'John'}\n"
     ]
    }
   ],
   "source": [
    "import pprint\n",
    "\n",
    "my_dict = {'name': 'John', 'age': 30, 'city': 'New York'}\n",
    "pprint.pprint(my_dict)\n"
   ]
  }
 ],
 "metadata": {
  "kernelspec": {
   "display_name": "Python 3 (ipykernel)",
   "language": "python",
   "name": "python3"
  },
  "language_info": {
   "codemirror_mode": {
    "name": "ipython",
    "version": 3
   },
   "file_extension": ".py",
   "mimetype": "text/x-python",
   "name": "python",
   "nbconvert_exporter": "python",
   "pygments_lexer": "ipython3",
   "version": "3.10.6"
  }
 },
 "nbformat": 4,
 "nbformat_minor": 5
}
