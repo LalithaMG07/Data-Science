{
 "cells": [
  {
   "cell_type": "markdown",
   "id": "830aa177-fae3-48ef-a5fd-e0315f872659",
   "metadata": {},
   "source": [
    "## 1. What is the role of try and exception block?"
   ]
  },
  {
   "cell_type": "markdown",
   "id": "f20e5dd1-8def-4430-addc-61d3a8faf400",
   "metadata": {},
   "source": [
    "The try and except blocks in Python are used for error handling and exception handling.\n",
    "\n",
    "The try block is used to enclose the code that might raise an exception. It allows you to specify a block of code that you want to monitor for exceptions. If an exception occurs within the try block, the rest of the code within the try block is skipped, and the execution jumps to the corresponding except block.\n",
    "\n",
    "The except block is used to define the actions to be taken when a specific exception occurs. It catches the exception raised within the try block and handles it gracefully, preventing the program from terminating abruptly. You can have multiple except blocks to handle different types of exceptions. If an exception matches the type specified in an except block, the code within that block is executed."
   ]
  },
  {
   "cell_type": "markdown",
   "id": "38d462f8-069b-428e-8868-f783fe9c628b",
   "metadata": {},
   "source": [
    "## 2. What is the syntax for a basic try-except block?"
   ]
  },
  {
   "cell_type": "markdown",
   "id": "186aa6a9-7022-4af8-bdbb-e93cbeac3fcd",
   "metadata": {},
   "source": [
    "The syntax for a basic try-except block in Python is as follows:"
   ]
  },
  {
   "cell_type": "code",
   "execution_count": null,
   "id": "4290f2a8-8e08-4ff2-b3c6-1ff9e0405185",
   "metadata": {},
   "outputs": [],
   "source": [
    "try:\n",
    "    # Code that might raise an exception\n",
    "    # ...\n",
    "except ExceptionType:\n",
    "    # Code to handle the exception\n",
    "    # ...\n"
   ]
  },
  {
   "cell_type": "markdown",
   "id": "c60fa228-0dbb-4282-a05d-42f22449819a",
   "metadata": {},
   "source": [
    "Here's a breakdown of the different parts:\n",
    "\n",
    "The try keyword is used to define the block of code that you want to monitor for exceptions.\n",
    "The code that might raise an exception is written within the try block.\n",
    "The except keyword is followed by the specific type of exception you want to catch. ExceptionType should be replaced with the actual type of exception you want to handle. For example, you can use ValueError to catch exceptions related to invalid value conversions, or FileNotFoundError to catch file not found errors.\n",
    "The code to handle the exception is written within the except block. It specifies the actions that should be taken when the specified exception occurs."
   ]
  },
  {
   "cell_type": "markdown",
   "id": "018a4103-b8e7-46f4-af1f-00105f1982cf",
   "metadata": {},
   "source": [
    "## 3. What happens if an exception occurs inside a try block and there is no matching except block?"
   ]
  },
  {
   "cell_type": "markdown",
   "id": "71c631ed-fa37-40d9-a646-d7c81c0a7532",
   "metadata": {},
   "source": [
    "If an exception occurs inside a try block and there is no matching except block to handle that specific exception, the exception will propagate up the call stack. This means that the program will terminate, and an error message will be displayed, indicating the type of exception that occurred and a traceback of the code execution path.\n",
    "\n",
    "The default behavior in Python is to print a traceback message that shows the line numbers and function calls leading up to the unhandled exception. This traceback provides information about the error and can help identify the cause of the exception.\n",
    "\n",
    "Here's an example to illustrate what happens when an exception occurs inside a try block without a matching except block:"
   ]
  },
  {
   "cell_type": "code",
   "execution_count": 1,
   "id": "c0468468-a108-4944-a1e3-e3ec0061f137",
   "metadata": {},
   "outputs": [
    {
     "ename": "ZeroDivisionError",
     "evalue": "division by zero",
     "output_type": "error",
     "traceback": [
      "\u001b[0;31m---------------------------------------------------------------------------\u001b[0m",
      "\u001b[0;31mZeroDivisionError\u001b[0m                         Traceback (most recent call last)",
      "Cell \u001b[0;32mIn [1], line 4\u001b[0m\n\u001b[1;32m      2\u001b[0m     num1 \u001b[38;5;241m=\u001b[39m \u001b[38;5;241m10\u001b[39m\n\u001b[1;32m      3\u001b[0m     num2 \u001b[38;5;241m=\u001b[39m \u001b[38;5;241m0\u001b[39m\n\u001b[0;32m----> 4\u001b[0m     result \u001b[38;5;241m=\u001b[39m \u001b[43mnum1\u001b[49m\u001b[43m \u001b[49m\u001b[38;5;241;43m/\u001b[39;49m\u001b[43m \u001b[49m\u001b[43mnum2\u001b[49m\n\u001b[1;32m      5\u001b[0m     \u001b[38;5;28mprint\u001b[39m(\u001b[38;5;124m\"\u001b[39m\u001b[38;5;124mResult:\u001b[39m\u001b[38;5;124m\"\u001b[39m, result)\n\u001b[1;32m      6\u001b[0m \u001b[38;5;28;01mexcept\u001b[39;00m \u001b[38;5;167;01mValueError\u001b[39;00m:\n",
      "\u001b[0;31mZeroDivisionError\u001b[0m: division by zero"
     ]
    }
   ],
   "source": [
    "try:\n",
    "    num1 = 10\n",
    "    num2 = 0\n",
    "    result = num1 / num2\n",
    "    print(\"Result:\", result)\n",
    "except ValueError:\n",
    "    print(\"This block will not be executed.\")\n"
   ]
  },
  {
   "cell_type": "markdown",
   "id": "20b90364-4609-433e-84df-5705458e3254",
   "metadata": {},
   "source": [
    "In this example, the code attempts to divide num1 by num2, which results in a ZeroDivisionError exception. Since there is no except block specifically handling ZeroDivisionError, the program will terminate, and an error message will be displayed, indicating the unhandled exception and a traceback.\n",
    "\n",
    "To handle exceptions more gracefully, it is important to have appropriate except blocks to catch and handle expected exceptions, and possibly a generic except block to handle any unexpected exceptions. This way, the program can handle exceptions and continue executing rather than terminating abruptly."
   ]
  },
  {
   "cell_type": "markdown",
   "id": "ea2751e0-b27d-44d9-a262-4a06e8e5efff",
   "metadata": {},
   "source": [
    "## What is the difference between using a bare except block and specifying a specific exception type?"
   ]
  },
  {
   "cell_type": "markdown",
   "id": "944694e5-45f7-42f5-8774-85e760e265c2",
   "metadata": {},
   "source": [
    "The difference between using a bare except block and specifying a specific exception type lies in the level of control and specificity in handling exceptions.\n",
    "\n",
    "Bare except block:\n",
    "\n",
    "A bare except block catches all exceptions, regardless of their type.\n",
    "It can be used as a generic catch-all to handle any unexpected exceptions.\n",
    "However, it can make it difficult to identify the specific exception that occurred, as it treats all exceptions the same.\n",
    "Using a bare except block is generally discouraged, as it can hide errors and make debugging more challenging.\n",
    "Specific exception type:\n",
    "\n",
    "Specifying a specific exception type in an except block allows you to catch and handle only that particular type of exception.\n",
    "It provides more control and clarity in handling exceptions, as you can write targeted code to handle different exceptions appropriately.\n",
    "It allows you to handle different types of exceptions differently, tailoring the exception handling based on the specific situation.\n",
    "By specifying the exception type, you can handle exceptions more accurately and provide more specific error messages or take appropriate actions."
   ]
  },
  {
   "cell_type": "code",
   "execution_count": 1,
   "id": "320f818a-c203-412d-8ef1-784fdc8d3cfb",
   "metadata": {},
   "outputs": [
    {
     "name": "stdin",
     "output_type": "stream",
     "text": [
      "Enter a number:  2\n",
      "Enter another number:  0\n"
     ]
    },
    {
     "name": "stdout",
     "output_type": "stream",
     "text": [
      "An unexpected error occurred.\n"
     ]
    }
   ],
   "source": [
    "try:\n",
    "    num1 = int(input(\"Enter a number: \"))\n",
    "    num2 = int(input(\"Enter another number: \"))\n",
    "    result = num1 / num2\n",
    "    print(\"Result:\", result)\n",
    "except:\n",
    "    print(\"An unexpected error occurred.\")\n"
   ]
  },
  {
   "cell_type": "code",
   "execution_count": 2,
   "id": "5c664bfe-8e6d-4469-a0fe-637cfaee516a",
   "metadata": {},
   "outputs": [
    {
     "name": "stdin",
     "output_type": "stream",
     "text": [
      "Enter a number:  2\n",
      "Enter another number:  0\n"
     ]
    },
    {
     "name": "stdout",
     "output_type": "stream",
     "text": [
      "Error: Division by zero is not allowed.\n"
     ]
    }
   ],
   "source": [
    "try:\n",
    "    num1 = int(input(\"Enter a number: \"))\n",
    "    num2 = int(input(\"Enter another number: \"))\n",
    "    result = num1 / num2\n",
    "    print(\"Result:\", result)\n",
    "except ValueError:\n",
    "    print(\"Invalid input. Please enter valid numbers.\")\n",
    "except ZeroDivisionError:\n",
    "    print(\"Error: Division by zero is not allowed.\")\n"
   ]
  },
  {
   "cell_type": "markdown",
   "id": "0c4e002d-c02f-4c83-bd2f-a34e69195f4b",
   "metadata": {},
   "source": [
    "## 5. Can you have nested try-except blocks in Python? If yes, then give an example."
   ]
  },
  {
   "cell_type": "markdown",
   "id": "6c810d37-c996-40d8-a709-c01412c194b7",
   "metadata": {},
   "source": [
    "Yes, nested try-except blocks are allowed in Python. You can have one try-except block inside another try or except block. This nesting allows for more fine-grained exception handling, where different levels of code can handle exceptions at different levels of specificity."
   ]
  },
  {
   "cell_type": "code",
   "execution_count": 3,
   "id": "aafb9ee9-5869-46cc-b400-edcacd941f96",
   "metadata": {},
   "outputs": [
    {
     "name": "stdin",
     "output_type": "stream",
     "text": [
      "Enter a number:  hgf\n"
     ]
    },
    {
     "name": "stdout",
     "output_type": "stream",
     "text": [
      "Invalid input. Please enter a valid number.\n"
     ]
    }
   ],
   "source": [
    "try:\n",
    "    # Outer try block\n",
    "    num1 = int(input(\"Enter a number: \"))\n",
    "    \n",
    "    try:\n",
    "        # Inner try block\n",
    "        num2 = int(input(\"Enter another number: \"))\n",
    "        result = num1 / num2\n",
    "        print(\"Result:\", result)\n",
    "    except ZeroDivisionError:\n",
    "        print(\"Error: Division by zero is not allowed.\")\n",
    "    except ValueError:\n",
    "        print(\"Invalid input. Please enter valid numbers.\")\n",
    "        \n",
    "except ValueError:\n",
    "    print(\"Invalid input. Please enter a valid number.\")\n"
   ]
  },
  {
   "cell_type": "markdown",
   "id": "df6acbec-80c6-4ce6-bb3a-caaa98aa4c3e",
   "metadata": {},
   "source": [
    "## 6. Can we use multiple exception blocks, if yes then give an example."
   ]
  },
  {
   "cell_type": "markdown",
   "id": "d1140c17-764c-420e-b285-7435aa97bab0",
   "metadata": {},
   "source": [
    "Yes, you can use multiple except blocks to handle different types of exceptions in Python. This allows you to specify different actions to be taken based on the specific exception that occurred. Each except block can handle a specific type of exception."
   ]
  },
  {
   "cell_type": "code",
   "execution_count": 4,
   "id": "6c0945cb-59b0-48fc-83bb-5144998ae1aa",
   "metadata": {},
   "outputs": [
    {
     "name": "stdin",
     "output_type": "stream",
     "text": [
      "Enter a number:  9\n",
      "Enter another number:  0\n"
     ]
    },
    {
     "name": "stdout",
     "output_type": "stream",
     "text": [
      "Error: Division by zero is not allowed.\n"
     ]
    }
   ],
   "source": [
    "try:\n",
    "    num1 = int(input(\"Enter a number: \"))\n",
    "    num2 = int(input(\"Enter another number: \"))\n",
    "    result = num1 / num2\n",
    "    print(\"Result:\", result)\n",
    "except ValueError:\n",
    "    print(\"Invalid input. Please enter valid numbers.\")\n",
    "except ZeroDivisionError:\n",
    "    print(\"Error: Division by zero is not allowed.\")\n",
    "except Exception as e:\n",
    "    print(\"An unexpected error occurred:\", str(e))\n"
   ]
  },
  {
   "cell_type": "markdown",
   "id": "f4b333b0-6c56-410d-926f-9c6517d273eb",
   "metadata": {},
   "source": [
    "7. Write the reason due to which following errors are raised:\n",
    "a. EOFError\n",
    "b. FloatingPointError\n",
    "c. IndexError\n",
    "d. MemoryError\n",
    "e. OverflowError\n",
    "f. TabError\n",
    "g. ValueError"
   ]
  },
  {
   "cell_type": "markdown",
   "id": "56b1e56e-b5e8-4462-ae80-3b40af0cf323",
   "metadata": {},
   "source": [
    "Here are the reasons due to which the following errors are raised:\n",
    "\n",
    "a. EOFError:\n",
    "\n",
    "EOFError is raised when there is an unexpected end of file or input. It typically occurs when a function or statement is expecting more data, but there is no more input available.\n",
    "b. FloatingPointError:\n",
    "\n",
    "FloatingPointError is raised when a floating-point operation fails. It can occur due to various reasons, such as division by zero, an overflow or underflow in floating-point calculations, or an invalid operation on a floating-point number.\n",
    "c. IndexError:\n",
    "\n",
    "IndexError is raised when an index is out of range, usually in the context of accessing elements in a sequence (such as a list or string) using an invalid index. It occurs when you try to access an element at an index that is beyond the bounds of the sequence.\n",
    "d. MemoryError:\n",
    "\n",
    "MemoryError is raised when the program cannot allocate more memory for its execution. It occurs when the available memory is insufficient to fulfill the memory requirements of the program or when the program exceeds the allowed memory limits.\n",
    "e. OverflowError:\n",
    "\n",
    "OverflowError is raised when the result of an arithmetic operation exceeds the maximum representable value for a numeric type. It occurs when a calculation produces a value that is too large to be represented within the specified data type.\n",
    "f. TabError:\n",
    "\n",
    "TabError is raised when there is an issue with indentation, particularly involving the use of tabs and spaces. It occurs when inconsistent or improper indentation is detected within the code, such as mixing tabs and spaces or using tabs or spaces incorrectly.\n",
    "g. ValueError:\n",
    "\n",
    "ValueError is raised when a function receives an argument of the correct type but an inappropriate value. It occurs when the input to a function or operation is of the correct data type but is invalid or outside the expected range or set of values.\n",
    "These errors are raised by Python to indicate specific issues or exceptional conditions encountered during program execution. Understanding these error types helps in debugging and handling them appropriately to ensure proper program behavior."
   ]
  },
  {
   "cell_type": "markdown",
   "id": "e8dce1a6-dea2-4f1e-a864-ff15677a23d3",
   "metadata": {},
   "source": [
    "8. Write code for the following given scenario and add try-exception block to it.\n",
    "a. Program to divide two numbers\n",
    "b. Program to convert a string to an integer\n",
    "c. Program to access an element in a list\n",
    "d. Program to handle a specific exception\n",
    "e. Program to handle any exception"
   ]
  },
  {
   "cell_type": "markdown",
   "id": "9f01dc4a-c6e1-422c-8e70-755b1f86a6fd",
   "metadata": {},
   "source": [
    "## a. Program to divide two numbers"
   ]
  },
  {
   "cell_type": "code",
   "execution_count": 5,
   "id": "a9f5962c-1169-4a7d-967e-c7b25c7dc574",
   "metadata": {},
   "outputs": [
    {
     "name": "stdin",
     "output_type": "stream",
     "text": [
      "Enter a number:  5\n",
      "Enter another number:  0\n"
     ]
    },
    {
     "name": "stdout",
     "output_type": "stream",
     "text": [
      "Error: Division by zero is not allowed.\n"
     ]
    }
   ],
   "source": [
    "try:\n",
    "    num1 = int(input(\"Enter a number: \"))\n",
    "    num2 = int(input(\"Enter another number: \"))\n",
    "    result = num1 / num2\n",
    "    print(\"Result:\", result)\n",
    "except ValueError:\n",
    "    print(\"Invalid input. Please enter valid numbers.\")\n",
    "except ZeroDivisionError:\n",
    "    print(\"Error: Division by zero is not allowed.\")\n",
    "except Exception as e:\n",
    "    print(\"An unexpected error occurred:\", str(e))\n"
   ]
  },
  {
   "cell_type": "markdown",
   "id": "983f0548-ce91-4347-8972-d8b6e64a3fcc",
   "metadata": {},
   "source": [
    "### b. Program to convert a string to an integer\n"
   ]
  },
  {
   "cell_type": "code",
   "execution_count": 9,
   "id": "6acacf78-ee2f-4a8e-8d12-ccc08026e68b",
   "metadata": {},
   "outputs": [
    {
     "name": "stdin",
     "output_type": "stream",
     "text": [
      "Enter a number:  abc\n"
     ]
    },
    {
     "name": "stdout",
     "output_type": "stream",
     "text": [
      "Invalid input. Please enter valid numbers.\n"
     ]
    }
   ],
   "source": [
    "try:\n",
    "    num1 = int(input(\"Enter a number: \"))\n",
    "    print(\"Number:\",num1)\n",
    "except ValueError:\n",
    "    print(\"Invalid input. Please enter valid numbers.\")\n",
    "    "
   ]
  },
  {
   "cell_type": "markdown",
   "id": "b40d0914-ead3-4e86-bde5-ca119ca26383",
   "metadata": {},
   "source": [
    "### c. Program to access an element in a list"
   ]
  },
  {
   "cell_type": "code",
   "execution_count": 11,
   "id": "a9dd85e5-81f6-4e20-b038-f88d7075cb4c",
   "metadata": {},
   "outputs": [
    {
     "name": "stdout",
     "output_type": "stream",
     "text": [
      "Index Error\n"
     ]
    }
   ],
   "source": [
    "try:\n",
    "    list1=[1,2,3,4,5]\n",
    "    print(list1[6])\n",
    "except IndexError:\n",
    "    print(\"Index Error\")"
   ]
  },
  {
   "cell_type": "markdown",
   "id": "f081684e-c731-4d44-a87e-5ea9b50f2bb4",
   "metadata": {},
   "source": [
    "### d. Program to handle a specific exception"
   ]
  },
  {
   "cell_type": "code",
   "execution_count": 12,
   "id": "c6679917-e3f8-4177-8795-1c58284d406d",
   "metadata": {},
   "outputs": [
    {
     "name": "stdin",
     "output_type": "stream",
     "text": [
      "Enter a number:  4\n",
      "Enter another number:  0\n"
     ]
    },
    {
     "name": "stdout",
     "output_type": "stream",
     "text": [
      "Error: Division by zero is not allowed.\n"
     ]
    }
   ],
   "source": [
    "try:\n",
    "    num1 = int(input(\"Enter a number: \"))\n",
    "    num2 = int(input(\"Enter another number: \"))\n",
    "    result = num1 / num2\n",
    "    print(\"Result:\", result)\n",
    "except ValueError:\n",
    "    print(\"Invalid input. Please enter valid numbers.\")\n",
    "except ZeroDivisionError:\n",
    "    print(\"Error: Division by zero is not allowed.\")\n"
   ]
  },
  {
   "cell_type": "markdown",
   "id": "924dc327-d60f-4766-806a-8d3a7d2b61cc",
   "metadata": {},
   "source": [
    "### e. Program to handle any exception"
   ]
  },
  {
   "cell_type": "code",
   "execution_count": 13,
   "id": "4c772bae-a5df-4c31-85fc-2ff9f03331f6",
   "metadata": {},
   "outputs": [
    {
     "name": "stdin",
     "output_type": "stream",
     "text": [
      "Enter a number:  ops\n"
     ]
    },
    {
     "name": "stdout",
     "output_type": "stream",
     "text": [
      "An unexpected error occurred: invalid literal for int() with base 10: 'ops'\n"
     ]
    }
   ],
   "source": [
    "try:\n",
    "    num1 = int(input(\"Enter a number: \"))\n",
    "    num2 = int(input(\"Enter another number: \"))\n",
    "    result = num1 / num2\n",
    "    print(\"Result:\", result)\n",
    "\n",
    "except Exception as e:\n",
    "    print(\"An unexpected error occurred:\", str(e))"
   ]
  },
  {
   "cell_type": "code",
   "execution_count": null,
   "id": "2f2f103e-1145-4421-8a20-93f4124c1881",
   "metadata": {},
   "outputs": [],
   "source": []
  }
 ],
 "metadata": {
  "kernelspec": {
   "display_name": "Python 3 (ipykernel)",
   "language": "python",
   "name": "python3"
  },
  "language_info": {
   "codemirror_mode": {
    "name": "ipython",
    "version": 3
   },
   "file_extension": ".py",
   "mimetype": "text/x-python",
   "name": "python",
   "nbconvert_exporter": "python",
   "pygments_lexer": "ipython3",
   "version": "3.10.6"
  }
 },
 "nbformat": 4,
 "nbformat_minor": 5
}
