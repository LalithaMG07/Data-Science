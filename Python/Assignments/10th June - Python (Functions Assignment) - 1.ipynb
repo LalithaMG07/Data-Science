{
 "cells": [
  {
   "cell_type": "markdown",
   "id": "c87d4fab-20e2-464b-beb4-383320c32c5c",
   "metadata": {},
   "source": [
    "## 1. In Python, what is the difference between a built-in function and a user-defined function? Provide an example of each."
   ]
  },
  {
   "cell_type": "markdown",
   "id": "b6829e78-597a-4dcb-94a1-42b82fae1377",
   "metadata": {},
   "source": [
    "In Python, the main difference between a built-in function and a user-defined function lies in their origin and how they are defined.\n",
    "\n",
    "Built-in functions: These are functions that are provided as part of the Python language itself. They are readily available for use without the need for any additional setup or definition. Built-in functions cover a wide range of functionalities and serve as fundamental tools for performing common operations.\n",
    "Here's an example of a built-in function in Python, len(), which is used to determine the length of an object, such as a string or a list:"
   ]
  },
  {
   "cell_type": "code",
   "execution_count": 1,
   "id": "bf7df1c7-7774-4a19-bc9a-8198e3749e7d",
   "metadata": {},
   "outputs": [
    {
     "name": "stdout",
     "output_type": "stream",
     "text": [
      "13\n"
     ]
    }
   ],
   "source": [
    "string = \"Hello, world!\"\n",
    "length = len(string)\n",
    "print(length)  # Output: 13\n"
   ]
  },
  {
   "cell_type": "markdown",
   "id": "d46ccdd4-d323-4720-af39-eff723abcd79",
   "metadata": {},
   "source": [
    "User-defined functions: These are functions that are created by the user or developer to perform specific tasks. User-defined functions allow you to encapsulate a block of code with a name, parameters, and optionally a return value, making it reusable throughout your program.\n",
    "Here's an example of a user-defined function in Python, multiply(), which multiplies two numbers:"
   ]
  },
  {
   "cell_type": "code",
   "execution_count": 2,
   "id": "70afc21a-6abf-4fdc-84b9-e51d2647d342",
   "metadata": {},
   "outputs": [
    {
     "name": "stdout",
     "output_type": "stream",
     "text": [
      "12\n"
     ]
    }
   ],
   "source": [
    "def multiply(x, y):\n",
    "    return x * y\n",
    "\n",
    "result = multiply(3, 4)\n",
    "print(result)  # Output: 12\n"
   ]
  },
  {
   "cell_type": "markdown",
   "id": "7658d015-a89c-4c6b-a31d-69b1bac825a4",
   "metadata": {},
   "source": [
    "## 2. How can you pass arguments to a function in Python? Explain the difference between positional arguments and keyword arguments."
   ]
  },
  {
   "cell_type": "markdown",
   "id": "cb66078e-64ae-4d19-aac0-26e0060c8989",
   "metadata": {},
   "source": [
    "In Python, you can pass arguments to a function in a few different ways:\n",
    "\n",
    "Positional arguments: Positional arguments are passed to a function based on their position or order. The function parameters receive the values in the same order as they are passed during the function call.\n",
    "Here's an example of a function that takes two positional arguments"
   ]
  },
  {
   "cell_type": "code",
   "execution_count": 6,
   "id": "2c560358-7dce-4d0e-a104-a1e309ec2c6c",
   "metadata": {},
   "outputs": [
    {
     "name": "stdout",
     "output_type": "stream",
     "text": [
      "Hello, Alice! You are 25 years old.\n"
     ]
    }
   ],
   "source": [
    "def greet(name, age):\n",
    "    print(\"Hello, \" + name + \"! You are \" + str(age) + \" years old.\")\n",
    "\n",
    "greet(\"Alice\", 25)\n"
   ]
  },
  {
   "cell_type": "markdown",
   "id": "16a88ece-3b1b-414c-823d-da1a4426f197",
   "metadata": {},
   "source": [
    "In this example, the greet() function has two parameters, name and age. When calling the function, the arguments \"Alice\" and 25 are provided in the same order as the function parameters. The function then prints the greeting with the given name and age."
   ]
  },
  {
   "cell_type": "markdown",
   "id": "661b8109-b7f9-4f69-887b-672a0a547426",
   "metadata": {},
   "source": [
    "Keyword arguments: Keyword arguments are passed to a function using their corresponding parameter names. Instead of relying on the order, you explicitly mention the parameter names and assign the values to them.\n",
    "Here's an example using keyword arguments:"
   ]
  },
  {
   "cell_type": "code",
   "execution_count": 7,
   "id": "f6e8dbe0-0c51-4f58-872c-302b734e7ab0",
   "metadata": {},
   "outputs": [
    {
     "name": "stdout",
     "output_type": "stream",
     "text": [
      "Hello, Alice! You are 25 years old.\n"
     ]
    }
   ],
   "source": [
    "def greet(name, age):\n",
    "    print(\"Hello, \" + name + \"! You are \" + str(age) + \" years old.\")\n",
    "\n",
    "greet(name=\"Alice\", age=25)\n"
   ]
  },
  {
   "cell_type": "markdown",
   "id": "329a3e53-5e66-4cdd-9257-d12d2338d009",
   "metadata": {},
   "source": [
    "In this example, the function call uses the parameter names name= and age= to assign values to the respective function parameters. The order of the arguments doesn't matter as long as the correct parameter names are used. The function will still print the greeting with the given name and age.\n",
    "\n",
    "Using keyword arguments provides more flexibility as it allows you to explicitly specify which argument corresponds to which parameter, making the function call more readable and reducing the chances of errors due to misplaced arguments."
   ]
  },
  {
   "cell_type": "markdown",
   "id": "1034dc51-d08e-44c4-8873-73923faf6a65",
   "metadata": {},
   "source": [
    "## 3. What is the purpose of the return statement in a function? Can a function have multiple return statements? Explain with an example."
   ]
  },
  {
   "cell_type": "markdown",
   "id": "0f4915cc-d81a-42db-85f1-5c2f31d43a90",
   "metadata": {},
   "source": [
    "he purpose of the return statement in a function is to specify the value or values that the function should produce or provide as its output. When a return statement is encountered, the function immediately exits, and the specified value or values are returned to the caller.\n",
    "\n",
    "The return statement serves multiple purposes:\n",
    "\n",
    "Returning a value: It allows a function to produce a result or a computed value and provide it to the caller. The returned value can be assigned to a variable, used in an expression, or further processed by the calling code.\n",
    "\n",
    "Terminating the function: When a return statement is executed, the function immediately terminates, and the program flow resumes at the point of function invocation.\n",
    "\n",
    "Optional return: A function can also have a return statement without any value, which is used to exit the function and indicate that it does not produce any meaningful result. In such cases, the return statement alone acts as a control flow mechanism.\n",
    "\n",
    "Yes, a function can have multiple return statements. However, once a return statement is encountered, the function execution halts, and the specified value is returned to the caller. This means that only one return statement will be executed during a single function call.\n",
    "\n",
    "Here's an example illustrating multiple return statements in a function:"
   ]
  },
  {
   "cell_type": "code",
   "execution_count": 8,
   "id": "69d99550-d362-4496-9878-ba37a2de5ac2",
   "metadata": {},
   "outputs": [
    {
     "name": "stdout",
     "output_type": "stream",
     "text": [
      "B\n",
      "A\n"
     ]
    }
   ],
   "source": [
    "def get_grade(score):\n",
    "    if score >= 90:\n",
    "        return \"A\"\n",
    "    elif score >= 80:\n",
    "        return \"B\"\n",
    "    elif score >= 70:\n",
    "        return \"C\"\n",
    "    elif score >= 60:\n",
    "        return \"D\"\n",
    "    else:\n",
    "        return \"F\"\n",
    "\n",
    "result1 = get_grade(85)\n",
    "print(result1)  # Output: B\n",
    "\n",
    "result2 = get_grade(92)\n",
    "print(result2)  # Output: A\n"
   ]
  },
  {
   "cell_type": "markdown",
   "id": "c4887a3e-4eae-45c7-be4f-8b8fd2661097",
   "metadata": {},
   "source": [
    "## 4.What are lambda functions in Python? How are they different from regular functions? Provide an example where a lambda function can be useful."
   ]
  },
  {
   "cell_type": "markdown",
   "id": "c3f36fce-afc6-4da3-b18d-53f25d7347a2",
   "metadata": {},
   "source": [
    "In Python, lambda functions, also known as anonymous functions, are small, single-expression functions that don't have a name. They are defined using the lambda keyword and can be used in places where a function object is expected.\n",
    "\n",
    "Here's the syntax of a lambda function:"
   ]
  },
  {
   "cell_type": "code",
   "execution_count": 9,
   "id": "a97f7ad2-9874-4bbb-b068-0e3f3ff261ba",
   "metadata": {},
   "outputs": [
    {
     "data": {
      "text/plain": [
       "<function __main__.<lambda>(arguments)>"
      ]
     },
     "execution_count": 9,
     "metadata": {},
     "output_type": "execute_result"
    }
   ],
   "source": [
    "lambda arguments: expression\n"
   ]
  },
  {
   "cell_type": "markdown",
   "id": "c4b54491-b1ab-44e9-9264-7a8f29c6c897",
   "metadata": {},
   "source": [
    "The lambda function takes a comma-separated list of arguments, followed by a colon (:), and an expression that is evaluated and returned as the result of the function.\n",
    "\n",
    "Lambda functions are different from regular functions in a few ways:\n",
    "\n",
    "Anonymous: Lambda functions don't have a name. They are typically used as a one-liner function and are not meant for complex logic or large code blocks.\n",
    "\n",
    "Single Expression: Lambda functions are limited to a single expression. They can't contain multiple statements or use control flow structures like loops or conditional statements directly. However, you can use conditional expressions (if-else) within the expression itself.\n",
    "\n",
    "Short-lived: Lambda functions are often used for immediate or temporary use, especially in cases where you need to define a simple function on the fly without assigning it a name."
   ]
  },
  {
   "cell_type": "code",
   "execution_count": 10,
   "id": "40537caf-085f-4dce-acee-f8429406594a",
   "metadata": {},
   "outputs": [
    {
     "name": "stdout",
     "output_type": "stream",
     "text": [
      "[2, 4, 6, 8, 10]\n"
     ]
    }
   ],
   "source": [
    "numbers = [1, 2, 3, 4, 5]\n",
    "\n",
    "# Using a lambda function to double each number in the list\n",
    "doubled_numbers = list(map(lambda x: x * 2, numbers))\n",
    "print(doubled_numbers)  # Output: [2, 4, 6, 8, 10]\n"
   ]
  },
  {
   "cell_type": "markdown",
   "id": "aa10ee29-9ba5-44a0-91a9-18967fa849bd",
   "metadata": {},
   "source": [
    "In this example, the map() function is used to apply a lambda function to each element in the numbers list. The lambda function lambda x: x * 2 doubles each element by multiplying it by 2. The result is a new list doubled_numbers that contains the doubled values of the original numbers.\n",
    "\n",
    "In this case, using a lambda function provides a concise way to define the doubling logic without the need for a separate named function. It allows you to perform a simple transformation on each element of a sequence without the overhead of defining a regular function.\n",
    "\n",
    "Lambda functions are particularly useful in functional programming paradigms, where functions can be treated as data and passed as arguments to other functions, such as map(), filter(), or reduce()."
   ]
  },
  {
   "cell_type": "markdown",
   "id": "4f79668b-92ba-4d1e-ba3e-1deb70d6917e",
   "metadata": {},
   "source": [
    "## 5. How does the concept of \"scope\" apply to functions in Python? Explain the difference between local scope and global scope."
   ]
  },
  {
   "cell_type": "markdown",
   "id": "fd95f200-ce68-4c7b-bb40-5acaf1f4fc56",
   "metadata": {},
   "source": [
    "In Python, the concept of \"scope\" refers to the visibility and accessibility of variables within different parts of the code. Scopes determine which parts of the code can access or modify a particular variable. When it comes to functions, there are two main scopes to consider: local scope and global scope.\n",
    "\n",
    "Local Scope: Variables defined within a function have a local scope. They are only accessible within the function in which they are defined. Local variables are created when the function is called and destroyed when the function execution completes."
   ]
  },
  {
   "cell_type": "markdown",
   "id": "6cd60a33-6db0-4f31-bf0f-d01c5b1005bf",
   "metadata": {},
   "source": [
    "Global Scope: Variables defined outside any function or at the top level of a module have a global scope. They are accessible from any part of the code, including functions defined within the module."
   ]
  },
  {
   "cell_type": "code",
   "execution_count": 13,
   "id": "531922ce-9f99-4044-b938-c33ecbfe7b7c",
   "metadata": {},
   "outputs": [
    {
     "name": "stdout",
     "output_type": "stream",
     "text": [
      "10\n",
      "10\n"
     ]
    }
   ],
   "source": [
    "x = 10  # Global variable\n",
    "\n",
    "def my_function():\n",
    "       print(x)\n",
    "\n",
    "my_function()  # Output: 10\n",
    "print(x)  # Output: 10\n"
   ]
  },
  {
   "cell_type": "markdown",
   "id": "7e353fc8-f0ba-4ca0-9eb0-8c8c063598c7",
   "metadata": {},
   "source": [
    "In this example, the variable x is defined outside the my_function() function. It is accessible within the function because it has a global scope. The value of x is printed both inside and outside the function, demonstrating its availability throughout the code."
   ]
  },
  {
   "cell_type": "markdown",
   "id": "b55557d3-5acf-43e0-9fc5-d7ee56feab25",
   "metadata": {},
   "source": [
    "## 6. How can you use the \"return\" statement in a Python function to return multiple values?"
   ]
  },
  {
   "cell_type": "code",
   "execution_count": 14,
   "id": "e23f95f2-2093-47cd-af18-003353a052f1",
   "metadata": {},
   "outputs": [
    {
     "name": "stdout",
     "output_type": "stream",
     "text": [
      "B\n",
      "A\n"
     ]
    }
   ],
   "source": [
    "def get_grade(score):\n",
    "    if score >= 90:\n",
    "        return \"A\"\n",
    "    elif score >= 80:\n",
    "        return \"B\"\n",
    "    elif score >= 70:\n",
    "        return \"C\"\n",
    "    elif score >= 60:\n",
    "        return \"D\"\n",
    "    else:\n",
    "        return \"F\"\n",
    "\n",
    "result1 = get_grade(85)\n",
    "print(result1)  # Output: B\n",
    "\n",
    "result2 = get_grade(92)\n",
    "print(result2)  # Output: A\n"
   ]
  },
  {
   "cell_type": "markdown",
   "id": "5468624e-c6aa-4884-a66c-30c0a564bb9a",
   "metadata": {},
   "source": [
    "## 7. What is the difference between the \"pass by value\" and \"pass by reference\" concepts when it comes to function arguments in Python?"
   ]
  },
  {
   "cell_type": "markdown",
   "id": "75875cab-8bab-4250-a880-a8848c04b63a",
   "metadata": {},
   "source": [
    "In Python, when you pass an argument to a function, you are actually passing a reference to an object in memory. This reference behaves like a \"pointer\" to the object rather than the object itself. The way the object is accessed or modified within the function depends on the nature of the object and the operations performed on it.\n",
    "\n",
    "Immutable objects: Immutable objects, such as numbers, strings, and tuples, cannot be modified once they are created. When you pass an immutable object as an argument to a function, a copy of the reference to that object is made, and this copy is passed to the function. Any changes made to the reference or the object itself within the function will not affect the original object."
   ]
  },
  {
   "cell_type": "code",
   "execution_count": 15,
   "id": "aeeee1f3-fede-4ce0-baf8-687b13b09259",
   "metadata": {},
   "outputs": [
    {
     "name": "stdout",
     "output_type": "stream",
     "text": [
      "5\n"
     ]
    }
   ],
   "source": [
    "def modify_number(num):\n",
    "    num = num + 1\n",
    "\n",
    "x = 5\n",
    "modify_number(x)\n",
    "print(x)  # Output: 5 (unchanged)\n"
   ]
  },
  {
   "cell_type": "markdown",
   "id": "35d94ff3-2d4b-4280-863c-620770465bd2",
   "metadata": {},
   "source": [
    "In this example, the value of x is passed to the modify_number() function. Within the function, a new local variable num is created and assigned the value of x + 1. However, this change does not affect the original variable x outside the function."
   ]
  },
  {
   "cell_type": "markdown",
   "id": "11901886-9620-4eef-94c3-17d0cded9d91",
   "metadata": {},
   "source": [
    "Mutable objects: Mutable objects, such as lists and dictionaries, can be modified in place. When you pass a mutable object as an argument to a function, the reference to the object is still passed, but the object itself can be modified within the function."
   ]
  },
  {
   "cell_type": "code",
   "execution_count": 16,
   "id": "52b32386-0009-4019-9734-882c90195788",
   "metadata": {},
   "outputs": [
    {
     "name": "stdout",
     "output_type": "stream",
     "text": [
      "[1, 2, 3, 4]\n"
     ]
    }
   ],
   "source": [
    "def modify_list(my_list):\n",
    "    my_list.append(4)\n",
    "\n",
    "my_list = [1, 2, 3]\n",
    "modify_list(my_list)\n",
    "print(my_list)  # Output: [1, 2, 3, 4]\n",
    "\n"
   ]
  },
  {
   "cell_type": "markdown",
   "id": "c8ad62a0-05c3-410b-8388-fc04cade5333",
   "metadata": {},
   "source": [
    "In this example, the list my_list is passed to the modify_list() function. Within the function, the append() method is called on the reference to the list, modifying the list by adding an element. This change affects the original list my_list outside the function as well.\n",
    "\n",
    "In both cases, the \"pass by object reference\" mechanism is employed. The difference lies in how the object itself behaves based on its mutability. Immutable objects cannot be modified, so any changes within the function result in the creation of a new object or a new reference, leaving the original object unchanged. Mutable objects can be modified in place, so changes within the function affect the original object.\n",
    "\n",
    "To summarize, Python neither strictly follows the \"pass by value\" nor \"pass by reference\" convention. Instead, it uses a \"pass by object reference\" approach, where the behavior depends on whether the object is mutable or immutable."
   ]
  },
  {
   "cell_type": "markdown",
   "id": "d12d7dc4-349a-447e-af54-cfc8ec8859ff",
   "metadata": {},
   "source": [
    "8. Create a function that can intake integer or decimal value and do following operations:\n",
    "a. Logarithmic function (log x)\n",
    "b. Exponential function (exp(x))\n",
    "c. Power function with base 2 (2\n",
    "x\n",
    ")\n",
    "\n",
    "d. Square root"
   ]
  },
  {
   "cell_type": "code",
   "execution_count": 24,
   "id": "fb8df175-02f1-44eb-b888-503be3e6c7af",
   "metadata": {},
   "outputs": [
    {
     "name": "stdout",
     "output_type": "stream",
     "text": [
      "Logarithmic function log(x) : 1.3862943611198906\n",
      "Exponential function expr(x) : 54.598150033144236\n",
      "Power function with base 2: 16.0\n",
      "Square root of x: 2.0\n"
     ]
    }
   ],
   "source": [
    "import math\n",
    "def operations(x) :\n",
    "    print(\"Logarithmic function log(x) :\", math.log(x))\n",
    "    print(\"Exponential function expr(x) :\", math.exp(x))\n",
    "    print(\"Power function with base 2:\", math.pow(2,x))\n",
    "    print(\"Square root of x:\",math.sqrt(x))\n",
    "\n",
    "operations(4)"
   ]
  },
  {
   "cell_type": "markdown",
   "id": "48283a5d-5e67-49ad-833d-1990540511f5",
   "metadata": {},
   "source": [
    "## 9. Create a function that takes a full name as an argument and returns first name and last name."
   ]
  },
  {
   "cell_type": "code",
   "execution_count": 34,
   "id": "9f142127-19ce-4201-a480-164df79ceb7c",
   "metadata": {},
   "outputs": [
    {
     "data": {
      "text/plain": [
       "'FirstName is Lalitha and LastName is MG'"
      ]
     },
     "execution_count": 34,
     "metadata": {},
     "output_type": "execute_result"
    }
   ],
   "source": [
    "def fullname(string):\n",
    "    list=string.split(sep=\" \")\n",
    "    firstname=list[0]\n",
    "    lastname=list[1]\n",
    "    return f\"FirstName is {firstname} and LastName is {lastname}\"\n",
    "\n",
    "fullname(\"Lalitha MG\")  "
   ]
  }
 ],
 "metadata": {
  "kernelspec": {
   "display_name": "Python 3 (ipykernel)",
   "language": "python",
   "name": "python3"
  },
  "language_info": {
   "codemirror_mode": {
    "name": "ipython",
    "version": 3
   },
   "file_extension": ".py",
   "mimetype": "text/x-python",
   "name": "python",
   "nbconvert_exporter": "python",
   "pygments_lexer": "ipython3",
   "version": "3.10.6"
  }
 },
 "nbformat": 4,
 "nbformat_minor": 5
}
