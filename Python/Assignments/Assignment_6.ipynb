{
 "cells": [
  {
   "cell_type": "markdown",
   "id": "a55bd1d6-9a06-469c-97a8-07df369f2744",
   "metadata": {},
   "source": [
    "### Q.1. What are keywords in python? Using the keyword library, print all the python keywords."
   ]
  },
  {
   "cell_type": "markdown",
   "id": "e9649157-72ed-4fcf-87be-d36decbc6e8d",
   "metadata": {},
   "source": [
    "#### Keywords are the reserved words in python. They have speciifc purpose and cannot be used as variable names.Keywords in Python are reserved words that have predefined meanings and cannot be used as identifiers (variable names, function names, etc.). These keywords are part of the Python language syntax and have specific purposes."
   ]
  },
  {
   "cell_type": "code",
   "execution_count": 1,
   "id": "2a6f3ca1-0656-40f9-b3e1-7b0d8961c4b0",
   "metadata": {},
   "outputs": [
    {
     "data": {
      "text/plain": [
       "['False',\n",
       " 'None',\n",
       " 'True',\n",
       " 'and',\n",
       " 'as',\n",
       " 'assert',\n",
       " 'async',\n",
       " 'await',\n",
       " 'break',\n",
       " 'class',\n",
       " 'continue',\n",
       " 'def',\n",
       " 'del',\n",
       " 'elif',\n",
       " 'else',\n",
       " 'except',\n",
       " 'finally',\n",
       " 'for',\n",
       " 'from',\n",
       " 'global',\n",
       " 'if',\n",
       " 'import',\n",
       " 'in',\n",
       " 'is',\n",
       " 'lambda',\n",
       " 'nonlocal',\n",
       " 'not',\n",
       " 'or',\n",
       " 'pass',\n",
       " 'raise',\n",
       " 'return',\n",
       " 'try',\n",
       " 'while',\n",
       " 'with',\n",
       " 'yield']"
      ]
     },
     "execution_count": 1,
     "metadata": {},
     "output_type": "execute_result"
    }
   ],
   "source": [
    "import keyword\n",
    "keyword.kwlist"
   ]
  },
  {
   "cell_type": "markdown",
   "id": "da52b9dd-9ef8-4af9-9a1c-60ecb1cfe695",
   "metadata": {},
   "source": [
    "### Q.2. What are the rules to create variables in python?"
   ]
  },
  {
   "cell_type": "markdown",
   "id": "6a72cfb8-f2fa-4d8a-9385-c6707b32535b",
   "metadata": {},
   "source": [
    "#### In Python, variables are used to store data values. Here are the rules for creating variables:\n",
    "#### Variable names must start with a letter (a-z, A-Z) or an underscore (_). They cannot start with a number.\n",
    "#### After the initial letter, variable names can contain letters, numbers, or underscores.\n",
    "#### Variable names are case-sensitive, meaning my_variable and My_Variable are different variables.\n",
    "#### Python keywords (reserved words) cannot be used as variable names.\n",
    "#### Variable names should be descriptive and meaningful to enhance code readability.\n",
    "#### Avoid using built-in function or module names as variable names to prevent conflicts.\n",
    "### Underscores can be used to separate words in variable names to improve readability (e.g., my_variable).\n",
    "#### It's generally recommended to use lowercase letters for variable names, following the convention of \"snake_case.\"\n",
    "#### Variable names should not exceed a reasonable length for clarity and ease of use.\n",
    "#### Variables can be assigned values using the assignment operator (=) followed by an expression or value.\n",
    "\n",
    "\n",
    "\n",
    "\n",
    "\n",
    "\n",
    "\n"
   ]
  },
  {
   "cell_type": "markdown",
   "id": "c6a719c7-14b5-4fce-8ff1-99e1cb2cdb2f",
   "metadata": {},
   "source": [
    "### Q.3. What are the standards and conventions followed for the nomenclature of variables in python to improve code readability and maintainability?"
   ]
  },
  {
   "cell_type": "markdown",
   "id": "b95955ab-d67c-49e1-9448-04c0e3f54414",
   "metadata": {},
   "source": [
    "#### In Python, variables are used to store data values. Here are the rules for creating variables:\n",
    "#### Variable names must start with a letter (a-z, A-Z) or an underscore (_). They cannot start with a number.\n",
    "#### After the initial letter, variable names can contain letters, numbers, or underscores.\n",
    "#### Variable names are case-sensitive, meaning my_variable and My_Variable are different variables.\n",
    "#### Python keywords (reserved words) cannot be used as variable names.\n",
    "#### Variable names should be descriptive and meaningful to enhance code readability.\n",
    "#### Avoid using built-in function or module names as variable names to prevent conflicts.\n",
    "### Underscores can be used to separate words in variable names to improve readability (e.g., my_variable).\n",
    "#### It's generally recommended to use lowercase letters for variable names, following the convention of \"snake_case.\"\n",
    "#### Variable names should not exceed a reasonable length for clarity and ease of use.\n",
    "#### Variables can be assigned values using the assignment operator (=) followed by an expression or value."
   ]
  },
  {
   "cell_type": "markdown",
   "id": "22e0d9de-e2bb-44e8-84b9-7c0dcfcf4202",
   "metadata": {},
   "source": [
    "### Q.4. What will happen if a keyword is used as a variable name?"
   ]
  },
  {
   "cell_type": "code",
   "execution_count": 4,
   "id": "66da1283-6cd5-47cc-bf1c-a7beb9249618",
   "metadata": {},
   "outputs": [
    {
     "ename": "SyntaxError",
     "evalue": "invalid syntax (672721405.py, line 1)",
     "output_type": "error",
     "traceback": [
      "\u001b[0;36m  Cell \u001b[0;32mIn [4], line 1\u001b[0;36m\u001b[0m\n\u001b[0;31m    class = \"Data Science\"\u001b[0m\n\u001b[0m          ^\u001b[0m\n\u001b[0;31mSyntaxError\u001b[0m\u001b[0;31m:\u001b[0m invalid syntax\n"
     ]
    }
   ],
   "source": [
    "class = \"Data Science\""
   ]
  },
  {
   "cell_type": "code",
   "execution_count": 5,
   "id": "54bab8b8-46a7-4cfb-a620-5bf06bcb84b5",
   "metadata": {},
   "outputs": [],
   "source": [
    "classs = \"Data Science\""
   ]
  },
  {
   "cell_type": "markdown",
   "id": "cebbb7f7-248a-426e-85f3-a83fdfcaf34c",
   "metadata": {},
   "source": [
    "#### If a keyword is used as a variable name in Python, it will result in a syntax error. Keywords are reserved words that have predefined meanings in the Python language, and they cannot be used as identifiers (variable names, function names, etc.)."
   ]
  },
  {
   "cell_type": "markdown",
   "id": "b3a0abba-6987-4914-b14b-56e75e2cd5af",
   "metadata": {},
   "source": [
    "### Q.5. For what purpose def keyword is used?"
   ]
  },
  {
   "cell_type": "markdown",
   "id": "8719c0ac-9198-4caf-b457-716f16213c90",
   "metadata": {},
   "source": [
    "#### def keyword is used to define function.  Functions are blocks of reusable code that perform a specific task when called. The def keyword, followed by the function name and a set of parentheses, is used to define a function and specify its parameters."
   ]
  },
  {
   "cell_type": "markdown",
   "id": "e1318c20-51ea-4dba-9663-3462a04d608c",
   "metadata": {},
   "source": [
    "### Q.6. What is the operation of this special character ‘\\’?"
   ]
  },
  {
   "cell_type": "markdown",
   "id": "9f1bc27d-8743-4939-b945-05a6450c8dcc",
   "metadata": {},
   "source": [
    "#### \\ is the escape sequence character used to \n",
    "#### 1) Suppress the special meaning of the character\n",
    "#### 2) Apply special meaning to the character"
   ]
  },
  {
   "cell_type": "markdown",
   "id": "6848bf9f-f2a9-4dbf-8883-9754c2d89587",
   "metadata": {},
   "source": [
    "The special character \\ in Python is known as the escape character. It is used to escape or indicate special characters or sequences within strings or other literals. The backslash \\ is followed by another character to form an escape sequence that represents a special meaning.\n",
    "\n",
    "Here are some common uses and escape sequences with the backslash character:\n",
    "\n",
    "Escape characters:\n",
    "\n",
    "\\\\: Represents a literal backslash.\n",
    "\\\": Represents a double quotation mark within a string.\n",
    "\\': Represents a single quotation mark within a string.\n",
    "\\n: Represents a newline character.\n",
    "\\t: Represents a tab character.\n",
    "\\r: Represents a carriage return.\n",
    "\\b: Represents a backspace character.\n",
    "\\f: Represents a form feed.\n",
    "Unicode and special characters:\n",
    "\n",
    "\\uXXXX: Represents a Unicode character using its 4-digit hexadecimal value (e.g., \\u0020 represents a space character).\n",
    "\\UXXXXXXXX: Represents a Unicode character using its 8-digit hexadecimal value (e.g., \\U0001F600 represents the grinning face emoji).\n",
    "Raw strings:\n",
    "\n",
    "r\"text\": Creates a raw string where backslashes are treated as literal characters, useful for regular expressions or file paths."
   ]
  },
  {
   "cell_type": "code",
   "execution_count": 7,
   "id": "3c17e9cc-bd19-4559-a049-fc2172beb385",
   "metadata": {},
   "outputs": [
    {
     "name": "stdout",
     "output_type": "stream",
     "text": [
      "This is a backslash: \\\n",
      "She said, \"Hello!\"\n",
      "Hello\n",
      "World\n",
      "Python\tProgramming\n",
      "Ω\n",
      "😀\n",
      "C:\\path\\to\\file.txt\n"
     ]
    }
   ],
   "source": [
    "# Escaping characters\n",
    "print(\"This is a backslash: \\\\\")\n",
    "print(\"She said, \\\"Hello!\\\"\")\n",
    "\n",
    "# Newline and tab characters\n",
    "print(\"Hello\\nWorld\")\n",
    "print(\"Python\\tProgramming\")\n",
    "\n",
    "# Unicode characters\n",
    "print(\"\\u03A9\")  # Greek capital letter Omega\n",
    "print(\"\\U0001F600\")  # Grinning face emoji\n",
    "\n",
    "# Raw string\n",
    "print(r\"C:\\path\\to\\file.txt\")\n"
   ]
  },
  {
   "cell_type": "markdown",
   "id": "d29257d5-cbc2-416a-a080-69effe558af4",
   "metadata": {},
   "source": [
    "Q.9. Write a code to create the given structure using only for loop.\n",
    "*\n",
    "***\n",
    "*****\n",
    "*******\n",
    "*********"
   ]
  },
  {
   "cell_type": "code",
   "execution_count": 4,
   "id": "c79d1c30-8133-432c-960b-c44c29525057",
   "metadata": {},
   "outputs": [
    {
     "name": "stdout",
     "output_type": "stream",
     "text": [
      "                     * \n",
      "                   * * * \n",
      "                 * * * * * \n",
      "               * * * * * * * \n",
      "             * * * * * * * * * \n"
     ]
    }
   ],
   "source": [
    "n=20\n",
    "for i in range(1,10,2) :\n",
    "    print(' '*n,end=\" \")\n",
    "    print(\"* \"*i)\n",
    "    n=n-2"
   ]
  },
  {
   "cell_type": "code",
   "execution_count": 14,
   "id": "d21dc68a-3133-46b2-a457-1b8a0af86bd3",
   "metadata": {},
   "outputs": [
    {
     "name": "stdout",
     "output_type": "stream",
     "text": [
      "  * * * * * * * * * * \n",
      "   * * * * * * * * * \n",
      "    * * * * * * * * \n",
      "     * * * * * * * \n",
      "      * * * * * * \n",
      "       * * * * * \n",
      "        * * * * \n",
      "         * * * \n",
      "          * * \n",
      "           * \n"
     ]
    }
   ],
   "source": [
    "n=1\n",
    "for i in range(10,0,-1) :\n",
    "    print(' '*n,end=\" \")\n",
    "    print(\"* \"*i)\n",
    "    n=n+1"
   ]
  },
  {
   "cell_type": "markdown",
   "id": "3f4b8cd5-20ce-429d-ad46-1153797adbcf",
   "metadata": {},
   "source": [
    "Q.10. Write a code to create the given structure using while loop.\n",
    "|||||||||\n",
    "|||||||\n",
    "|||||\n",
    "|||\n",
    "|"
   ]
  },
  {
   "cell_type": "code",
   "execution_count": 4,
   "id": "88353017-f781-40cf-81dd-eb7941cdb94c",
   "metadata": {},
   "outputs": [
    {
     "name": "stdout",
     "output_type": "stream",
     "text": [
      "\n",
      "| | | | | | | | | \n",
      "| | | | | | | \n",
      "| | | | | \n",
      "| | | \n",
      "| \n",
      "~~\n",
      "~~~~\n",
      "~~~~~~\n",
      "~~~~~~~~\n"
     ]
    }
   ],
   "source": [
    "s=0\n",
    "n=9\n",
    "while s < 9:\n",
    "    print(\"~\"*s)\n",
    "    while n > 0:\n",
    "        print(\"| \"*n)\n",
    "        n=n-2\n",
    "    s=s+2"
   ]
  },
  {
   "cell_type": "code",
   "execution_count": 7,
   "id": "35bf5ac9-b0d3-4737-9296-ebe740ef8c00",
   "metadata": {},
   "outputs": [
    {
     "name": "stdout",
     "output_type": "stream",
     "text": [
      " | | | | | | | | | \n",
      "   | | | | | | | \n",
      "     | | | | | \n",
      "       | | | \n",
      "         | \n"
     ]
    }
   ],
   "source": [
    "s=0\n",
    "n=9\n",
    "while s < 9:\n",
    "    while n > 0:\n",
    "        print(\" \"*s,end=\" \")\n",
    "        print(\"| \"*n)\n",
    "        n=n-2\n",
    "        s=s+2"
   ]
  },
  {
   "cell_type": "markdown",
   "id": "9f422e88-6a43-4cb0-acb0-7c1301c375d4",
   "metadata": {},
   "source": [
    "Q.7. Give an example of the following conditions:\n",
    "(i) Homogeneous list\n",
    "(ii) Heterogeneous set\n",
    "(iii) Homogeneous tuple"
   ]
  },
  {
   "cell_type": "markdown",
   "id": "d0e5a02f-0eeb-480c-a37d-80d7f56814a3",
   "metadata": {},
   "source": [
    "(i) Homogeneous list:\n",
    "An example of a homogeneous list is a list of strings:\n",
    "\n",
    "[\"apple\", \"banana\", \"orange\", \"grape\"]\n",
    "\n",
    "In this example, all the elements in the list are of the same type (string) and have similar properties, making it a homogeneous list.\n",
    "\n",
    "(ii) Heterogeneous set:\n",
    "An example of a heterogeneous set is a set that contains elements of different types:\n",
    "\n",
    "{1, \"apple\", True, 3.14}\n",
    "\n",
    "In this example, the set contains an integer (1), a string (\"apple\"), a boolean value (True), and a floating-point number (3.14). The elements are not of the same type, so it is a heterogeneous set.\n",
    "\n",
    "(iii) Homogeneous tuple:\n",
    "An example of a homogeneous tuple is a tuple of integers:\n",
    "\n",
    "(10, 20, 30, 40, 50)\n",
    "\n",
    "In this example, all the elements in the tuple are of the same type (integer) and have similar properties, making it a homogeneous tuple.\n",
    "\n",
    "\n",
    "\n",
    "\n",
    "\n"
   ]
  },
  {
   "cell_type": "markdown",
   "id": "6f8587d5-7fe6-4cf9-8fb5-0f60b8d677da",
   "metadata": {},
   "source": [
    "Q.8. Explain the mutable and immutable data types with proper explanation & examples."
   ]
  },
  {
   "cell_type": "markdown",
   "id": "22494282-0218-4746-9c36-fece35f1d55f",
   "metadata": {},
   "source": [
    "In programming, data types can be classified as either mutable or immutable based on whether their values can be changed after they are created. "
   ]
  },
  {
   "cell_type": "markdown",
   "id": "358e8579-3905-4f24-bac1-b4dc3a06ec7c",
   "metadata": {},
   "source": [
    "Mutable Data Types:\n",
    "Mutable data types are those that can be modified or changed after they are created. When you make changes to a mutable object, it retains the same identity but may have different values. Examples of mutable data types include lists, dictionaries, and sets."
   ]
  },
  {
   "cell_type": "code",
   "execution_count": 9,
   "id": "5f6ae607-e736-44f8-9153-df6f63cfdcbf",
   "metadata": {},
   "outputs": [
    {
     "name": "stdout",
     "output_type": "stream",
     "text": [
      "[1, 2, 3]\n",
      "[1, 2, 3, 4]\n"
     ]
    }
   ],
   "source": [
    "my_list = [1, 2, 3]\n",
    "print(my_list)\n",
    "my_list.append(4)  # Modifying the list by adding an element\n",
    "print(my_list)  # Output: [1, 2, 3, 4]\n"
   ]
  },
  {
   "cell_type": "markdown",
   "id": "2d6a7d91-716e-4aec-91b8-604ca694655c",
   "metadata": {},
   "source": [
    "In the example above, the list my_list can be modified by appending an element using the append() method. The list retains the same identity, but its value changes as a new element is added."
   ]
  },
  {
   "cell_type": "markdown",
   "id": "51c59147-37d7-4144-9db6-4896a003fef7",
   "metadata": {},
   "source": [
    "Immutable Data Types:\n",
    "Immutable data types, on the other hand, are those whose values cannot be modified after they are created. Any operation that appears to modify an immutable object actually creates a new object with the desired changes, leaving the original object unchanged. Examples of immutable data types include strings, numbers (integers, floats), and tuples."
   ]
  },
  {
   "cell_type": "code",
   "execution_count": 14,
   "id": "eb986603-d456-4b5d-bc7b-1de5f5869e27",
   "metadata": {},
   "outputs": [
    {
     "name": "stdout",
     "output_type": "stream",
     "text": [
      "HELLO\n",
      "Hello\n"
     ]
    }
   ],
   "source": [
    "my_string = \"Hello\"\n",
    "modified_string = my_string.upper()  # Creating a new string with modifications\n",
    "print(modified_string)  # Output: \"HELLO\"\n",
    "print(my_string)  # Output: \"Hello\"\n"
   ]
  },
  {
   "cell_type": "markdown",
   "id": "ba970902-5967-4864-9bc0-349fc59e5627",
   "metadata": {},
   "source": [
    "In the example above, the original string my_string remains unchanged when we use the upper() method to create a new string modified_string with all uppercase characters. The immutable nature of strings ensures that the original string cannot be modified directly."
   ]
  },
  {
   "cell_type": "markdown",
   "id": "9c2386b6-a656-428b-bde4-301e6ef55fb2",
   "metadata": {},
   "source": [
    "Immutable data types are useful in scenarios where data integrity and consistency are important. They allow for safer sharing and referencing of values, as they cannot be inadvertently changed by multiple parts of a program.\n",
    "\n",
    "It's worth noting that even though an immutable object cannot be modified after creation, a new object can always be created based on the original one with the desired modifications.\n",
    "\n",
    "In summary, mutable data types can be modified directly after creation, while immutable data types cannot. Understanding the mutability or immutability of data types is crucial for correctly handling and manipulating data in programming.\n",
    "\n",
    "\n",
    "\n",
    "\n",
    "\n"
   ]
  },
  {
   "cell_type": "code",
   "execution_count": null,
   "id": "83c608ff-206d-4edd-a0e5-6cc07aefc4b5",
   "metadata": {},
   "outputs": [],
   "source": []
  }
 ],
 "metadata": {
  "kernelspec": {
   "display_name": "Python 3 (ipykernel)",
   "language": "python",
   "name": "python3"
  },
  "language_info": {
   "codemirror_mode": {
    "name": "ipython",
    "version": 3
   },
   "file_extension": ".py",
   "mimetype": "text/x-python",
   "name": "python",
   "nbconvert_exporter": "python",
   "pygments_lexer": "ipython3",
   "version": "3.10.6"
  }
 },
 "nbformat": 4,
 "nbformat_minor": 5
}
