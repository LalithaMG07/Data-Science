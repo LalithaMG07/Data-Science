{
 "cells": [
  {
   "cell_type": "markdown",
   "id": "508e7914-c96b-4e98-88a2-b7147cb0cd9b",
   "metadata": {},
   "source": [
    "## 1. What is the role of the 'else' block in a try-except statement? Provide an example scenario where it would be useful."
   ]
  },
  {
   "cell_type": "markdown",
   "id": "0379a977-c443-436f-a3ef-389ceb6b64d7",
   "metadata": {},
   "source": [
    "The else block in a try-except statement is optional and provides a way to specify a block of code that should be executed if no exceptions occur in the preceding try block. The else block is executed only if the try block completes without any exceptions being raised.\n",
    "\n",
    "The role of the else block is to separate the code that may raise exceptions from the code that should run only when no exceptions occur. It allows you to differentiate the normal flow of code execution from exception handling."
   ]
  },
  {
   "cell_type": "code",
   "execution_count": 1,
   "id": "bcb33d53-be17-443e-9bd4-ddf39186ae92",
   "metadata": {},
   "outputs": [],
   "source": [
    "def divide_numbers(num1, num2):\n",
    "    try:\n",
    "        result = num1 / num2\n",
    "    except ZeroDivisionError:\n",
    "        print(\"Error: Division by zero is not allowed.\")\n",
    "    else:\n",
    "        print(\"The division is:\", result)\n"
   ]
  },
  {
   "cell_type": "code",
   "execution_count": 2,
   "id": "e1511cd4-25d7-487c-8d85-cbaa87e2b0b8",
   "metadata": {},
   "outputs": [
    {
     "name": "stdout",
     "output_type": "stream",
     "text": [
      "The division is: 2.0\n"
     ]
    }
   ],
   "source": [
    "divide_numbers(10,5)"
   ]
  },
  {
   "cell_type": "markdown",
   "id": "816c3d94-7540-4922-9ab3-bca830e375df",
   "metadata": {},
   "source": [
    "### 2. Can a try-except block be nested inside another try-except block? Explain with an example."
   ]
  },
  {
   "cell_type": "markdown",
   "id": "2122302f-4e8e-4c5b-af8f-7eb59b481f49",
   "metadata": {},
   "source": [
    "Yes, a try-except block can be nested inside another try-except block in Python. This allows for more granular exception handling, where specific types of exceptions can be handled at different levels of code."
   ]
  },
  {
   "cell_type": "code",
   "execution_count": 20,
   "id": "1b2e0c91-f8c2-48fe-a862-ded380b0292c",
   "metadata": {},
   "outputs": [],
   "source": [
    "def divide_numbers(num1, num2):\n",
    "    try:\n",
    "        try:\n",
    "            result = num1 / num2\n",
    "        except ZeroDivisionError:\n",
    "            print(\"Error: Division by zero is not allowed.\")\n",
    "    except TypeError:\n",
    "        print(\"Error: Invalid input types.\")\n",
    "    else:\n",
    "        print(\"The division is:\", result)\n"
   ]
  },
  {
   "cell_type": "code",
   "execution_count": 21,
   "id": "199f31bb-1369-4f9e-a9c5-60f39cd5e1ec",
   "metadata": {},
   "outputs": [
    {
     "name": "stdout",
     "output_type": "stream",
     "text": [
      "The division is: 2.5\n"
     ]
    }
   ],
   "source": [
    "divide_numbers(5,2)"
   ]
  },
  {
   "cell_type": "code",
   "execution_count": 22,
   "id": "84f67727-41ca-45bb-bb4c-586762ce8d36",
   "metadata": {},
   "outputs": [
    {
     "name": "stdout",
     "output_type": "stream",
     "text": [
      "Error: Invalid input types.\n"
     ]
    }
   ],
   "source": [
    "divide_numbers('abc',2)"
   ]
  },
  {
   "cell_type": "markdown",
   "id": "8d915e85-4e06-45c8-b639-b3dfaedb2067",
   "metadata": {},
   "source": [
    "### 3. How can you create a custom exception class in Python? Provide an example that demonstrates its usage."
   ]
  },
  {
   "cell_type": "markdown",
   "id": "8e9d4218-9861-41ac-87f8-6da4530597b8",
   "metadata": {},
   "source": [
    "In Python, you can create a custom exception class by defining a new class that inherits from the built-in Exception class or any of its subclasses. By creating a custom exception class, you can define your own exception types tailored to specific situations or errors that occur in your code."
   ]
  },
  {
   "cell_type": "code",
   "execution_count": 23,
   "id": "7946cb53-2345-40f1-9c45-391bb0dc51d9",
   "metadata": {},
   "outputs": [
    {
     "name": "stdout",
     "output_type": "stream",
     "text": [
      "Custom error occurred: Invalid data: None\n"
     ]
    }
   ],
   "source": [
    "class CustomError(Exception):\n",
    "    pass\n",
    "\n",
    "\n",
    "def process_data(data):\n",
    "    if data is None:\n",
    "        raise CustomError(\"Invalid data: None\")\n",
    "    # Process the data\n",
    "\n",
    "\n",
    "# Usage example\n",
    "try:\n",
    "    data = None\n",
    "    process_data(data)\n",
    "except CustomError as e:\n",
    "    print(\"Custom error occurred:\", str(e))\n"
   ]
  },
  {
   "cell_type": "markdown",
   "id": "3ff5392b-09d9-422d-a273-55891406295c",
   "metadata": {},
   "source": [
    "### 4. What are some common exceptions that are built-in to Python?"
   ]
  },
  {
   "cell_type": "markdown",
   "id": "e39a8ff5-94ae-4559-9d37-0fe560f73aa3",
   "metadata": {},
   "source": [
    "Python provides several built-in exceptions that cover a wide range of common error conditions. Here are some of the commonly used built-in exceptions in Python:\n",
    "\n",
    "SyntaxError: Raised when there is a syntax error in the code.\n",
    "\n",
    "IndentationError: Raised when there is an indentation-related error, such as incorrect or inconsistent indentation.\n",
    "\n",
    "NameError: Raised when a local or global name is not found.\n",
    "\n",
    "TypeError: Raised when an operation or function is applied to an object of an inappropriate type.\n",
    "\n",
    "ValueError: Raised when a function receives an argument of the correct type but an inappropriate value.\n",
    "\n",
    "KeyError: Raised when a dictionary key is not found.\n",
    "\n",
    "IndexError: Raised when an index is out of range.\n",
    "\n",
    "FileNotFoundError: Raised when a file or directory is not found.\n",
    "\n",
    "IOError: Raised when an input/output operation fails, such as when a file cannot be opened or read.\n",
    "\n",
    "ZeroDivisionError: Raised when division or modulo operation is performed with a zero divisor.\n",
    "\n",
    "OverflowError: Raised when the result of an arithmetic operation is too large to be represented.\n",
    "\n",
    "MemoryError: Raised when the program cannot allocate more memory.\n",
    "\n",
    "ImportError: Raised when an import statement fails to import a module.\n",
    "\n",
    "StopIteration: Raised to signal the end of an iterator.\n",
    "\n",
    "KeyboardInterrupt: Raised when the user interrupts the execution with Ctrl+C.\n",
    "\n",
    "These are just a few examples of the built-in exceptions provided by Python. Each exception type has its own specific use case, and they help in identifying and handling different types of errors that can occur during program execution."
   ]
  },
  {
   "cell_type": "markdown",
   "id": "254507eb-88f4-4359-bd94-4bd12c1374e1",
   "metadata": {},
   "source": [
    "### 5. What is logging in Python, and why is it important in software development?"
   ]
  },
  {
   "cell_type": "markdown",
   "id": "f696b518-e16f-4349-bca0-83df99fe07b4",
   "metadata": {},
   "source": [
    "Logging in Python refers to the process of recording and storing log messages during the execution of a program. It involves capturing relevant information about the program's behavior, events, errors, and other important details to aid in debugging, monitoring, and analysis.\n",
    "\n",
    "Logging is important in software development for several reasons:\n",
    "\n",
    "Debugging and Troubleshooting: Logging provides a way to track the flow of execution and identify issues or errors that occur during runtime. By logging relevant information, such as variable values, function calls, or error messages, developers can analyze and debug problems more effectively.\n",
    "\n",
    "Error and Exception Tracking: Logging allows for the recording of error messages and exceptions encountered during program execution. These log messages can provide insights into the cause of errors and help developers diagnose and fix issues in a timely manner.\n",
    "\n",
    "Monitoring and Performance Optimization: Logging can be used to collect data on system behavior, performance metrics, and application usage patterns. This information is valuable for monitoring the health and performance of the software and can aid in identifying bottlenecks or areas for optimization.\n",
    "\n",
    "Audit Trails and Compliance: Logging can serve as an audit trail by capturing important events and actions within a system. This is particularly relevant for applications that handle sensitive data or need to comply with regulatory requirements. Log messages can provide an evidence trail and help track user actions, system changes, and other critical events.\n",
    "\n",
    "Understanding User Behavior: Logging can provide insights into user behavior, usage patterns, and interactions with the application. By logging relevant events, developers and product teams can gain a deeper understanding of how users are using the software and make data-driven decisions for improvements.\n",
    "\n",
    "Python's built-in logging module provides a flexible and powerful logging framework. It allows developers to configure log levels, log to different output destinations (such as files or the console), customize log formats, and control the amount of detail to be logged.\n",
    "\n",
    "By incorporating proper logging practices into software development, developers can enhance the maintainability, reliability, and stability of their applications by effectively capturing and analyzing information about the program's execution and behavior.\n",
    "\n",
    "\n",
    "\n",
    "\n",
    "\n"
   ]
  },
  {
   "cell_type": "markdown",
   "id": "317168b5-fc4a-470a-834b-cacb32d28623",
   "metadata": {},
   "source": [
    "### 6. Explain the purpose of log levels in Python logging and provide examples of when each log level would be appropriate."
   ]
  },
  {
   "cell_type": "markdown",
   "id": "ce15daca-bc64-4495-bda7-a6107d3d406e",
   "metadata": {},
   "source": [
    "Log levels in Python logging provide a way to categorize log messages based on their severity or importance. Different log levels help in organizing and filtering log output based on the desired level of detail or criticality. The logging module in Python provides several built-in log levels, each serving a specific purpose. Here are the common log levels in Python logging, listed in increasing order of severity:\n",
    "\n"
   ]
  },
  {
   "cell_type": "markdown",
   "id": "03f31b6f-6b83-48d6-853d-b0eb453a7d8e",
   "metadata": {},
   "source": [
    "DEBUG: The lowest log level, used for detailed diagnostic information. It is typically used during development and debugging to provide detailed information about the program's execution flow, variable values, and intermediate steps."
   ]
  },
  {
   "cell_type": "code",
   "execution_count": 1,
   "id": "5f0898bb-fb1d-499f-be27-0ee1576f5ffd",
   "metadata": {},
   "outputs": [
    {
     "name": "stderr",
     "output_type": "stream",
     "text": [
      "DEBUG:root:Debugging information\n"
     ]
    }
   ],
   "source": [
    "import logging\n",
    "\n",
    "logging.basicConfig(level=logging.DEBUG)\n",
    "logging.debug(\"Debugging information\")\n"
   ]
  },
  {
   "cell_type": "markdown",
   "id": "49e911e5-49f4-419c-be66-d9e4cd0f3f0c",
   "metadata": {},
   "source": [
    "INFO: Used for general information about the program's execution. It provides high-level information to indicate the progress or major events in the program. It is suitable for capturing important milestones or significant actions that can help understand the program's behavior."
   ]
  },
  {
   "cell_type": "code",
   "execution_count": 2,
   "id": "0a3b14e9-d6f3-4d85-8c9d-4dc8a2d7d2b1",
   "metadata": {},
   "outputs": [
    {
     "name": "stderr",
     "output_type": "stream",
     "text": [
      "INFO:root:Application started\n"
     ]
    }
   ],
   "source": [
    "import logging\n",
    "\n",
    "logging.basicConfig(level=logging.INFO)\n",
    "logging.info(\"Application started\")\n"
   ]
  },
  {
   "cell_type": "markdown",
   "id": "ffd05e67-f25c-4b26-be6c-b13fa80520c0",
   "metadata": {},
   "source": [
    "WARNING: Indicates potentially harmful situations or unexpected events that are not critical but may require attention. Warnings are typically used to notify about non-fatal issues or unusual conditions that may affect the program's behavior."
   ]
  },
  {
   "cell_type": "code",
   "execution_count": 3,
   "id": "038c8d8f-2c23-4118-a858-c07710d2d25e",
   "metadata": {},
   "outputs": [
    {
     "name": "stderr",
     "output_type": "stream",
     "text": [
      "WARNING:root:Disk space is running low\n"
     ]
    }
   ],
   "source": [
    "import logging\n",
    "\n",
    "logging.basicConfig(level=logging.WARNING)\n",
    "logging.warning(\"Disk space is running low\")\n"
   ]
  },
  {
   "cell_type": "markdown",
   "id": "9c4b1424-0cec-4199-9dc8-3350722baa5e",
   "metadata": {},
   "source": [
    "ERROR: Used for reporting errors that caused a particular operation or functionality to fail. Error messages highlight issues that prevented the program from completing a task successfully. They are typically used to capture exceptions or critical failures that may require attention."
   ]
  },
  {
   "cell_type": "code",
   "execution_count": 4,
   "id": "e39546c5-5b51-4519-8bc0-70c75f3ec1b3",
   "metadata": {},
   "outputs": [
    {
     "name": "stderr",
     "output_type": "stream",
     "text": [
      "ERROR:root:Database connection failed\n"
     ]
    }
   ],
   "source": [
    "import logging\n",
    "\n",
    "logging.basicConfig(level=logging.ERROR)\n",
    "logging.error(\"Database connection failed\")\n"
   ]
  },
  {
   "cell_type": "markdown",
   "id": "7de437ea-1f29-4a2e-928d-2de32f06aa7a",
   "metadata": {},
   "source": [
    "CRITICAL: The highest log level, used for capturing severe errors or critical failures that may lead to application instability or shutdown. Critical messages indicate conditions that require immediate attention, as they can potentially lead to data loss or significant impact on the system."
   ]
  },
  {
   "cell_type": "code",
   "execution_count": 5,
   "id": "0e8afbd9-9738-481a-aa3f-389c1b0e5f39",
   "metadata": {},
   "outputs": [
    {
     "name": "stderr",
     "output_type": "stream",
     "text": [
      "CRITICAL:root:System is out of memory\n"
     ]
    }
   ],
   "source": [
    "import logging\n",
    "\n",
    "logging.basicConfig(level=logging.CRITICAL)\n",
    "logging.critical(\"System is out of memory\")\n"
   ]
  },
  {
   "cell_type": "markdown",
   "id": "89f20600-3a35-4406-8924-ee5ba464eb0f",
   "metadata": {},
   "source": [
    "By using appropriate log levels in logging statements, developers can control the level of detail in their log output and focus on the relevant information based on the severity of events or issues. This enables efficient debugging, monitoring, and analysis of the program's behavior and facilitates effective troubleshooting and maintenance of the software."
   ]
  },
  {
   "cell_type": "markdown",
   "id": "2cc143f7-5d2b-4b9f-9915-f2a3454e341d",
   "metadata": {},
   "source": [
    "### 7. What are log formatters in Python logging, and how can you customise the log message format using formatters?"
   ]
  },
  {
   "cell_type": "markdown",
   "id": "cd4060dc-da70-4b6a-a174-10b3ec0668f8",
   "metadata": {},
   "source": [
    "Log formatters in Python logging are used to specify the format of the log messages that are generated by the logging system. They define how the log records should be structured and what information should be included in each log message. Formatters provide flexibility in customizing the appearance and content of log output to suit specific needs."
   ]
  },
  {
   "cell_type": "markdown",
   "id": "3e831c30-8918-4332-ae65-d8acb87b06f1",
   "metadata": {},
   "source": [
    "The logging module in Python provides a Formatter class that allows you to create and configure log formatters. Here's how you can customize the log message format using formatters:"
   ]
  },
  {
   "cell_type": "markdown",
   "id": "70c45091-d40c-43c3-aeb4-7dc59f7dccec",
   "metadata": {},
   "source": [
    "Create a Formatter instance: Instantiate a Formatter object, specifying the desired log message format using a format string."
   ]
  },
  {
   "cell_type": "code",
   "execution_count": 8,
   "id": "417cdb49-18d8-4789-922b-b358ccf148a7",
   "metadata": {},
   "outputs": [
    {
     "name": "stdout",
     "output_type": "stream",
     "text": [
      "<logging.Formatter object at 0x7f0784599c60>\n"
     ]
    }
   ],
   "source": [
    "import logging\n",
    "\n",
    "formatter = logging.Formatter('%(asctime)s - %(levelname)s - %(message)s')\n",
    "formatter\n",
    "\n"
   ]
  },
  {
   "cell_type": "code",
   "execution_count": 10,
   "id": "f4858b95-dce5-48be-abf7-5a59a91a378f",
   "metadata": {},
   "outputs": [
    {
     "data": {
      "text/plain": [
       "<logging.Formatter at 0x7f07843067a0>"
      ]
     },
     "execution_count": 10,
     "metadata": {},
     "output_type": "execute_result"
    }
   ],
   "source": [
    "logging.Formatter('%(asctime)s')"
   ]
  },
  {
   "cell_type": "markdown",
   "id": "c0a9567e-85aa-4ca8-9cf9-b59bce685de9",
   "metadata": {},
   "source": [
    "Associate the formatter with a logger: Set the formatter for a specific logger or handler using the setFormatter() method."
   ]
  },
  {
   "cell_type": "code",
   "execution_count": 11,
   "id": "76a7176d-17fd-4530-a798-ecc2edc1901e",
   "metadata": {},
   "outputs": [],
   "source": [
    "# Returns a logger with the given name\n",
    "logger = logging.getLogger()\n",
    "# Handler class which writes the log records to the Stream\n",
    "handler = logging.StreamHandler()\n",
    "# Set the formatter for the handler\n",
    "handler.setFormatter(formatter)\n",
    "# Add the specified handler to the logger\n",
    "logger.addHandler(handler)\n"
   ]
  },
  {
   "cell_type": "markdown",
   "id": "3fb40dac-8a79-4eff-bb35-3a40280aedc6",
   "metadata": {},
   "source": [
    "In the Python logging module, both the Handler and Logger classes play important roles in the logging process, but they serve different purposes:\n",
    "\n",
    "Logger:\n",
    "\n",
    "The Logger class is responsible for the overall logging functionality. It acts as the central hub for logging operations.\n",
    "Loggers are used to emit log messages and provide the interface for logging methods such as debug(), info(), warning(), error(), and critical().\n",
    "Loggers are organized hierarchically in a logger hierarchy, forming a tree-like structure. Each logger has a name and can have multiple handlers attached to it.\n",
    "Loggers can be customized and configured to control various aspects of logging, such as log level, log propagation, and filtering rules.\n",
    "Handler:\n",
    "\n",
    "The Handler class defines where the log messages are sent or stored. It specifies the destination or output of the log records.\n",
    "Handlers are responsible for formatting and delivering log messages to different targets, such as the console, files, network sockets, or external services.\n",
    "Handlers can be attached to loggers to receive log records emitted by the loggers.\n",
    "Multiple handlers can be associated with a logger to direct log messages to different destinations simultaneously.\n",
    "Different types of handlers are available, including StreamHandler (for console output), FileHandler (for file output), SocketHandler (for network logging), and more.\n",
    "Handlers can have their own log levels, allowing finer-grained control over which log records get processed by each handler.\n",
    "In summary, loggers represent the logical entities that generate log messages, while handlers define where the log messages are sent. Loggers are responsible for emitting log records, and handlers are responsible for receiving and processing those log records.\n",
    "\n",
    "Loggers and handlers work together to establish a flexible and configurable logging system, allowing developers to control the flow, format, and destination of log messages."
   ]
  },
  {
   "cell_type": "markdown",
   "id": "220c21c8-c4b3-4085-b947-75b4a5390306",
   "metadata": {},
   "source": [
    "efine the log message format: Customize the log message format by using format placeholders in the format string. The placeholders will be replaced with the corresponding values from the log record when the log message is generated.\n",
    "\n",
    "%(asctime)s: The timestamp when the log message was created.\n",
    "%(levelname)s: The log level name (e.g., DEBUG, INFO, WARNING, ERROR, CRITICAL).\n",
    "%(message)s: The actual log message.\n",
    "You can include additional placeholders to include other attributes from the log record, such as module name, line number, function name, etc."
   ]
  },
  {
   "cell_type": "code",
   "execution_count": 12,
   "id": "2866d51e-2c11-4817-8355-5dc56c21680c",
   "metadata": {},
   "outputs": [
    {
     "name": "stderr",
     "output_type": "stream",
     "text": [
      "WARNING:root:This is a warning message.\n",
      "2023-06-22 08:52:29,486 - WARNING - This is a warning message.\n",
      "2023-06-22 08:52:29,486 - WARNING - 2781597498 - This is a warning message.\n"
     ]
    }
   ],
   "source": [
    "import logging\n",
    "\n",
    "formatter = logging.Formatter('%(asctime)s - %(levelname)s - %(module)s - %(message)s')\n",
    "\n",
    "logger = logging.getLogger()\n",
    "handler = logging.StreamHandler()\n",
    "handler.setFormatter(formatter)\n",
    "logger.addHandler(handler)\n",
    "\n",
    "logger.warning(\"This is a warning message.\")\n"
   ]
  },
  {
   "cell_type": "markdown",
   "id": "47d9ef0a-e88a-4436-ac04-b36d658ea7c0",
   "metadata": {},
   "source": [
    "### 8. How can you set up logging to capture log messages from multiple modules or classes in a Python application?"
   ]
  },
  {
   "cell_type": "markdown",
   "id": "f573eb24-db76-4380-96b3-a368f6c84cdf",
   "metadata": {},
   "source": [
    "To capture log messages from multiple modules or classes in a Python application, you can set up logging with the following steps:\n",
    "\n",
    "Import the logging module: Begin by importing the logging module, which provides the necessary classes and functions for logging."
   ]
  },
  {
   "cell_type": "code",
   "execution_count": 13,
   "id": "341b466d-b472-4bf9-bd01-715e74f1e20b",
   "metadata": {},
   "outputs": [],
   "source": [
    "import logging\n"
   ]
  },
  {
   "cell_type": "markdown",
   "id": "58e12787-3e27-4091-8746-5ab225513631",
   "metadata": {},
   "source": [
    "Configure the root logger: The root logger is the top-level logger in the logging hierarchy. Configure the root logger with a desired log level and handler(s) to capture log messages from all modules and classes."
   ]
  },
  {
   "cell_type": "code",
   "execution_count": 17,
   "id": "677b1eb2-a5dc-4acb-96e4-c83d3fc9bb92",
   "metadata": {},
   "outputs": [],
   "source": [
    "logging.basicConfig(level=logging.DEBUG, handlers=['StreamHandler','FileHandler'])\n"
   ]
  },
  {
   "cell_type": "markdown",
   "id": "c81ca2e4-3d9f-4b04-87cc-7af6a70a3e43",
   "metadata": {},
   "source": [
    "Replace [...] with the handler(s) you want to use. You can use multiple handlers if needed, such as StreamHandler for console output or FileHandler for file output."
   ]
  },
  {
   "cell_type": "markdown",
   "id": "1451721e-9433-47c8-bde0-2ec861b157f1",
   "metadata": {},
   "source": [
    "Retrieve logger objects in other modules or classes: In each module or class that needs logging, retrieve a logger object using the getLogger() function."
   ]
  },
  {
   "cell_type": "code",
   "execution_count": 18,
   "id": "8cb2a32d-27bc-49f7-b103-5dcb26e25f07",
   "metadata": {},
   "outputs": [],
   "source": [
    "logger = logging.getLogger(__name__)\n"
   ]
  },
  {
   "cell_type": "markdown",
   "id": "c0501331-db6a-4478-a311-ef7e91c06f2f",
   "metadata": {},
   "source": [
    "It is recommended to use the module-level __name__ variable as the logger name, which ensures that log messages are properly attributed to the respective modules or classes."
   ]
  },
  {
   "cell_type": "markdown",
   "id": "d0ed2c72-b372-4344-90c7-c7718a8fb5c9",
   "metadata": {},
   "source": [
    "Log messages in modules or classes: Use the logger object to emit log messages at various log levels in the desired modules or classes."
   ]
  },
  {
   "cell_type": "code",
   "execution_count": 19,
   "id": "c3adf258-e760-4a7a-9d7e-cbd4d02e0e8c",
   "metadata": {},
   "outputs": [
    {
     "name": "stderr",
     "output_type": "stream",
     "text": [
      "DEBUG:__main__:This is a debug message.\n",
      "2023-06-22 08:58:34,610 - DEBUG - This is a debug message.\n",
      "2023-06-22 08:58:34,610 - DEBUG - 4126296409 - This is a debug message.\n",
      "INFO:__main__:This is an info message.\n",
      "2023-06-22 08:58:34,613 - INFO - This is an info message.\n",
      "2023-06-22 08:58:34,613 - INFO - 4126296409 - This is an info message.\n",
      "WARNING:__main__:This is a warning message.\n",
      "2023-06-22 08:58:34,615 - WARNING - This is a warning message.\n",
      "2023-06-22 08:58:34,615 - WARNING - 4126296409 - This is a warning message.\n",
      "ERROR:__main__:This is an error message.\n",
      "2023-06-22 08:58:34,617 - ERROR - This is an error message.\n",
      "2023-06-22 08:58:34,617 - ERROR - 4126296409 - This is an error message.\n",
      "CRITICAL:__main__:This is a critical message.\n",
      "2023-06-22 08:58:34,619 - CRITICAL - This is a critical message.\n",
      "2023-06-22 08:58:34,619 - CRITICAL - 4126296409 - This is a critical message.\n"
     ]
    }
   ],
   "source": [
    "logger.debug(\"This is a debug message.\")\n",
    "logger.info(\"This is an info message.\")\n",
    "logger.warning(\"This is a warning message.\")\n",
    "logger.error(\"This is an error message.\")\n",
    "logger.critical(\"This is a critical message.\")\n"
   ]
  },
  {
   "cell_type": "markdown",
   "id": "75c89f9d-5527-49df-a3c4-454a7040b2c0",
   "metadata": {},
   "source": [
    "With this setup, the log messages emitted from different modules or classes will be captured by the configured handlers and processed according to the specified log level and formatting. By using the same logger name (__name__) in each module or class, the log messages can be easily associated with their respective sources.\n",
    "\n",
    "You can customize the logging configuration further by adding more handlers, adjusting log levels, setting log message formats using formatters, or applying filtering rules based on your specific requirements."
   ]
  },
  {
   "cell_type": "markdown",
   "id": "e41e5ab6-458d-4a93-aa45-d040a17bc685",
   "metadata": {},
   "source": [
    "### What is the difference between the logging and print statements in Python? When should you use logging over print statements in a real-world application?"
   ]
  },
  {
   "cell_type": "markdown",
   "id": "16927647-d073-4d96-bfa1-844def6a1c78",
   "metadata": {},
   "source": [
    "The logging module and print statements in Python serve different purposes and have distinct characteristics. Here are the key differences:\n",
    "\n",
    "Destination: The print statement outputs messages directly to the console or standard output. On the other hand, the logging module provides a flexible mechanism to direct log messages to various destinations, such as the console, files, network sockets, or external services. It allows for centralized and configurable logging.\n",
    "\n",
    "Level of Detail: print statements are typically used for immediate debugging or displaying simple values during development. They often require manual removal or commenting out after the debugging process. In contrast, the logging module allows logging at different log levels, such as DEBUG, INFO, WARNING, ERROR, and CRITICAL. Log levels enable you to control the level of detail in log output, making it easier to filter and manage logs based on the severity of the message.\n",
    "\n",
    "Flexibility and Configurability: The logging module offers extensive configurability options, including log levels, log message formatting, log rotation, and log filtering. It provides a robust logging framework suitable for real-world applications with complex requirements. print statements, on the other hand, are simple and provide immediate output without any additional configuration.\n",
    "\n",
    "Maintenance and Troubleshooting: print statements can be useful for quick and temporary debugging during development. However, they are not suitable for long-term maintenance and may clutter the codebase. The logging module, with proper log messages and log levels, facilitates long-term maintenance, debugging, and troubleshooting. Log messages can be retained, reviewed, and analyzed after the fact to identify and diagnose issues.\n",
    "\n",
    "In a real-world application, it is generally recommended to use the logging module over print statements for the following reasons:\n",
    "\n",
    "Manageability and Control: Logging allows for structured and controlled output, enabling easy management and filtering of log messages based on their severity or relevance. This is particularly important in production environments, where a large volume of logs can be generated.\n",
    "\n",
    "Runtime Monitoring: The logging module allows you to capture runtime information, such as errors, warnings, and critical events, without interfering with the normal execution flow. These logs can be used for monitoring, performance analysis, and auditing purposes.\n",
    "\n",
    "Deployment and Maintenance: With the logging module, you can configure logging behavior without modifying the code. This flexibility allows you to enable/disable logging, change log levels, or redirect log output to different destinations, making it easier to adapt logging to different deployment environments or changing requirements.\n",
    "\n",
    "Separation of Concerns: Using the logging module helps separate the logging concerns from the application logic. This promotes better code organization, modular design, and maintainability.\n",
    "\n",
    "However, there may still be cases where print statements are appropriate, such as quick debugging or exploration during development or for simple scripts where the additional complexity of logging is not necessary.\n",
    "\n",
    "In summary, while print statements are handy for quick debugging or immediate output, the logging module provides a more sophisticated and configurable logging framework that is better suited for real-world applications, offering flexibility, control, and long-term maintenance benefits."
   ]
  },
  {
   "cell_type": "markdown",
   "id": "75c07c3d-3990-45b3-8ef6-b53cfe9f3ea0",
   "metadata": {},
   "source": [
    "10. Write a Python program that logs a message to a file named \"app.log\" with the following requirements:\n",
    "\n",
    "● The log message should be \"Hello, World!\"\n",
    "\n",
    "● The log level should be set to \"INFO.\"\n",
    "\n",
    "● The log file should append new log entries without overwriting previous ones."
   ]
  },
  {
   "cell_type": "code",
   "execution_count": 33,
   "id": "b78afb6f-3afb-4161-b0bc-1e5256c6f64d",
   "metadata": {},
   "outputs": [
    {
     "name": "stderr",
     "output_type": "stream",
     "text": [
      "INFO:__main__:Hello, World!\n",
      "2023-06-22 09:19:02,350 - INFO - Hello, World!\n",
      "2023-06-22 09:19:02,350 - INFO - 693448251 - Hello, World!\n"
     ]
    }
   ],
   "source": [
    "# Import the logging module\n",
    "import logging\n",
    "# Classes - to configure the logger : getlogger ; to configure the file handler : FileHandler ; to configure the format : Formatter\n",
    "\n",
    "#Configure the logger\n",
    "logger=logging.getLogger(__name__) # This returns the logger object\n",
    "logger.setLevel(\"INFO\")\n",
    "\n",
    "# Create a file handler object by instantiating FileHandler class and set its mode to append\n",
    "file_handler=logging.FileHandler(\"app.log\",\"a\")\n",
    "\n",
    "# Configure the formatter for the log message\n",
    "Formatter=logging.Formatter(\"%(asctime)s - %(levelname)s\")\n",
    "file_handler.setFormatter(Formatter)\n",
    "\n",
    "# Add the file handler to the logger\n",
    "logger.addHandler(file_handler)\n",
    "\n",
    "# Log the message\n",
    "logger.info(\"Hello, World!\")"
   ]
  },
  {
   "cell_type": "code",
   "execution_count": 37,
   "id": "c1537806-cdc0-40f5-9d0b-fe046590781e",
   "metadata": {},
   "outputs": [
    {
     "data": {
      "text/plain": [
       "'2023-06-22 09:17:47,968 - INFO\\n2023-06-22 09:17:47,968 - INFO\\n2023-06-22 09:19:02,350 - INFO\\n2023-06-22 09:19:02,350 - INFO\\n2023-06-22 09:19:02,350 - INFO\\n'"
      ]
     },
     "execution_count": 37,
     "metadata": {},
     "output_type": "execute_result"
    }
   ],
   "source": [
    "file=open(\"app.log\",\"r\")\n",
    "file.read()\n"
   ]
  },
  {
   "cell_type": "markdown",
   "id": "9459a7b9-42ba-469a-83dc-0e697c3b3182",
   "metadata": {},
   "source": [
    "### 11. Create a Python program that logs an error message to the console and a file named \"errors.log\" if an exception occurs during the program's execution. The error message should include the exception type and a timestamp."
   ]
  },
  {
   "cell_type": "code",
   "execution_count": 76,
   "id": "9b19c78c-3041-4fa4-8955-bf907f712937",
   "metadata": {},
   "outputs": [
    {
     "name": "stdin",
     "output_type": "stream",
     "text": [
      "Num1 :  2\n",
      "Num2 :  1\n"
     ]
    },
    {
     "name": "stdout",
     "output_type": "stream",
     "text": [
      "2.0\n"
     ]
    }
   ],
   "source": [
    "import logging\n",
    "import datetime\n",
    "\n",
    "# Configure the logger\n",
    "logger = logging.getLogger(__name__)\n",
    "logger.setLevel(logging.ERROR)\n",
    "\n",
    "# Create a console handler and set its level to ERROR\n",
    "console_handler = logging.StreamHandler()\n",
    "console_handler.setLevel(logging.ERROR)\n",
    "\n",
    "# Create a file handler and set its mode to append\n",
    "file_handler = logging.FileHandler(\"errors1.log\", mode=\"a\")\n",
    "file_handler.setLevel(logging.ERROR)\n",
    "\n",
    "# Configure the formatter for the log messages\n",
    "formatter = logging.Formatter(\"%(asctime)s - %(levelname)s - %(message)s\")\n",
    "console_handler.setFormatter(formatter)\n",
    "file_handler.setFormatter(formatter)\n",
    "\n",
    "# Add the handlers to the logger\n",
    "#logger.addHandler(console_handler)\n",
    "logger.addHandler(file_handler)\n",
    "\n",
    "\n",
    "try:\n",
    "    num1=int(input(\"Num1 : \"))\n",
    "    num2=int(input(\"Num2 : \"))\n",
    "    result=num1/num2\n",
    "    #raise ValueError(\"An error occurred\")\n",
    "\n",
    "except Exception as e:\n",
    "    # Log the error message with the exception type and timestamp\n",
    "    error_message = f\"{type(e).__name__}: {e}\"\n",
    "    #logger.error(error_message)\n",
    "    logger.error(error_message)\n",
    "\n",
    "    # Print the error message to the console as well\n",
    "    print(error_message)\n",
    "else:\n",
    "    print(result)\n"
   ]
  },
  {
   "cell_type": "code",
   "execution_count": null,
   "id": "bcf82a36-ee72-43ee-b0a8-9dac50c57a92",
   "metadata": {},
   "outputs": [],
   "source": []
  },
  {
   "cell_type": "code",
   "execution_count": null,
   "id": "9fe109d2-71ae-4f89-9b54-0788bc4ee368",
   "metadata": {},
   "outputs": [],
   "source": []
  }
 ],
 "metadata": {
  "kernelspec": {
   "display_name": "Python 3 (ipykernel)",
   "language": "python",
   "name": "python3"
  },
  "language_info": {
   "codemirror_mode": {
    "name": "ipython",
    "version": 3
   },
   "file_extension": ".py",
   "mimetype": "text/x-python",
   "name": "python",
   "nbconvert_exporter": "python",
   "pygments_lexer": "ipython3",
   "version": "3.10.6"
  }
 },
 "nbformat": 4,
 "nbformat_minor": 5
}
